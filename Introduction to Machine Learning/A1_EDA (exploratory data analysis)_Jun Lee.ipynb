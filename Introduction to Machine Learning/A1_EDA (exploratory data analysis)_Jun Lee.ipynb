{
 "cells": [
  {
   "cell_type": "markdown",
   "id": "a69890b1",
   "metadata": {},
   "source": [
    "### Exploratory data analysis (10pts)\n",
    "\n",
    "There are 5 parts in this notebook. \n",
    "For each analysis, we provide some examples for you to follow. Your task is to conduct your own analysis following the logics provided in the examples, maked as \"Your task\".\n",
    "\n",
    "- **Part-1: Data overview**\n",
    "    > check the #samples, #attributes <br>\n",
    "    > attribute types <br>\n",
    "    \n",
    "- **Part-2: Data cleaning**\n",
    "    > organize attributes into appripriate data types (e.g., numerical, categorical, datatime, text, image, ...) <br>\n",
    "    > missing value and outlier detection <br>\n",
    "    \n",
    "- **Part-3: Data transformation**\n",
    "    > normalize numerical data <br>\n",
    "    > transform text data: tokenization, stemming, and lemmatization <br>\n",
    "    \n",
    "- **Part-4: Feature engineering**\n",
    "    > encode categorical data <br>\n",
    "    > convert DataTime data <br>\n",
    "    > text feature representation <br>\n",
    "\n",
    "- **Part-5: Additional analysis**\n",
    "    > create new features <br>\n",
    "    > colinearty check <br>"
   ]
  },
  {
   "cell_type": "code",
   "execution_count": 1,
   "id": "692bd036",
   "metadata": {},
   "outputs": [],
   "source": [
    "import numpy as np\n",
    "import pandas as pd\n",
    "import matplotlib.pyplot as plt\n",
    "import seaborn as sns"
   ]
  },
  {
   "cell_type": "markdown",
   "id": "0af5ac4f",
   "metadata": {},
   "source": [
    "### Data overview"
   ]
  },
  {
   "cell_type": "code",
   "execution_count": 3,
   "id": "6ae08ebe",
   "metadata": {},
   "outputs": [],
   "source": [
    "# read data from file to a pandas dataframe\n",
    "data_df = pd.read_feather('/Users/minjunlee/Desktop/UChicago/Class/Spring Quarter/machine learning/data/house_sales.ftr') "
   ]
  },
  {
   "cell_type": "code",
   "execution_count": 4,
   "id": "b787489f",
   "metadata": {},
   "outputs": [
    {
     "data": {
      "text/plain": [
       "(164944, 1789)"
      ]
     },
     "execution_count": 4,
     "metadata": {},
     "output_type": "execute_result"
    }
   ],
   "source": [
    "# check the shape of the data frame: row: #samples (short for number of samples), column: #attributes (short for number of attributes)\n",
    "data_df.shape"
   ]
  },
  {
   "cell_type": "code",
   "execution_count": 5,
   "id": "3c2617ca",
   "metadata": {},
   "outputs": [
    {
     "data": {
      "text/html": [
       "<div>\n",
       "<style scoped>\n",
       "    .dataframe tbody tr th:only-of-type {\n",
       "        vertical-align: middle;\n",
       "    }\n",
       "\n",
       "    .dataframe tbody tr th {\n",
       "        vertical-align: top;\n",
       "    }\n",
       "\n",
       "    .dataframe thead th {\n",
       "        text-align: right;\n",
       "    }\n",
       "</style>\n",
       "<table border=\"1\" class=\"dataframe\">\n",
       "  <thead>\n",
       "    <tr style=\"text-align: right;\">\n",
       "      <th></th>\n",
       "      <th>Id</th>\n",
       "      <th>Address</th>\n",
       "      <th>Sold Price</th>\n",
       "      <th>Sold On</th>\n",
       "      <th>Summary</th>\n",
       "      <th>Type</th>\n",
       "      <th>Year built</th>\n",
       "      <th>Heating</th>\n",
       "      <th>Cooling</th>\n",
       "      <th>Parking</th>\n",
       "      <th>...</th>\n",
       "      <th>Well Disclosure</th>\n",
       "      <th>remodeled</th>\n",
       "      <th>DOH2</th>\n",
       "      <th>SerialX</th>\n",
       "      <th>Full Baths</th>\n",
       "      <th>Tax Legal Lot Number</th>\n",
       "      <th>Tax Legal Block Number</th>\n",
       "      <th>Tax Legal Tract Number</th>\n",
       "      <th>Building Name</th>\n",
       "      <th>Zip</th>\n",
       "    </tr>\n",
       "  </thead>\n",
       "  <tbody>\n",
       "    <tr>\n",
       "      <th>0</th>\n",
       "      <td>2080183300</td>\n",
       "      <td>11205 Monterey,</td>\n",
       "      <td>$2,000,000</td>\n",
       "      <td>01/31/20</td>\n",
       "      <td>11205 Monterey, San Martin, CA 95046 is a sing...</td>\n",
       "      <td>SingleFamily</td>\n",
       "      <td>No Data</td>\n",
       "      <td>No Data</td>\n",
       "      <td>No Data</td>\n",
       "      <td>0 spaces</td>\n",
       "      <td>...</td>\n",
       "      <td>None</td>\n",
       "      <td>None</td>\n",
       "      <td>None</td>\n",
       "      <td>None</td>\n",
       "      <td>None</td>\n",
       "      <td>None</td>\n",
       "      <td>None</td>\n",
       "      <td>None</td>\n",
       "      <td>None</td>\n",
       "      <td>95046</td>\n",
       "    </tr>\n",
       "    <tr>\n",
       "      <th>1</th>\n",
       "      <td>20926300</td>\n",
       "      <td>5281 Castle Rd,</td>\n",
       "      <td>$2,100,000</td>\n",
       "      <td>02/25/21</td>\n",
       "      <td>Spectacular Mountain and incredible L.A. City ...</td>\n",
       "      <td>SingleFamily</td>\n",
       "      <td>1951</td>\n",
       "      <td>Central</td>\n",
       "      <td>Central Air, Dual</td>\n",
       "      <td>Driveway, Driveway - Brick</td>\n",
       "      <td>...</td>\n",
       "      <td>None</td>\n",
       "      <td>None</td>\n",
       "      <td>None</td>\n",
       "      <td>None</td>\n",
       "      <td>None</td>\n",
       "      <td>None</td>\n",
       "      <td>None</td>\n",
       "      <td>None</td>\n",
       "      <td>None</td>\n",
       "      <td>91011</td>\n",
       "    </tr>\n",
       "    <tr>\n",
       "      <th>2</th>\n",
       "      <td>19595300</td>\n",
       "      <td>3581 Butcher Dr,</td>\n",
       "      <td>$1,125,000</td>\n",
       "      <td>11/06/19</td>\n",
       "      <td>Eichler Style home! with Santa Clara High! in ...</td>\n",
       "      <td>SingleFamily</td>\n",
       "      <td>1954</td>\n",
       "      <td>Central Forced Air - Gas</td>\n",
       "      <td>Central AC</td>\n",
       "      <td>Garage, Garage - Attached, Covered</td>\n",
       "      <td>...</td>\n",
       "      <td>None</td>\n",
       "      <td>None</td>\n",
       "      <td>None</td>\n",
       "      <td>None</td>\n",
       "      <td>None</td>\n",
       "      <td>None</td>\n",
       "      <td>None</td>\n",
       "      <td>None</td>\n",
       "      <td>None</td>\n",
       "      <td>95051</td>\n",
       "    </tr>\n",
       "    <tr>\n",
       "      <th>3</th>\n",
       "      <td>300472200</td>\n",
       "      <td>2021 N Milpitas Blvd,</td>\n",
       "      <td>$36,250,000</td>\n",
       "      <td>10/02/20</td>\n",
       "      <td>2021 N Milpitas Blvd, Milpitas, CA 95035 is a ...</td>\n",
       "      <td>Apartment</td>\n",
       "      <td>1989</td>\n",
       "      <td>Other</td>\n",
       "      <td>No Data</td>\n",
       "      <td>Mixed, Covered</td>\n",
       "      <td>...</td>\n",
       "      <td>None</td>\n",
       "      <td>None</td>\n",
       "      <td>None</td>\n",
       "      <td>None</td>\n",
       "      <td>None</td>\n",
       "      <td>None</td>\n",
       "      <td>None</td>\n",
       "      <td>None</td>\n",
       "      <td>None</td>\n",
       "      <td>95035</td>\n",
       "    </tr>\n",
       "    <tr>\n",
       "      <th>4</th>\n",
       "      <td>2074492000</td>\n",
       "      <td>LOT 4 Tool Box Spring Rd,</td>\n",
       "      <td>$140,000</td>\n",
       "      <td>10/19/20</td>\n",
       "      <td>Beautiful level lot  dotted with pine trees ro...</td>\n",
       "      <td>VacantLand</td>\n",
       "      <td>No Data</td>\n",
       "      <td>No Data</td>\n",
       "      <td>No Data</td>\n",
       "      <td>0 spaces</td>\n",
       "      <td>...</td>\n",
       "      <td>None</td>\n",
       "      <td>None</td>\n",
       "      <td>None</td>\n",
       "      <td>None</td>\n",
       "      <td>None</td>\n",
       "      <td>None</td>\n",
       "      <td>None</td>\n",
       "      <td>None</td>\n",
       "      <td>None</td>\n",
       "      <td>92561</td>\n",
       "    </tr>\n",
       "  </tbody>\n",
       "</table>\n",
       "<p>5 rows × 1789 columns</p>\n",
       "</div>"
      ],
      "text/plain": [
       "           Id                    Address   Sold Price   Sold On  \\\n",
       "0  2080183300            11205 Monterey,   $2,000,000  01/31/20   \n",
       "1    20926300            5281 Castle Rd,   $2,100,000  02/25/21   \n",
       "2    19595300           3581 Butcher Dr,   $1,125,000  11/06/19   \n",
       "3   300472200      2021 N Milpitas Blvd,  $36,250,000  10/02/20   \n",
       "4  2074492000  LOT 4 Tool Box Spring Rd,     $140,000  10/19/20   \n",
       "\n",
       "                                             Summary          Type Year built  \\\n",
       "0  11205 Monterey, San Martin, CA 95046 is a sing...  SingleFamily    No Data   \n",
       "1  Spectacular Mountain and incredible L.A. City ...  SingleFamily       1951   \n",
       "2  Eichler Style home! with Santa Clara High! in ...  SingleFamily       1954   \n",
       "3  2021 N Milpitas Blvd, Milpitas, CA 95035 is a ...     Apartment       1989   \n",
       "4  Beautiful level lot  dotted with pine trees ro...    VacantLand    No Data   \n",
       "\n",
       "                    Heating            Cooling  \\\n",
       "0                   No Data            No Data   \n",
       "1                   Central  Central Air, Dual   \n",
       "2  Central Forced Air - Gas         Central AC   \n",
       "3                     Other            No Data   \n",
       "4                   No Data            No Data   \n",
       "\n",
       "                              Parking  ... Well Disclosure remodeled  DOH2  \\\n",
       "0                            0 spaces  ...            None      None  None   \n",
       "1          Driveway, Driveway - Brick  ...            None      None  None   \n",
       "2  Garage, Garage - Attached, Covered  ...            None      None  None   \n",
       "3                      Mixed, Covered  ...            None      None  None   \n",
       "4                            0 spaces  ...            None      None  None   \n",
       "\n",
       "  SerialX Full Baths Tax Legal Lot Number Tax Legal Block Number  \\\n",
       "0    None       None                 None                   None   \n",
       "1    None       None                 None                   None   \n",
       "2    None       None                 None                   None   \n",
       "3    None       None                 None                   None   \n",
       "4    None       None                 None                   None   \n",
       "\n",
       "  Tax Legal Tract Number Building Name    Zip  \n",
       "0                   None          None  95046  \n",
       "1                   None          None  91011  \n",
       "2                   None          None  95051  \n",
       "3                   None          None  95035  \n",
       "4                   None          None  92561  \n",
       "\n",
       "[5 rows x 1789 columns]"
      ]
     },
     "execution_count": 5,
     "metadata": {},
     "output_type": "execute_result"
    }
   ],
   "source": [
    "# get an overview of the top-n rows/samples\n",
    "data_df.head()"
   ]
  },
  {
   "cell_type": "markdown",
   "id": "b82d9c08",
   "metadata": {},
   "source": [
    "### Data cleaning"
   ]
  },
  {
   "cell_type": "markdown",
   "id": "c25cd609",
   "metadata": {},
   "source": [
    "#### check missing values"
   ]
  },
  {
   "cell_type": "code",
   "execution_count": 6,
   "id": "c2ef5ca0",
   "metadata": {},
   "outputs": [
    {
     "data": {
      "text/plain": [
       "Id                             0\n",
       "Address                        0\n",
       "Sold Price                    85\n",
       "Sold On                        0\n",
       "Summary                     3117\n",
       "                           ...  \n",
       "Tax Legal Lot Number      164943\n",
       "Tax Legal Block Number    164943\n",
       "Tax Legal Tract Number    164943\n",
       "Building Name             164943\n",
       "Zip                            0\n",
       "Length: 1789, dtype: int64"
      ]
     },
     "execution_count": 6,
     "metadata": {},
     "output_type": "execute_result"
    }
   ],
   "source": [
    "null_sum = data_df.isnull().sum()\n",
    "null_sum"
   ]
  },
  {
   "cell_type": "code",
   "execution_count": 7,
   "id": "90f4cc99",
   "metadata": {},
   "outputs": [],
   "source": [
    "# Drop columns that have at least 30% missing values \n",
    "data_df.drop(columns=data_df.columns[null_sum > len(data_df) * 0.3], inplace=True)"
   ]
  },
  {
   "cell_type": "code",
   "execution_count": 8,
   "id": "063fd277",
   "metadata": {},
   "outputs": [
    {
     "data": {
      "text/plain": [
       "((164944, 32),\n",
       " Index(['Id', 'Address', 'Sold Price', 'Sold On', 'Summary', 'Type',\n",
       "        'Year built', 'Heating', 'Cooling', 'Parking', 'Bedrooms', 'Bathrooms',\n",
       "        'Total interior livable area', 'Total spaces', 'Garage spaces',\n",
       "        'Home type', 'Region', 'Elementary School', 'Elementary School Score',\n",
       "        'Elementary School Distance', 'High School', 'High School Score',\n",
       "        'High School Distance', 'Heating features', 'Parking features',\n",
       "        'Lot size', 'Parcel number', 'Tax assessed value', 'Annual tax amount',\n",
       "        'Listed On', 'Listed Price', 'Zip'],\n",
       "       dtype='object'))"
      ]
     },
     "execution_count": 8,
     "metadata": {},
     "output_type": "execute_result"
    }
   ],
   "source": [
    "# check the remaining columns\n",
    "data_df.shape, data_df.columns"
   ]
  },
  {
   "cell_type": "code",
   "execution_count": 9,
   "id": "2afd8f01",
   "metadata": {},
   "outputs": [
    {
     "data": {
      "text/plain": [
       "Id                             object\n",
       "Address                        object\n",
       "Sold Price                     object\n",
       "Sold On                        object\n",
       "Summary                        object\n",
       "Type                           object\n",
       "Year built                     object\n",
       "Heating                        object\n",
       "Cooling                        object\n",
       "Parking                        object\n",
       "Bedrooms                       object\n",
       "Bathrooms                      object\n",
       "Total interior livable area    object\n",
       "Total spaces                   object\n",
       "Garage spaces                  object\n",
       "Home type                      object\n",
       "Region                         object\n",
       "Elementary School              object\n",
       "Elementary School Score        object\n",
       "Elementary School Distance     object\n",
       "High School                    object\n",
       "High School Score              object\n",
       "High School Distance           object\n",
       "Heating features               object\n",
       "Parking features               object\n",
       "Lot size                       object\n",
       "Parcel number                  object\n",
       "Tax assessed value             object\n",
       "Annual tax amount              object\n",
       "Listed On                      object\n",
       "Listed Price                   object\n",
       "Zip                            object\n",
       "dtype: object"
      ]
     },
     "execution_count": 9,
     "metadata": {},
     "output_type": "execute_result"
    }
   ],
   "source": [
    "# check the data types: columns with mixed types are stored with the object dtype.\n",
    "data_df.dtypes "
   ]
  },
  {
   "cell_type": "markdown",
   "id": "4e14334f",
   "metadata": {},
   "source": [
    "#### organize columns into different data types\n",
    "The .dtype attribute shows that the current data type for each column is \"object\", this is either because the column contains missing values or because it contains values of different types.   \n",
    "\n",
    "We will organize the columns into the following common data types based on the observation (decide the data type based on its values):\n",
    "- Categorical: \n",
    "    > Id, Type, Home type, Region, Elementary School, High School, Parcel number, Zip <br>\n",
    "- Numerical: \n",
    "    > Sold Price, Bedrooms, Bathrooms, Total interior livable area, Total spaces, Garage spaces, Elementary School Score, Elementary School Distance, High School Score, High School Distance, Lot size, Tax assessed value, Annual tax amount, Listed Price <br>\n",
    "- DateTime: \n",
    "    > Sold On, Year built, Listed On <br>\n",
    "- String/Text: \n",
    "    > Address, Summary, Heating, Cooling, Parking, Heating features, Parking features <br>\n",
    "\n",
    "In the following part, we will: \n",
    "- convert the original data into the organized data type \n",
    "- do data processing for the converted data"
   ]
  },
  {
   "cell_type": "markdown",
   "id": "fce4ec35",
   "metadata": {},
   "source": [
    "#### process categorical data"
   ]
  },
  {
   "cell_type": "code",
   "execution_count": 10,
   "id": "22c7ff81",
   "metadata": {},
   "outputs": [
    {
     "data": {
      "text/html": [
       "<div>\n",
       "<style scoped>\n",
       "    .dataframe tbody tr th:only-of-type {\n",
       "        vertical-align: middle;\n",
       "    }\n",
       "\n",
       "    .dataframe tbody tr th {\n",
       "        vertical-align: top;\n",
       "    }\n",
       "\n",
       "    .dataframe thead th {\n",
       "        text-align: right;\n",
       "    }\n",
       "</style>\n",
       "<table border=\"1\" class=\"dataframe\">\n",
       "  <thead>\n",
       "    <tr style=\"text-align: right;\">\n",
       "      <th></th>\n",
       "      <th>Id</th>\n",
       "      <th>Type</th>\n",
       "      <th>Home type</th>\n",
       "      <th>Region</th>\n",
       "      <th>Elementary School</th>\n",
       "      <th>High School</th>\n",
       "      <th>Parcel number</th>\n",
       "      <th>Zip</th>\n",
       "    </tr>\n",
       "  </thead>\n",
       "  <tbody>\n",
       "    <tr>\n",
       "      <th>0</th>\n",
       "      <td>2080183300</td>\n",
       "      <td>SingleFamily</td>\n",
       "      <td>SingleFamily</td>\n",
       "      <td>San Martin</td>\n",
       "      <td>Rucker Elementary School</td>\n",
       "      <td>Christopher High School</td>\n",
       "      <td>NaN</td>\n",
       "      <td>95046</td>\n",
       "    </tr>\n",
       "    <tr>\n",
       "      <th>1</th>\n",
       "      <td>20926300</td>\n",
       "      <td>SingleFamily</td>\n",
       "      <td>SingleFamily</td>\n",
       "      <td>La Canada Flintridge</td>\n",
       "      <td>Mountain Avenue Elementary School</td>\n",
       "      <td>Crescenta Valley High School</td>\n",
       "      <td>5870016003</td>\n",
       "      <td>91011</td>\n",
       "    </tr>\n",
       "    <tr>\n",
       "      <th>2</th>\n",
       "      <td>19595300</td>\n",
       "      <td>SingleFamily</td>\n",
       "      <td>SingleFamily</td>\n",
       "      <td>Santa Clara</td>\n",
       "      <td>Pomeroy Elementary School</td>\n",
       "      <td>Santa Clara High School</td>\n",
       "      <td>29022100</td>\n",
       "      <td>95051</td>\n",
       "    </tr>\n",
       "    <tr>\n",
       "      <th>3</th>\n",
       "      <td>300472200</td>\n",
       "      <td>Apartment</td>\n",
       "      <td>Apartment</td>\n",
       "      <td>Milpitas</td>\n",
       "      <td>Joseph Weller Elementary School</td>\n",
       "      <td>Milpitas High School</td>\n",
       "      <td>02201015</td>\n",
       "      <td>95035</td>\n",
       "    </tr>\n",
       "    <tr>\n",
       "      <th>4</th>\n",
       "      <td>2074492000</td>\n",
       "      <td>VacantLand</td>\n",
       "      <td>NaN</td>\n",
       "      <td>Mountain Center</td>\n",
       "      <td>Mcsweeny Elementary School</td>\n",
       "      <td>West Valley High School</td>\n",
       "      <td>NaN</td>\n",
       "      <td>92561</td>\n",
       "    </tr>\n",
       "    <tr>\n",
       "      <th>...</th>\n",
       "      <td>...</td>\n",
       "      <td>...</td>\n",
       "      <td>...</td>\n",
       "      <td>...</td>\n",
       "      <td>...</td>\n",
       "      <td>...</td>\n",
       "      <td>...</td>\n",
       "      <td>...</td>\n",
       "    </tr>\n",
       "    <tr>\n",
       "      <th>164939</th>\n",
       "      <td>72555199</td>\n",
       "      <td>Condo</td>\n",
       "      <td>Condo</td>\n",
       "      <td>Richmond</td>\n",
       "      <td>Washington Elementary School</td>\n",
       "      <td>Kennedy High School</td>\n",
       "      <td>5607700878</td>\n",
       "      <td>94804</td>\n",
       "    </tr>\n",
       "    <tr>\n",
       "      <th>164940</th>\n",
       "      <td>94643599</td>\n",
       "      <td>Condo</td>\n",
       "      <td>Condo</td>\n",
       "      <td>Los Angeles</td>\n",
       "      <td>Charles H. Kim Elementary School</td>\n",
       "      <td>NaN</td>\n",
       "      <td>5503030207</td>\n",
       "      <td>90010</td>\n",
       "    </tr>\n",
       "    <tr>\n",
       "      <th>164941</th>\n",
       "      <td>300479799</td>\n",
       "      <td>Condo</td>\n",
       "      <td>Condo</td>\n",
       "      <td>Mountain View</td>\n",
       "      <td>Edith Landels Elementary School</td>\n",
       "      <td>Mountain View High School</td>\n",
       "      <td>16088037</td>\n",
       "      <td>94043</td>\n",
       "    </tr>\n",
       "    <tr>\n",
       "      <th>164942</th>\n",
       "      <td>15504399</td>\n",
       "      <td>SingleFamily</td>\n",
       "      <td>SingleFamily</td>\n",
       "      <td>Pacifica</td>\n",
       "      <td>Cabrillo Elementary School</td>\n",
       "      <td>Jefferson High School</td>\n",
       "      <td>022402090</td>\n",
       "      <td>94044</td>\n",
       "    </tr>\n",
       "    <tr>\n",
       "      <th>164943</th>\n",
       "      <td>16143099</td>\n",
       "      <td>SingleFamily</td>\n",
       "      <td>SingleFamily</td>\n",
       "      <td>Freedom</td>\n",
       "      <td>Calabasas Elementary School</td>\n",
       "      <td>Aptos High School</td>\n",
       "      <td>04921207</td>\n",
       "      <td>95019</td>\n",
       "    </tr>\n",
       "  </tbody>\n",
       "</table>\n",
       "<p>164944 rows × 8 columns</p>\n",
       "</div>"
      ],
      "text/plain": [
       "                Id          Type     Home type                Region  \\\n",
       "0       2080183300  SingleFamily  SingleFamily            San Martin   \n",
       "1         20926300  SingleFamily  SingleFamily  La Canada Flintridge   \n",
       "2         19595300  SingleFamily  SingleFamily           Santa Clara   \n",
       "3        300472200     Apartment     Apartment              Milpitas   \n",
       "4       2074492000    VacantLand           NaN       Mountain Center   \n",
       "...            ...           ...           ...                   ...   \n",
       "164939    72555199         Condo         Condo              Richmond   \n",
       "164940    94643599         Condo         Condo           Los Angeles   \n",
       "164941   300479799         Condo         Condo         Mountain View   \n",
       "164942    15504399  SingleFamily  SingleFamily              Pacifica   \n",
       "164943    16143099  SingleFamily  SingleFamily               Freedom   \n",
       "\n",
       "                        Elementary School                   High School  \\\n",
       "0                Rucker Elementary School       Christopher High School   \n",
       "1       Mountain Avenue Elementary School  Crescenta Valley High School   \n",
       "2               Pomeroy Elementary School       Santa Clara High School   \n",
       "3         Joseph Weller Elementary School          Milpitas High School   \n",
       "4              Mcsweeny Elementary School       West Valley High School   \n",
       "...                                   ...                           ...   \n",
       "164939       Washington Elementary School           Kennedy High School   \n",
       "164940   Charles H. Kim Elementary School                           NaN   \n",
       "164941    Edith Landels Elementary School     Mountain View High School   \n",
       "164942         Cabrillo Elementary School         Jefferson High School   \n",
       "164943        Calabasas Elementary School             Aptos High School   \n",
       "\n",
       "       Parcel number    Zip  \n",
       "0                NaN  95046  \n",
       "1         5870016003  91011  \n",
       "2           29022100  95051  \n",
       "3           02201015  95035  \n",
       "4                NaN  92561  \n",
       "...              ...    ...  \n",
       "164939    5607700878  94804  \n",
       "164940    5503030207  90010  \n",
       "164941      16088037  94043  \n",
       "164942     022402090  94044  \n",
       "164943      04921207  95019  \n",
       "\n",
       "[164944 rows x 8 columns]"
      ]
     },
     "execution_count": 10,
     "metadata": {},
     "output_type": "execute_result"
    }
   ],
   "source": [
    "# Convert the following columns to categorical data types \n",
    "cat_col = ['Id', 'Type', 'Home type', 'Region', 'Elementary School', 'High School', 'Parcel number', 'Zip']\n",
    "data_df[cat_col] = data_df[cat_col].astype('category')\n",
    "data_df[cat_col]"
   ]
  },
  {
   "cell_type": "code",
   "execution_count": 11,
   "id": "77eb7a5a",
   "metadata": {},
   "outputs": [
    {
     "data": {
      "text/plain": [
       "Id                   category\n",
       "Type                 category\n",
       "Home type            category\n",
       "Region               category\n",
       "Elementary School    category\n",
       "High School          category\n",
       "Parcel number        category\n",
       "Zip                  category\n",
       "dtype: object"
      ]
     },
     "execution_count": 11,
     "metadata": {},
     "output_type": "execute_result"
    }
   ],
   "source": [
    "# the following columns now all have the categorical data types\n",
    "data_df[cat_col].dtypes"
   ]
  },
  {
   "cell_type": "markdown",
   "id": "0d5a9676",
   "metadata": {},
   "source": [
    "**check outliers of each categorical feature**\n",
    "- Here we take the \"Type\" column as an example to show the logics"
   ]
  },
  {
   "cell_type": "code",
   "execution_count": 12,
   "id": "34624fa9",
   "metadata": {},
   "outputs": [
    {
     "data": {
      "text/plain": [
       "Type\n",
       "SingleFamily                        102040\n",
       "Condo                                27443\n",
       "MultiFamily                           7346\n",
       "Townhouse                             7108\n",
       "VacantLand                            6199\n",
       "                                     ...  \n",
       "Low-Rise (1-3), Full, Unit Above         1\n",
       "Low-Rise (1-3), Ground Floor             1\n",
       "Low-Rise (1-3), Live/Work                1\n",
       "Low-Rise (1-3), Semi-Attached            1\n",
       "Hi-Rise (9+), Studio                     1\n",
       "Name: count, Length: 317, dtype: int64"
      ]
     },
     "execution_count": 12,
     "metadata": {},
     "output_type": "execute_result"
    }
   ],
   "source": [
    "# count the #samples fall into each category\n",
    "data_df['Type'].value_counts() "
   ]
  },
  {
   "cell_type": "code",
   "execution_count": 13,
   "id": "9c4d944e",
   "metadata": {},
   "outputs": [
    {
     "data": {
      "text/plain": [
       "[<matplotlib.lines.Line2D at 0x129670290>]"
      ]
     },
     "execution_count": 13,
     "metadata": {},
     "output_type": "execute_result"
    },
    {
     "data": {
      "image/png": "[encoded data removed]",
      "text/plain": [
       "<Figure size 640x480 with 1 Axes>"
      ]
     },
     "metadata": {},
     "output_type": "display_data"
    }
   ],
   "source": [
    "# an alternative method to check the #samples in each category\n",
    "plt.plot(data_df['Type'].value_counts().values)"
   ]
  },
  {
   "cell_type": "code",
   "execution_count": 14,
   "id": "a00185af",
   "metadata": {},
   "outputs": [
    {
     "data": {
      "text/plain": [
       "array([102040,  27443,   7346,   7108,   6199,   5849,   3605,   1922,\n",
       "          463,    176,     76,     56,     51,     48,     42,     27,\n",
       "           21,     19,     19,     19,     18,     15,     14,     14,\n",
       "           13,     13,     13,     12,     12,     12,     11,     11,\n",
       "           10,     10,     10,      9,      9,      8,      8,      7,\n",
       "            7,      7,      7,      7,      7,      6,      6,      6,\n",
       "            6,      6,      6,      6,      6,      5,      5,      5,\n",
       "            5,      5,      5,      5,      5,      5,      5,      4,\n",
       "            4,      4,      4,      4,      4,      4,      4,      4,\n",
       "            4,      4,      3,      3,      3,      3,      3,      3,\n",
       "            3,      3,      3,      3,      3,      3,      3,      3,\n",
       "            3,      3,      3,      3,      3,      2,      2,      2,\n",
       "            2,      2,      2,      2,      2,      2,      2,      2,\n",
       "            2,      2,      2,      2,      2,      2,      2,      2,\n",
       "            2,      2,      2,      2,      2,      2,      2,      2,\n",
       "            2,      2,      2,      2,      2,      2,      2,      2,\n",
       "            2,      2,      2,      2,      2,      2,      2,      2,\n",
       "            2,      1,      1,      1,      1,      1,      1,      1,\n",
       "            1,      1,      1,      1,      1,      1,      1,      1,\n",
       "            1,      1,      1,      1,      1,      1,      1,      1,\n",
       "            1,      1,      1,      1,      1,      1,      1,      1,\n",
       "            1,      1,      1,      1,      1,      1,      1,      1,\n",
       "            1,      1,      1,      1,      1,      1,      1,      1,\n",
       "            1,      1,      1,      1,      1,      1,      1,      1,\n",
       "            1,      1,      1,      1,      1,      1,      1,      1,\n",
       "            1,      1,      1,      1,      1,      1,      1,      1,\n",
       "            1,      1,      1,      1,      1,      1,      1,      1,\n",
       "            1,      1,      1,      1,      1,      1,      1,      1,\n",
       "            1,      1,      1,      1,      1,      1,      1,      1,\n",
       "            1,      1,      1,      1,      1,      1,      1,      1,\n",
       "            1,      1,      1,      1,      1,      1,      1,      1,\n",
       "            1,      1,      1,      1,      1,      1,      1,      1,\n",
       "            1,      1,      1,      1,      1,      1,      1,      1,\n",
       "            1,      1,      1,      1,      1,      1,      1,      1,\n",
       "            1,      1,      1,      1,      1,      1,      1,      1,\n",
       "            1,      1,      1,      1,      1,      1,      1,      1,\n",
       "            1,      1,      1,      1,      1,      1,      1,      1,\n",
       "            1,      1,      1,      1,      1,      1,      1,      1,\n",
       "            1,      1,      1,      1,      1,      1,      1,      1,\n",
       "            1,      1,      1,      1,      1])"
      ]
     },
     "execution_count": 14,
     "metadata": {},
     "output_type": "execute_result"
    }
   ],
   "source": [
    "# a closer look at the #samples in each category\n",
    "data_df['Type'].value_counts().values"
   ]
  },
  {
   "cell_type": "markdown",
   "id": "e4eb334e",
   "metadata": {},
   "source": [
    "According to the above observation, we take categories that only have a small #samples as outlier/minority categories. There are typically two ways to deal with the outliers: \n",
    "- We can directly **remove** the outlier categories\n",
    "- We can also **merge** the minority categories with majority ones (example shown below)"
   ]
  },
  {
   "cell_type": "code",
   "execution_count": 15,
   "id": "30c5b8f6",
   "metadata": {},
   "outputs": [
    {
     "data": {
      "text/plain": [
       "CategoricalIndex(['RURLRES', 'Full',\n",
       "                  'Luxury, New Construction, Mid-Rise (4-8)',\n",
       "                  'SINGLE, RURLRES', '4+ Story', 'Apartments', '2 Story, Full',\n",
       "                  'Junior', '1 Story', 'Luxury, 2 Level',\n",
       "                  ...\n",
       "                  '1 Level, Top Floor, Unit Below, Flat', 'Leased Land',\n",
       "                  '1 Level, Top Floor, Unit Below',\n",
       "                  '1 Level, Top Floor, Low-Rise (1-3), Full, Attached',\n",
       "                  'Low-Rise (1-3), End Unit',\n",
       "                  'Low-Rise (1-3), Full, Unit Above',\n",
       "                  'Low-Rise (1-3), Ground Floor', 'Low-Rise (1-3), Live/Work',\n",
       "                  'Low-Rise (1-3), Semi-Attached', 'Hi-Rise (9+), Studio'],\n",
       "                 categories=['1 Level', '1 Level, Attached', '1 Level, Flat', '1 Level, Flat, Low-Rise (1-3)', ..., 'Unit Below, Low-Rise (1-3), Unit Above', 'Unknown', 'Vacant Land', 'VacantLand'], ordered=False, dtype='category', name='Type', length=282)"
      ]
     },
     "execution_count": 15,
     "metadata": {},
     "output_type": "execute_result"
    }
   ],
   "source": [
    "# remove samples whose \"Type\" belongs to the minority categories \n",
    "# our criteria here is to remove categories that have less than 10 samples\n",
    "value_cts = data_df['Type'].value_counts()\n",
    "cat_to_remove = value_cts[value_cts < 10].keys()\n",
    "cat_to_remove"
   ]
  },
  {
   "cell_type": "code",
   "execution_count": 16,
   "id": "e3d7f38e",
   "metadata": {},
   "outputs": [
    {
     "name": "stdout",
     "output_type": "stream",
     "text": [
      "Data size before dropping minority categories: (164944, 32)\n",
      "Data size after dropping minority categories: (164401, 32)\n"
     ]
    }
   ],
   "source": [
    "print(\"Data size before dropping minority categories:\", data_df.shape)\n",
    "data_df.drop(data_df[data_df['Type'].isin(cat_to_remove)].index, inplace=True)\n",
    "print(\"Data size after dropping minority categories:\", data_df.shape)"
   ]
  },
  {
   "cell_type": "code",
   "execution_count": 17,
   "id": "bae287e6",
   "metadata": {},
   "outputs": [
    {
     "data": {
      "text/plain": [
       "Type\n",
       "SingleFamily            102040\n",
       "Condo                    27443\n",
       "MultiFamily               7346\n",
       "Townhouse                 7108\n",
       "VacantLand                6199\n",
       "Unknown                   5849\n",
       "MobileManufactured        3605\n",
       "Apartment                 1922\n",
       "Single Family              463\n",
       "Cooperative                176\n",
       "Residential Lot             76\n",
       "Single Family Lot           56\n",
       "MFD-F                       51\n",
       "Acreage                     48\n",
       "2 Story                     42\n",
       "3 Story                     27\n",
       "Hi-Rise (9+), Luxury        21\n",
       "Duplex                      19\n",
       "RESIDENTIAL                 19\n",
       "Condominium                 19\n",
       "Mid-Rise (4-8)              18\n",
       "31                          15\n",
       "Vacant Land                 14\n",
       "Hi-Rise (9+)                14\n",
       "Low-Rise (1-3)              13\n",
       "Detached                    13\n",
       "Manufactured Home           13\n",
       "Mobile Home                 12\n",
       "3 Story, Duplex             12\n",
       "Detached, 2 Story           12\n",
       "Top Floor                   11\n",
       "Residential Sub Lot         11\n",
       "ACREAGE                     10\n",
       "Lots/Land                   10\n",
       "SINGLE                      10\n",
       "Name: count, dtype: Int64"
      ]
     },
     "execution_count": 17,
     "metadata": {},
     "output_type": "execute_result"
    }
   ],
   "source": [
    "# double check the remaining categories \n",
    "data_df['Type'].astype('string').value_counts()\n",
    "\n",
    "# check what happens if not using astype('string') in the above expression?"
   ]
  },
  {
   "cell_type": "code",
   "execution_count": 18,
   "id": "57736195",
   "metadata": {},
   "outputs": [],
   "source": [
    "# merge minority categories with majority ones (e.g., SINGLE --> SingleFamily, Lots/Land-->VacantLand)\n",
    "data_df['Type'].replace(['SINGLE', 'Lots/Land'],['SingleFamily', 'VacantLand'], inplace=True)"
   ]
  },
  {
   "cell_type": "code",
   "execution_count": 19,
   "id": "decb8e88",
   "metadata": {},
   "outputs": [
    {
     "data": {
      "text/plain": [
       "Type\n",
       "SingleFamily                                    102050\n",
       "Condo                                            27443\n",
       "MultiFamily                                       7346\n",
       "Townhouse                                         7108\n",
       "VacantLand                                        6209\n",
       "                                                 ...  \n",
       "Detached, Fixer Upper                                0\n",
       "Detached, 4+ Story                                   0\n",
       "Detached, 3 Story, Full                              0\n",
       "Detached, 3 Story, Attached                          0\n",
       "Hi-Rise (9+), Luxury, Unit Below, Unit Above         0\n",
       "Name: count, Length: 315, dtype: int64"
      ]
     },
     "execution_count": 19,
     "metadata": {},
     "output_type": "execute_result"
    }
   ],
   "source": [
    "# In the resulting categories, 'SINGLE' is merged with \"SingleFamily\" and 'Lots/Land' is merged with 'VacantLand'\n",
    "data_df['Type'].value_counts()"
   ]
  },
  {
   "cell_type": "markdown",
   "id": "88b2229b",
   "metadata": {},
   "source": [
    "#### task-1 (2pts): categorical data processing\n",
    "Please apply the logic for processing the \"Type\" column to process one of the following columns:\n",
    "- Region\n",
    "- Elementary School\n",
    "- High School\n",
    "\n",
    "*Notes:*\n",
    "- You can decide whether to remove outliers or not and what specific threshold to use, based on your observation and common sense. \n",
    "- You can also decide whether it makes sense to merge multiple categories.\n",
    "- Please write down your thoughts as comments in the corresponding code cell."
   ]
  },
  {
   "cell_type": "code",
   "execution_count": 86,
   "id": "96ad1f33",
   "metadata": {},
   "outputs": [
    {
     "data": {
      "text/plain": [
       "Region\n",
       "Los Angeles       30988\n",
       "San Jose          18290\n",
       "San Francisco     14875\n",
       "Sunnyvale          2707\n",
       "San Mateo          2490\n",
       "                  ...  \n",
       "Lake Sherwood         0\n",
       "Trowbridge            0\n",
       "Firestone Park        0\n",
       "Webster               0\n",
       "Century City          0\n",
       "Name: count, Length: 1433, dtype: int64"
      ]
     },
     "execution_count": 86,
     "metadata": {},
     "output_type": "execute_result"
    }
   ],
   "source": [
    "data_df['Region'].value_counts() "
   ]
  },
  {
   "cell_type": "code",
   "execution_count": 87,
   "id": "b8c6e97d",
   "metadata": {},
   "outputs": [
    {
     "data": {
      "text/plain": [
       "[<matplotlib.lines.Line2D at 0x146ecf8d0>]"
      ]
     },
     "execution_count": 87,
     "metadata": {},
     "output_type": "execute_result"
    },
    {
     "data": {
      "image/png": "[encoded data removed]",
      "text/plain": [
       "<Figure size 640x480 with 1 Axes>"
      ]
     },
     "metadata": {},
     "output_type": "display_data"
    }
   ],
   "source": [
    "plt.plot(data_df['Region'].value_counts().values)"
   ]
  },
  {
   "cell_type": "code",
   "execution_count": 88,
   "id": "0a0eefcb-4511-4ec3-b703-c69fc4efed24",
   "metadata": {},
   "outputs": [
    {
     "data": {
      "text/plain": [
       "array([30988, 18290, 14875, ...,     0,     0,     0])"
      ]
     },
     "execution_count": 88,
     "metadata": {},
     "output_type": "execute_result"
    }
   ],
   "source": [
    "data_df['Region'].value_counts().values"
   ]
  },
  {
   "cell_type": "code",
   "execution_count": 89,
   "id": "ab8e9717-751b-41b6-8c4f-5c984e4c55ac",
   "metadata": {},
   "outputs": [
    {
     "data": {
      "text/plain": [
       "CategoricalIndex(['Eagleville', 'Johannesburg', 'Lakeshore', 'Zamora',\n",
       "                  'Hillsborough', 'Madison', 'Termo', 'Branscomb',\n",
       "                  'Olivehurst', 'Rio Nido',\n",
       "                  ...\n",
       "                  'Hollywood Hills', 'Hartland', 'Hancock Park',\n",
       "                  'State Highway 1', 'Colma', 'Lake Sherwood', 'Trowbridge',\n",
       "                  'Firestone Park', 'Webster', 'Century City'],\n",
       "                 categories=['Acampo', 'Acton', 'Adelanto', 'Adin', ..., 'Yucaipa', 'Yucca Valley', 'Zamora', 'Zenia'], ordered=False, dtype='category', name='Region', length=336)"
      ]
     },
     "execution_count": 89,
     "metadata": {},
     "output_type": "execute_result"
    }
   ],
   "source": [
    "value_cut = data_df['Region'].value_counts()\n",
    "reg_cat_to_remove = value_cut[value_cut < 10].keys()\n",
    "reg_cat_to_remove"
   ]
  },
  {
   "cell_type": "markdown",
   "id": "97c4ff54-26da-4f0d-adba-80f5b348d7c7",
   "metadata": {},
   "source": [
    "I set 10 samples as the threshold like the example did because the data size decreased by 1000 out of approximately 160000 after dropping minority categories, which is neither too small nor too big."
   ]
  },
  {
   "cell_type": "code",
   "execution_count": 90,
   "id": "88696a5b-632f-4907-8b46-e3c558c166e3",
   "metadata": {},
   "outputs": [
    {
     "name": "stdout",
     "output_type": "stream",
     "text": [
      "Data size before dropping minority categories: (159731, 37)\n",
      "Data size after dropping minority categories: (158706, 37)\n"
     ]
    }
   ],
   "source": [
    "print(\"Data size before dropping minority categories:\", data_df.shape)\n",
    "data_df.drop(data_df[data_df['Region'].isin(reg_cat_to_remove)].index, inplace=True)\n",
    "print(\"Data size after dropping minority categories:\", data_df.shape)"
   ]
  },
  {
   "cell_type": "code",
   "execution_count": 91,
   "id": "e01cf4eb",
   "metadata": {},
   "outputs": [
    {
     "name": "stdout",
     "output_type": "stream",
     "text": [
      "Data size before dropping minority categories: (158706, 37)\n",
      "Data size after dropping minority categories: (158706, 37)\n"
     ]
    }
   ],
   "source": [
    "print(\"Data size before dropping minority categories:\", data_df.shape)\n",
    "data_df.drop(data_df[data_df['Region'].isin(reg_cat_to_remove)].index, inplace=True)\n",
    "print(\"Data size after dropping minority categories:\", data_df.shape)"
   ]
  },
  {
   "cell_type": "markdown",
   "id": "fa2c6c43",
   "metadata": {},
   "source": [
    "**Analyze Home type**"
   ]
  },
  {
   "cell_type": "code",
   "execution_count": 20,
   "id": "218d34a9",
   "metadata": {},
   "outputs": [
    {
     "data": {
      "text/plain": [
       "Home type\n",
       "SingleFamily          102677\n",
       "Condo                  27552\n",
       "MultiFamily             7385\n",
       "Townhouse               7102\n",
       "Unknown                 5855\n",
       "MobileManufactured      3625\n",
       "Apartment               1923\n",
       "Cooperative              176\n",
       "Name: count, dtype: int64"
      ]
     },
     "execution_count": 20,
     "metadata": {},
     "output_type": "execute_result"
    }
   ],
   "source": [
    "# The category distribution for \"Home type\" seems reasonable \n",
    "# We will just use it as it is without further processing\n",
    "data_df['Home type'].value_counts()"
   ]
  },
  {
   "cell_type": "markdown",
   "id": "dc9388c6",
   "metadata": {},
   "source": [
    "#### process numerical data"
   ]
  },
  {
   "cell_type": "code",
   "execution_count": 21,
   "id": "e40adf41",
   "metadata": {},
   "outputs": [],
   "source": [
    "num_col = ['Sold Price', 'Bathrooms', 'Total interior livable area', 'Total spaces', 'Garage spaces', \n",
    "           'Elementary School Score', 'Elementary School Distance', 'High School Score', 'High School Distance', \n",
    "           'Lot size', 'Tax assessed value', 'Annual tax amount', 'Listed Price']"
   ]
  },
  {
   "cell_type": "markdown",
   "id": "22bb38be",
   "metadata": {},
   "source": [
    "Convert currency from string format (e.g., $1,000,000) to float. "
   ]
  },
  {
   "cell_type": "code",
   "execution_count": 22,
   "id": "bc4b497d",
   "metadata": {},
   "outputs": [],
   "source": [
    "currency = ['Sold Price', 'Listed Price', 'Tax assessed value', 'Annual tax amount']\n",
    "for c in currency:\n",
    "    data_df[c] = data_df[c].replace(r'[$,-]', '', regex=True).replace(r'^\\s*$', np.nan, regex=True).astype(float)"
   ]
  },
  {
   "cell_type": "markdown",
   "id": "059f2021",
   "metadata": {},
   "source": [
    "Convert areas from string format such as 1000 sqft and 1 Acres to float as well. "
   ]
  },
  {
   "cell_type": "code",
   "execution_count": 23,
   "id": "13d67c9d",
   "metadata": {},
   "outputs": [
    {
     "name": "stdout",
     "output_type": "stream",
     "text": [
      "Total interior livable area\n",
      "Lot size\n"
     ]
    }
   ],
   "source": [
    "areas = ['Total interior livable area', 'Lot size']\n",
    "for c in areas:\n",
    "    print(c)\n",
    "    # attribute measured by Acres\n",
    "    acres = data_df[c].str.contains('Acres') == True\n",
    "    \n",
    "    # e.g., 13,168 sqrt --> 13168\n",
    "    col = data_df[c].replace(r'\\b sqft\\b|\\b Acres\\b|\\b,\\b','', regex=True).astype(float)\n",
    "    \n",
    "    # Acres --> sqft\n",
    "    col[acres] *= 43560\n",
    "    \n",
    "    data_df[c] = col"
   ]
  },
  {
   "cell_type": "markdown",
   "id": "e4fed403",
   "metadata": {},
   "source": [
    "Now we can convert the numerical columns to the \"float\" data type "
   ]
  },
  {
   "cell_type": "code",
   "execution_count": 24,
   "id": "a42f9ede",
   "metadata": {},
   "outputs": [
    {
     "data": {
      "text/html": [
       "<div>\n",
       "<style scoped>\n",
       "    .dataframe tbody tr th:only-of-type {\n",
       "        vertical-align: middle;\n",
       "    }\n",
       "\n",
       "    .dataframe tbody tr th {\n",
       "        vertical-align: top;\n",
       "    }\n",
       "\n",
       "    .dataframe thead th {\n",
       "        text-align: right;\n",
       "    }\n",
       "</style>\n",
       "<table border=\"1\" class=\"dataframe\">\n",
       "  <thead>\n",
       "    <tr style=\"text-align: right;\">\n",
       "      <th></th>\n",
       "      <th>Sold Price</th>\n",
       "      <th>Bathrooms</th>\n",
       "      <th>Total interior livable area</th>\n",
       "      <th>Total spaces</th>\n",
       "      <th>Garage spaces</th>\n",
       "      <th>Elementary School Score</th>\n",
       "      <th>Elementary School Distance</th>\n",
       "      <th>High School Score</th>\n",
       "      <th>High School Distance</th>\n",
       "      <th>Lot size</th>\n",
       "      <th>Tax assessed value</th>\n",
       "      <th>Annual tax amount</th>\n",
       "      <th>Listed Price</th>\n",
       "    </tr>\n",
       "  </thead>\n",
       "  <tbody>\n",
       "    <tr>\n",
       "      <th>0</th>\n",
       "      <td>2000000.0</td>\n",
       "      <td>2.0</td>\n",
       "      <td>2000.0</td>\n",
       "      <td>0.0</td>\n",
       "      <td>0.0</td>\n",
       "      <td>6.0</td>\n",
       "      <td>0.7</td>\n",
       "      <td>6.0</td>\n",
       "      <td>1.4</td>\n",
       "      <td>NaN</td>\n",
       "      <td>NaN</td>\n",
       "      <td>NaN</td>\n",
       "      <td>NaN</td>\n",
       "    </tr>\n",
       "    <tr>\n",
       "      <th>1</th>\n",
       "      <td>2100000.0</td>\n",
       "      <td>3.0</td>\n",
       "      <td>2806.0</td>\n",
       "      <td>2.0</td>\n",
       "      <td>2.0</td>\n",
       "      <td>9.0</td>\n",
       "      <td>0.4</td>\n",
       "      <td>9.0</td>\n",
       "      <td>1.2</td>\n",
       "      <td>13168.0</td>\n",
       "      <td>1829308.0</td>\n",
       "      <td>22330.0</td>\n",
       "      <td>1950000.0</td>\n",
       "    </tr>\n",
       "    <tr>\n",
       "      <th>2</th>\n",
       "      <td>1125000.0</td>\n",
       "      <td>2.0</td>\n",
       "      <td>1517.0</td>\n",
       "      <td>2.0</td>\n",
       "      <td>2.0</td>\n",
       "      <td>4.0</td>\n",
       "      <td>0.6</td>\n",
       "      <td>6.0</td>\n",
       "      <td>0.8</td>\n",
       "      <td>4795.0</td>\n",
       "      <td>1125000.0</td>\n",
       "      <td>13472.0</td>\n",
       "      <td>1299888.0</td>\n",
       "    </tr>\n",
       "    <tr>\n",
       "      <th>3</th>\n",
       "      <td>36250000.0</td>\n",
       "      <td>0.0</td>\n",
       "      <td>98052.0</td>\n",
       "      <td>175.0</td>\n",
       "      <td>175.0</td>\n",
       "      <td>7.0</td>\n",
       "      <td>0.4</td>\n",
       "      <td>9.0</td>\n",
       "      <td>0.9</td>\n",
       "      <td>178596.0</td>\n",
       "      <td>14521205.0</td>\n",
       "      <td>175211.0</td>\n",
       "      <td>NaN</td>\n",
       "    </tr>\n",
       "    <tr>\n",
       "      <th>4</th>\n",
       "      <td>140000.0</td>\n",
       "      <td>NaN</td>\n",
       "      <td>NaN</td>\n",
       "      <td>NaN</td>\n",
       "      <td>NaN</td>\n",
       "      <td>3.0</td>\n",
       "      <td>23.8</td>\n",
       "      <td>5.0</td>\n",
       "      <td>25.8</td>\n",
       "      <td>NaN</td>\n",
       "      <td>NaN</td>\n",
       "      <td>NaN</td>\n",
       "      <td>NaN</td>\n",
       "    </tr>\n",
       "    <tr>\n",
       "      <th>...</th>\n",
       "      <td>...</td>\n",
       "      <td>...</td>\n",
       "      <td>...</td>\n",
       "      <td>...</td>\n",
       "      <td>...</td>\n",
       "      <td>...</td>\n",
       "      <td>...</td>\n",
       "      <td>...</td>\n",
       "      <td>...</td>\n",
       "      <td>...</td>\n",
       "      <td>...</td>\n",
       "      <td>...</td>\n",
       "      <td>...</td>\n",
       "    </tr>\n",
       "    <tr>\n",
       "      <th>164939</th>\n",
       "      <td>563527.0</td>\n",
       "      <td>2.0</td>\n",
       "      <td>959.0</td>\n",
       "      <td>0.0</td>\n",
       "      <td>0.0</td>\n",
       "      <td>3.0</td>\n",
       "      <td>2.5</td>\n",
       "      <td>2.0</td>\n",
       "      <td>1.3</td>\n",
       "      <td>2178.0</td>\n",
       "      <td>486031.0</td>\n",
       "      <td>8243.0</td>\n",
       "      <td>548000.0</td>\n",
       "    </tr>\n",
       "    <tr>\n",
       "      <th>164940</th>\n",
       "      <td>2650000.0</td>\n",
       "      <td>3.0</td>\n",
       "      <td>2400.0</td>\n",
       "      <td>2.0</td>\n",
       "      <td>2.0</td>\n",
       "      <td>6.0</td>\n",
       "      <td>0.5</td>\n",
       "      <td>NaN</td>\n",
       "      <td>NaN</td>\n",
       "      <td>53578.8</td>\n",
       "      <td>2757060.0</td>\n",
       "      <td>33279.0</td>\n",
       "      <td>2750000.0</td>\n",
       "    </tr>\n",
       "    <tr>\n",
       "      <th>164941</th>\n",
       "      <td>1357000.0</td>\n",
       "      <td>NaN</td>\n",
       "      <td>1355.0</td>\n",
       "      <td>2.0</td>\n",
       "      <td>2.0</td>\n",
       "      <td>7.0</td>\n",
       "      <td>1.2</td>\n",
       "      <td>8.0</td>\n",
       "      <td>2.1</td>\n",
       "      <td>1651.0</td>\n",
       "      <td>1356661.0</td>\n",
       "      <td>16427.0</td>\n",
       "      <td>NaN</td>\n",
       "    </tr>\n",
       "    <tr>\n",
       "      <th>164942</th>\n",
       "      <td>1400000.0</td>\n",
       "      <td>3.0</td>\n",
       "      <td>2227.0</td>\n",
       "      <td>0.0</td>\n",
       "      <td>0.0</td>\n",
       "      <td>7.0</td>\n",
       "      <td>2.0</td>\n",
       "      <td>4.0</td>\n",
       "      <td>6.2</td>\n",
       "      <td>5401.0</td>\n",
       "      <td>272767.0</td>\n",
       "      <td>4165.0</td>\n",
       "      <td>1398000.0</td>\n",
       "    </tr>\n",
       "    <tr>\n",
       "      <th>164943</th>\n",
       "      <td>225000.0</td>\n",
       "      <td>2.0</td>\n",
       "      <td>1906.0</td>\n",
       "      <td>0.0</td>\n",
       "      <td>0.0</td>\n",
       "      <td>3.0</td>\n",
       "      <td>0.3</td>\n",
       "      <td>7.0</td>\n",
       "      <td>5.1</td>\n",
       "      <td>7405.0</td>\n",
       "      <td>324003.0</td>\n",
       "      <td>4619.0</td>\n",
       "      <td>NaN</td>\n",
       "    </tr>\n",
       "  </tbody>\n",
       "</table>\n",
       "<p>164401 rows × 13 columns</p>\n",
       "</div>"
      ],
      "text/plain": [
       "        Sold Price  Bathrooms  Total interior livable area  Total spaces  \\\n",
       "0        2000000.0        2.0                       2000.0           0.0   \n",
       "1        2100000.0        3.0                       2806.0           2.0   \n",
       "2        1125000.0        2.0                       1517.0           2.0   \n",
       "3       36250000.0        0.0                      98052.0         175.0   \n",
       "4         140000.0        NaN                          NaN           NaN   \n",
       "...            ...        ...                          ...           ...   \n",
       "164939    563527.0        2.0                        959.0           0.0   \n",
       "164940   2650000.0        3.0                       2400.0           2.0   \n",
       "164941   1357000.0        NaN                       1355.0           2.0   \n",
       "164942   1400000.0        3.0                       2227.0           0.0   \n",
       "164943    225000.0        2.0                       1906.0           0.0   \n",
       "\n",
       "        Garage spaces  Elementary School Score  Elementary School Distance  \\\n",
       "0                 0.0                      6.0                         0.7   \n",
       "1                 2.0                      9.0                         0.4   \n",
       "2                 2.0                      4.0                         0.6   \n",
       "3               175.0                      7.0                         0.4   \n",
       "4                 NaN                      3.0                        23.8   \n",
       "...               ...                      ...                         ...   \n",
       "164939            0.0                      3.0                         2.5   \n",
       "164940            2.0                      6.0                         0.5   \n",
       "164941            2.0                      7.0                         1.2   \n",
       "164942            0.0                      7.0                         2.0   \n",
       "164943            0.0                      3.0                         0.3   \n",
       "\n",
       "        High School Score  High School Distance  Lot size  Tax assessed value  \\\n",
       "0                     6.0                   1.4       NaN                 NaN   \n",
       "1                     9.0                   1.2   13168.0           1829308.0   \n",
       "2                     6.0                   0.8    4795.0           1125000.0   \n",
       "3                     9.0                   0.9  178596.0          14521205.0   \n",
       "4                     5.0                  25.8       NaN                 NaN   \n",
       "...                   ...                   ...       ...                 ...   \n",
       "164939                2.0                   1.3    2178.0            486031.0   \n",
       "164940                NaN                   NaN   53578.8           2757060.0   \n",
       "164941                8.0                   2.1    1651.0           1356661.0   \n",
       "164942                4.0                   6.2    5401.0            272767.0   \n",
       "164943                7.0                   5.1    7405.0            324003.0   \n",
       "\n",
       "        Annual tax amount  Listed Price  \n",
       "0                     NaN           NaN  \n",
       "1                 22330.0     1950000.0  \n",
       "2                 13472.0     1299888.0  \n",
       "3                175211.0           NaN  \n",
       "4                     NaN           NaN  \n",
       "...                   ...           ...  \n",
       "164939             8243.0      548000.0  \n",
       "164940            33279.0     2750000.0  \n",
       "164941            16427.0           NaN  \n",
       "164942             4165.0     1398000.0  \n",
       "164943             4619.0           NaN  \n",
       "\n",
       "[164401 rows x 13 columns]"
      ]
     },
     "execution_count": 24,
     "metadata": {},
     "output_type": "execute_result"
    }
   ],
   "source": [
    "data_df[num_col] = data_df[num_col].astype('float')\n",
    "data_df[num_col]"
   ]
  },
  {
   "cell_type": "code",
   "execution_count": 25,
   "id": "3cfe1a09",
   "metadata": {},
   "outputs": [
    {
     "data": {
      "text/plain": [
       "Sold Price                     float64\n",
       "Bathrooms                      float64\n",
       "Total interior livable area    float64\n",
       "Total spaces                   float64\n",
       "Garage spaces                  float64\n",
       "Elementary School Score        float64\n",
       "Elementary School Distance     float64\n",
       "High School Score              float64\n",
       "High School Distance           float64\n",
       "Lot size                       float64\n",
       "Tax assessed value             float64\n",
       "Annual tax amount              float64\n",
       "Listed Price                   float64\n",
       "dtype: object"
      ]
     },
     "execution_count": 25,
     "metadata": {},
     "output_type": "execute_result"
    }
   ],
   "source": [
    "# the following columns now all have the numerical data types\n",
    "data_df[num_col].dtypes"
   ]
  },
  {
   "cell_type": "markdown",
   "id": "6fd5a1c2",
   "metadata": {},
   "source": [
    "Before moving forward, we will first deal with columns that contain missing values"
   ]
  },
  {
   "cell_type": "code",
   "execution_count": 26,
   "id": "606a19c0",
   "metadata": {},
   "outputs": [
    {
     "data": {
      "text/plain": [
       "85"
      ]
     },
     "execution_count": 26,
     "metadata": {},
     "output_type": "execute_result"
    }
   ],
   "source": [
    "# check the missing values of \"Sold Price\"\n",
    "data_df['Sold Price'].isna().sum()"
   ]
  },
  {
   "cell_type": "code",
   "execution_count": 27,
   "id": "5ab8034d",
   "metadata": {},
   "outputs": [],
   "source": [
    "# we will drop samples where the \"Sold Price\" is missing\n",
    "data_df.drop(data_df[data_df['Sold Price'].isna()].index, inplace=True)"
   ]
  },
  {
   "cell_type": "code",
   "execution_count": 28,
   "id": "a40cc7ad",
   "metadata": {},
   "outputs": [],
   "source": [
    "# for the other numerical columns, we will fill in missing values with the mean of that column\n",
    "for col in num_col:\n",
    "    if col != \"Sold Price\":\n",
    "        data_df[col].fillna(value = data_df[col].mean(), inplace=True)"
   ]
  },
  {
   "cell_type": "code",
   "execution_count": 29,
   "id": "3d2b223c",
   "metadata": {},
   "outputs": [
    {
     "data": {
      "text/html": [
       "<div>\n",
       "<style scoped>\n",
       "    .dataframe tbody tr th:only-of-type {\n",
       "        vertical-align: middle;\n",
       "    }\n",
       "\n",
       "    .dataframe tbody tr th {\n",
       "        vertical-align: top;\n",
       "    }\n",
       "\n",
       "    .dataframe thead th {\n",
       "        text-align: right;\n",
       "    }\n",
       "</style>\n",
       "<table border=\"1\" class=\"dataframe\">\n",
       "  <thead>\n",
       "    <tr style=\"text-align: right;\">\n",
       "      <th></th>\n",
       "      <th>Sold Price</th>\n",
       "      <th>Bathrooms</th>\n",
       "      <th>Total interior livable area</th>\n",
       "      <th>Total spaces</th>\n",
       "      <th>Garage spaces</th>\n",
       "      <th>Elementary School Score</th>\n",
       "      <th>Elementary School Distance</th>\n",
       "      <th>High School Score</th>\n",
       "      <th>High School Distance</th>\n",
       "      <th>Lot size</th>\n",
       "      <th>Tax assessed value</th>\n",
       "      <th>Annual tax amount</th>\n",
       "      <th>Listed Price</th>\n",
       "    </tr>\n",
       "  </thead>\n",
       "  <tbody>\n",
       "    <tr>\n",
       "      <th>count</th>\n",
       "      <td>1.643160e+05</td>\n",
       "      <td>164316.000000</td>\n",
       "      <td>1.643160e+05</td>\n",
       "      <td>164316.000000</td>\n",
       "      <td>164316.000000</td>\n",
       "      <td>164316.000000</td>\n",
       "      <td>164316.000000</td>\n",
       "      <td>164316.000000</td>\n",
       "      <td>164316.000000</td>\n",
       "      <td>1.643160e+05</td>\n",
       "      <td>1.643160e+05</td>\n",
       "      <td>1.643160e+05</td>\n",
       "      <td>1.643160e+05</td>\n",
       "    </tr>\n",
       "    <tr>\n",
       "      <th>mean</th>\n",
       "      <td>1.194219e+06</td>\n",
       "      <td>2.304519</td>\n",
       "      <td>3.186867e+03</td>\n",
       "      <td>1.709715</td>\n",
       "      <td>1.610945</td>\n",
       "      <td>5.654373</td>\n",
       "      <td>1.259436</td>\n",
       "      <td>6.088297</td>\n",
       "      <td>2.571165</td>\n",
       "      <td>9.541787e+05</td>\n",
       "      <td>8.892515e+05</td>\n",
       "      <td>1.122532e+04</td>\n",
       "      <td>1.196487e+06</td>\n",
       "    </tr>\n",
       "    <tr>\n",
       "      <th>std</th>\n",
       "      <td>3.340659e+06</td>\n",
       "      <td>1.527877</td>\n",
       "      <td>4.353466e+05</td>\n",
       "      <td>28.129637</td>\n",
       "      <td>28.110061</td>\n",
       "      <td>1.971735</td>\n",
       "      <td>2.715399</td>\n",
       "      <td>1.902096</td>\n",
       "      <td>3.811468</td>\n",
       "      <td>1.234027e+08</td>\n",
       "      <td>2.937415e+06</td>\n",
       "      <td>3.603940e+04</td>\n",
       "      <td>2.504959e+06</td>\n",
       "    </tr>\n",
       "    <tr>\n",
       "      <th>min</th>\n",
       "      <td>1.000000e+00</td>\n",
       "      <td>0.000000</td>\n",
       "      <td>1.000000e+00</td>\n",
       "      <td>-26.000000</td>\n",
       "      <td>-26.000000</td>\n",
       "      <td>1.000000</td>\n",
       "      <td>0.000000</td>\n",
       "      <td>1.000000</td>\n",
       "      <td>0.000000</td>\n",
       "      <td>0.000000e+00</td>\n",
       "      <td>0.000000e+00</td>\n",
       "      <td>0.000000e+00</td>\n",
       "      <td>1.000000e+00</td>\n",
       "    </tr>\n",
       "    <tr>\n",
       "      <th>25%</th>\n",
       "      <td>4.345315e+05</td>\n",
       "      <td>2.000000</td>\n",
       "      <td>1.218000e+03</td>\n",
       "      <td>0.000000</td>\n",
       "      <td>0.000000</td>\n",
       "      <td>4.000000</td>\n",
       "      <td>0.300000</td>\n",
       "      <td>5.000000</td>\n",
       "      <td>0.900000</td>\n",
       "      <td>5.222000e+03</td>\n",
       "      <td>2.959885e+05</td>\n",
       "      <td>4.008000e+03</td>\n",
       "      <td>5.990000e+05</td>\n",
       "    </tr>\n",
       "    <tr>\n",
       "      <th>50%</th>\n",
       "      <td>8.040000e+05</td>\n",
       "      <td>2.000000</td>\n",
       "      <td>1.671000e+03</td>\n",
       "      <td>1.000000</td>\n",
       "      <td>1.000000</td>\n",
       "      <td>5.654373</td>\n",
       "      <td>0.600000</td>\n",
       "      <td>6.088297</td>\n",
       "      <td>1.600000</td>\n",
       "      <td>7.691000e+03</td>\n",
       "      <td>6.685590e+05</td>\n",
       "      <td>8.749000e+03</td>\n",
       "      <td>1.150000e+06</td>\n",
       "    </tr>\n",
       "    <tr>\n",
       "      <th>75%</th>\n",
       "      <td>1.369000e+06</td>\n",
       "      <td>3.000000</td>\n",
       "      <td>2.580000e+03</td>\n",
       "      <td>2.000000</td>\n",
       "      <td>2.000000</td>\n",
       "      <td>7.000000</td>\n",
       "      <td>1.259436</td>\n",
       "      <td>7.000000</td>\n",
       "      <td>2.571165</td>\n",
       "      <td>7.230960e+04</td>\n",
       "      <td>9.435000e+05</td>\n",
       "      <td>1.201000e+04</td>\n",
       "      <td>1.196487e+06</td>\n",
       "    </tr>\n",
       "    <tr>\n",
       "      <th>max</th>\n",
       "      <td>8.660000e+08</td>\n",
       "      <td>256.000000</td>\n",
       "      <td>1.764164e+08</td>\n",
       "      <td>9999.000000</td>\n",
       "      <td>9999.000000</td>\n",
       "      <td>10.000000</td>\n",
       "      <td>76.400000</td>\n",
       "      <td>10.000000</td>\n",
       "      <td>77.800000</td>\n",
       "      <td>4.856770e+10</td>\n",
       "      <td>8.256328e+08</td>\n",
       "      <td>9.977342e+06</td>\n",
       "      <td>6.250000e+08</td>\n",
       "    </tr>\n",
       "  </tbody>\n",
       "</table>\n",
       "</div>"
      ],
      "text/plain": [
       "         Sold Price      Bathrooms  Total interior livable area  \\\n",
       "count  1.643160e+05  164316.000000                 1.643160e+05   \n",
       "mean   1.194219e+06       2.304519                 3.186867e+03   \n",
       "std    3.340659e+06       1.527877                 4.353466e+05   \n",
       "min    1.000000e+00       0.000000                 1.000000e+00   \n",
       "25%    4.345315e+05       2.000000                 1.218000e+03   \n",
       "50%    8.040000e+05       2.000000                 1.671000e+03   \n",
       "75%    1.369000e+06       3.000000                 2.580000e+03   \n",
       "max    8.660000e+08     256.000000                 1.764164e+08   \n",
       "\n",
       "        Total spaces  Garage spaces  Elementary School Score  \\\n",
       "count  164316.000000  164316.000000            164316.000000   \n",
       "mean        1.709715       1.610945                 5.654373   \n",
       "std        28.129637      28.110061                 1.971735   \n",
       "min       -26.000000     -26.000000                 1.000000   \n",
       "25%         0.000000       0.000000                 4.000000   \n",
       "50%         1.000000       1.000000                 5.654373   \n",
       "75%         2.000000       2.000000                 7.000000   \n",
       "max      9999.000000    9999.000000                10.000000   \n",
       "\n",
       "       Elementary School Distance  High School Score  High School Distance  \\\n",
       "count               164316.000000      164316.000000         164316.000000   \n",
       "mean                     1.259436           6.088297              2.571165   \n",
       "std                      2.715399           1.902096              3.811468   \n",
       "min                      0.000000           1.000000              0.000000   \n",
       "25%                      0.300000           5.000000              0.900000   \n",
       "50%                      0.600000           6.088297              1.600000   \n",
       "75%                      1.259436           7.000000              2.571165   \n",
       "max                     76.400000          10.000000             77.800000   \n",
       "\n",
       "           Lot size  Tax assessed value  Annual tax amount  Listed Price  \n",
       "count  1.643160e+05        1.643160e+05       1.643160e+05  1.643160e+05  \n",
       "mean   9.541787e+05        8.892515e+05       1.122532e+04  1.196487e+06  \n",
       "std    1.234027e+08        2.937415e+06       3.603940e+04  2.504959e+06  \n",
       "min    0.000000e+00        0.000000e+00       0.000000e+00  1.000000e+00  \n",
       "25%    5.222000e+03        2.959885e+05       4.008000e+03  5.990000e+05  \n",
       "50%    7.691000e+03        6.685590e+05       8.749000e+03  1.150000e+06  \n",
       "75%    7.230960e+04        9.435000e+05       1.201000e+04  1.196487e+06  \n",
       "max    4.856770e+10        8.256328e+08       9.977342e+06  6.250000e+08  "
      ]
     },
     "execution_count": 29,
     "metadata": {},
     "output_type": "execute_result"
    }
   ],
   "source": [
    "# descriptive statistics for the numerical columns\n",
    "data_df[num_col].describe()\n",
    "# If the describe() function is applied on non-numerical columns, the statistics won't make sense."
   ]
  },
  {
   "cell_type": "markdown",
   "id": "1867dc2b",
   "metadata": {},
   "source": [
    "According to the descriptive statistics, multiple columns have outliers:\n",
    "- Bathrooms, Total interior livable area, Total spaces, Garage spaces, Lot size\n",
    "\n",
    "We will analyze them separately."
   ]
  },
  {
   "cell_type": "markdown",
   "id": "c705ebfb",
   "metadata": {},
   "source": [
    "#### Analyze \"Bathrooms\""
   ]
  },
  {
   "cell_type": "code",
   "execution_count": 30,
   "id": "4c6835b8",
   "metadata": {},
   "outputs": [
    {
     "data": {
      "text/plain": [
       "<Axes: xlabel='Bathrooms'>"
      ]
     },
     "execution_count": 30,
     "metadata": {},
     "output_type": "execute_result"
    },
    {
     "data": {
      "image/png": "[encoded data removed]",
      "text/plain": [
       "<Figure size 640x480 with 1 Axes>"
      ]
     },
     "metadata": {},
     "output_type": "display_data"
    }
   ],
   "source": [
    "# draw box plot to check outliers\n",
    "sns.set_style(\"darkgrid\",{'axes.grid' : True})\n",
    "sns.boxplot(x=data_df['Bathrooms'], orient='h')"
   ]
  },
  {
   "cell_type": "markdown",
   "id": "37aacc44",
   "metadata": {},
   "source": [
    "Apply the concept introduced in the slides to calculate the following statistics of the boxplot"
   ]
  },
  {
   "cell_type": "code",
   "execution_count": 31,
   "id": "5b3c7dd8",
   "metadata": {},
   "outputs": [
    {
     "name": "stdout",
     "output_type": "stream",
     "text": [
      "2.0 3.0 0.5 4.5\n"
     ]
    }
   ],
   "source": [
    "Q1 = data_df['Bathrooms'].quantile(0.25)\n",
    "Q3 = data_df['Bathrooms'].quantile(0.75)\n",
    "IQR = Q3 - Q1\n",
    "lower_thresh = Q1 - 1.5*IQR\n",
    "upper_thresh = Q3 + 1.5*IQR\n",
    "print(Q1, Q3, lower_thresh, upper_thresh)"
   ]
  },
  {
   "cell_type": "code",
   "execution_count": 32,
   "id": "79a18c58",
   "metadata": {},
   "outputs": [
    {
     "data": {
      "text/plain": [
       "(161329, 32)"
      ]
     },
     "execution_count": 32,
     "metadata": {},
     "output_type": "execute_result"
    }
   ],
   "source": [
    "# Based on the above calculation, we will remove samples that have \"Bathrooms\" strictly above 5 (>5) as outliers\n",
    "data_df.drop(data_df[data_df['Bathrooms'] > 5].index, inplace=True)\n",
    "data_df.shape"
   ]
  },
  {
   "cell_type": "code",
   "execution_count": 33,
   "id": "c5fae75b",
   "metadata": {},
   "outputs": [
    {
     "name": "stderr",
     "output_type": "stream",
     "text": [
      "/opt/anaconda3/lib/python3.11/site-packages/seaborn/_oldcore.py:1119: FutureWarning: use_inf_as_na option is deprecated and will be removed in a future version. Convert inf values to NaN before operating instead.\n",
      "  with pd.option_context('mode.use_inf_as_na', True):\n"
     ]
    },
    {
     "data": {
      "text/plain": [
       "<Axes: xlabel='Bathrooms', ylabel='Count'>"
      ]
     },
     "execution_count": 33,
     "metadata": {},
     "output_type": "execute_result"
    },
    {
     "data": {
      "image/png": "[encoded data removed]",
      "text/plain": [
       "<Figure size 640x480 with 1 Axes>"
      ]
     },
     "metadata": {},
     "output_type": "display_data"
    }
   ],
   "source": [
    "# check the new distribution of the \"Bathrooms\"\n",
    "sns.histplot(data_df['Bathrooms'])"
   ]
  },
  {
   "cell_type": "markdown",
   "id": "eb26adb3",
   "metadata": {},
   "source": [
    "#### task-2 (2pts): numerical data processing \n",
    "Please apply the logic for processing the \"Bathroom\" column to process one of the following columns:\n",
    "- Total interior livable area \n",
    "- Total spaces \n",
    "- Garage spaces \n",
    "- Lot size\n",
    "\n",
    "*Notes:*\n",
    "- You can decide the upper/lower threshold of removing outliers, it doesn't have to be the exact upper/lower threshold calculated from the boxplot. "
   ]
  },
  {
   "cell_type": "markdown",
   "id": "007e74a6",
   "metadata": {},
   "source": [
    "**Example: analyze \"Total interior livable area\"**"
   ]
  },
  {
   "cell_type": "code",
   "execution_count": 34,
   "id": "3afff2cd",
   "metadata": {},
   "outputs": [
    {
     "data": {
      "text/plain": [
       "<Axes: xlabel='Total interior livable area'>"
      ]
     },
     "execution_count": 34,
     "metadata": {},
     "output_type": "execute_result"
    },
    {
     "data": {
      "image/png": "[encoded data removed]",
      "text/plain": [
       "<Figure size 640x480 with 1 Axes>"
      ]
     },
     "metadata": {},
     "output_type": "display_data"
    }
   ],
   "source": [
    "# draw box plot to check outliers\n",
    "sns.set_style(\"darkgrid\",{'axes.grid' : True})\n",
    "sns.boxplot(x=data_df['Total interior livable area'], orient='h')"
   ]
  },
  {
   "cell_type": "code",
   "execution_count": 35,
   "id": "74c50c0b",
   "metadata": {},
   "outputs": [
    {
     "data": {
      "text/plain": [
       "(1210.0, 2495.0, -717.5, 4422.5)"
      ]
     },
     "execution_count": 35,
     "metadata": {},
     "output_type": "execute_result"
    }
   ],
   "source": [
    "Q1 = data_df['Total interior livable area'].quantile(0.25)\n",
    "Q3 = data_df['Total interior livable area'].quantile(0.75)\n",
    "IQR = Q3 - Q1\n",
    "lower_thresh = Q1 - 1.5*IQR\n",
    "upper_thresh = Q3 + 1.5*IQR\n",
    "Q1, Q3, lower_thresh, upper_thresh"
   ]
  },
  {
   "cell_type": "code",
   "execution_count": 36,
   "id": "f1188f2a",
   "metadata": {},
   "outputs": [
    {
     "data": {
      "text/plain": [
       "(161329, 32)"
      ]
     },
     "execution_count": 36,
     "metadata": {},
     "output_type": "execute_result"
    }
   ],
   "source": [
    "data_df.shape"
   ]
  },
  {
   "cell_type": "code",
   "execution_count": 37,
   "id": "c4d84bb9",
   "metadata": {},
   "outputs": [
    {
     "data": {
      "text/plain": [
       "(159731, 32)"
      ]
     },
     "execution_count": 37,
     "metadata": {},
     "output_type": "execute_result"
    }
   ],
   "source": [
    "# Based on the above calculation, we will remove samples that have \"Bathrooms\" strictly above 5 (>5) as outliers\n",
    "data_df.drop(data_df[data_df['Total interior livable area'] > 5000].index, inplace=True)\n",
    "data_df.shape"
   ]
  },
  {
   "cell_type": "code",
   "execution_count": 38,
   "id": "4112501c",
   "metadata": {},
   "outputs": [
    {
     "name": "stderr",
     "output_type": "stream",
     "text": [
      "/opt/anaconda3/lib/python3.11/site-packages/seaborn/_oldcore.py:1119: FutureWarning: use_inf_as_na option is deprecated and will be removed in a future version. Convert inf values to NaN before operating instead.\n",
      "  with pd.option_context('mode.use_inf_as_na', True):\n"
     ]
    },
    {
     "data": {
      "text/plain": [
       "<Axes: xlabel='Total interior livable area', ylabel='Count'>"
      ]
     },
     "execution_count": 38,
     "metadata": {},
     "output_type": "execute_result"
    },
    {
     "data": {
      "image/png": "[encoded data removed]",
      "text/plain": [
       "<Figure size 640x480 with 1 Axes>"
      ]
     },
     "metadata": {},
     "output_type": "display_data"
    }
   ],
   "source": [
    "# check the new distribution of the \"Total interior livable area\"\n",
    "sns.histplot(data_df['Total interior livable area'])"
   ]
  },
  {
   "cell_type": "markdown",
   "id": "48c0a83f",
   "metadata": {},
   "source": [
    "**Your analysis below**"
   ]
  },
  {
   "cell_type": "markdown",
   "id": "24f9a564-6ef6-4b2d-bbac-afbac1dcb900",
   "metadata": {},
   "source": [
    "I set 10 samples as the threshold like the example did because the data size decreased by 1000 out of approximately 160000 after dropping minority categories, which is neither too small nor too big."
   ]
  },
  {
   "cell_type": "code",
   "execution_count": 92,
   "id": "ae6fe4d6-cceb-4026-9f4c-53b16d58ad4c",
   "metadata": {},
   "outputs": [
    {
     "data": {
      "text/plain": [
       "<Axes: xlabel='Lot size'>"
      ]
     },
     "execution_count": 92,
     "metadata": {},
     "output_type": "execute_result"
    },
    {
     "data": {
      "image/png": "[encoded data removed]",
      "text/plain": [
       "<Figure size 640x480 with 1 Axes>"
      ]
     },
     "metadata": {},
     "output_type": "display_data"
    }
   ],
   "source": [
    "sns.set_style(\"darkgrid\",{'axes.grid' : True})\n",
    "sns.boxplot(x=data_df['Lot size'], orient='h')"
   ]
  },
  {
   "cell_type": "code",
   "execution_count": 93,
   "id": "8a824f8a-83e3-4876-86eb-0bee9799b5bb",
   "metadata": {},
   "outputs": [
    {
     "name": "stdout",
     "output_type": "stream",
     "text": [
      "5183.0 72309.59999999999 -95506.9 172999.5\n"
     ]
    }
   ],
   "source": [
    "Q1 = data_df['Lot size'].quantile(0.25)\n",
    "Q3 = data_df['Lot size'].quantile(0.75)\n",
    "IQR = Q3 - Q1\n",
    "lower_thresh = Q1 - 1.5*IQR\n",
    "upper_thresh = Q3 + 1.5*IQR\n",
    "print(Q1, Q3, lower_thresh, upper_thresh)"
   ]
  },
  {
   "cell_type": "code",
   "execution_count": 94,
   "id": "b17b652c-6dd6-440f-8559-c0a8c3d9f156",
   "metadata": {},
   "outputs": [
    {
     "data": {
      "text/plain": [
       "(158706, 37)"
      ]
     },
     "execution_count": 94,
     "metadata": {},
     "output_type": "execute_result"
    }
   ],
   "source": [
    "data_df.shape"
   ]
  },
  {
   "cell_type": "code",
   "execution_count": 95,
   "id": "cc8843f3",
   "metadata": {},
   "outputs": [
    {
     "data": {
      "text/plain": [
       "(124064, 37)"
      ]
     },
     "execution_count": 95,
     "metadata": {},
     "output_type": "execute_result"
    }
   ],
   "source": [
    "data_df.drop(data_df[data_df['Lot size'] > 180000].index, inplace=True)\n",
    "data_df.shape"
   ]
  },
  {
   "cell_type": "code",
   "execution_count": 96,
   "id": "5f7e5890",
   "metadata": {},
   "outputs": [
    {
     "name": "stderr",
     "output_type": "stream",
     "text": [
      "/opt/anaconda3/lib/python3.11/site-packages/seaborn/_oldcore.py:1119: FutureWarning: use_inf_as_na option is deprecated and will be removed in a future version. Convert inf values to NaN before operating instead.\n",
      "  with pd.option_context('mode.use_inf_as_na', True):\n"
     ]
    },
    {
     "data": {
      "text/plain": [
       "<Axes: xlabel='Lot size', ylabel='Count'>"
      ]
     },
     "execution_count": 96,
     "metadata": {},
     "output_type": "execute_result"
    },
    {
     "data": {
      "image/png": "[encoded data removed]",
      "text/plain": [
       "<Figure size 640x480 with 1 Axes>"
      ]
     },
     "metadata": {},
     "output_type": "display_data"
    }
   ],
   "source": [
    "sns.histplot(data_df['Lot size'])"
   ]
  },
  {
   "cell_type": "markdown",
   "id": "eecc28a5",
   "metadata": {},
   "source": [
    "### Data transformation\n",
    "After performing data cleaning for each data type separately, we will move forward to do data transformation for each data type."
   ]
  },
  {
   "cell_type": "markdown",
   "id": "9e77d43e",
   "metadata": {},
   "source": [
    "#### Normalize numerical data"
   ]
  },
  {
   "cell_type": "code",
   "execution_count": null,
   "id": "5aedfa4f",
   "metadata": {},
   "outputs": [],
   "source": [
    "# Total interior livable area, Total spaces, Garage spaces, Lot size"
   ]
  },
  {
   "cell_type": "code",
   "execution_count": 39,
   "id": "fa3bc194",
   "metadata": {},
   "outputs": [
    {
     "name": "stderr",
     "output_type": "stream",
     "text": [
      "/opt/anaconda3/lib/python3.11/site-packages/seaborn/_oldcore.py:1119: FutureWarning: use_inf_as_na option is deprecated and will be removed in a future version. Convert inf values to NaN before operating instead.\n",
      "  with pd.option_context('mode.use_inf_as_na', True):\n"
     ]
    },
    {
     "data": {
      "text/plain": [
       "<Axes: xlabel='Total interior livable area', ylabel='Count'>"
      ]
     },
     "execution_count": 39,
     "metadata": {},
     "output_type": "execute_result"
    },
    {
     "data": {
      "image/png": "[encoded data removed]",
      "text/plain": [
       "<Figure size 640x480 with 1 Axes>"
      ]
     },
     "metadata": {},
     "output_type": "display_data"
    }
   ],
   "source": [
    "# check the distribution of the \"Total interior livable area\" (before normalization)\n",
    "sns.histplot(data_df['Total interior livable area'])"
   ]
  },
  {
   "cell_type": "code",
   "execution_count": 40,
   "id": "fe7a4fc0",
   "metadata": {},
   "outputs": [],
   "source": [
    "from sklearn.preprocessing import MinMaxScaler\n",
    "scaler = MinMaxScaler(feature_range=(0,1))\n",
    "data_df['Total interior livable area_normalized'] = scaler.fit_transform(data_df[['Total interior livable area']].values)"
   ]
  },
  {
   "cell_type": "code",
   "execution_count": 41,
   "id": "dc996291",
   "metadata": {},
   "outputs": [
    {
     "name": "stderr",
     "output_type": "stream",
     "text": [
      "/opt/anaconda3/lib/python3.11/site-packages/seaborn/_oldcore.py:1119: FutureWarning: use_inf_as_na option is deprecated and will be removed in a future version. Convert inf values to NaN before operating instead.\n",
      "  with pd.option_context('mode.use_inf_as_na', True):\n"
     ]
    },
    {
     "data": {
      "text/plain": [
       "<Axes: xlabel='Total interior livable area_normalized', ylabel='Count'>"
      ]
     },
     "execution_count": 41,
     "metadata": {},
     "output_type": "execute_result"
    },
    {
     "data": {
      "image/png": "[encoded data removed]",
      "text/plain": [
       "<Figure size 640x480 with 1 Axes>"
      ]
     },
     "metadata": {},
     "output_type": "display_data"
    }
   ],
   "source": [
    "# check the distribution of the \"Total interior livable area\" (after normalization)\n",
    "sns.histplot(data_df['Total interior livable area_normalized'])"
   ]
  },
  {
   "cell_type": "markdown",
   "id": "7a59472a",
   "metadata": {},
   "source": [
    "Compare the data distribution before VS after normalization, we can see that:\n",
    "- normalization does not change the shape and distribution of the data\n",
    "- the absolute values of the data are changed, but the relative values do not change\n",
    "- after normalization, it's more intuitive to understand the relative value among all samples"
   ]
  },
  {
   "cell_type": "markdown",
   "id": "6cd80cec",
   "metadata": {},
   "source": [
    "#### task-3 (3pts): normalize numerical data\n",
    "please apply the logic for normalization of the \"Total interior livable area\" column to process one of the following columns:\n",
    "- Total spaces \n",
    "- Garage spaces \n",
    "- Lot size"
   ]
  },
  {
   "cell_type": "code",
   "execution_count": 97,
   "id": "83fc6dc7",
   "metadata": {},
   "outputs": [
    {
     "name": "stderr",
     "output_type": "stream",
     "text": [
      "/opt/anaconda3/lib/python3.11/site-packages/seaborn/_oldcore.py:1119: FutureWarning: use_inf_as_na option is deprecated and will be removed in a future version. Convert inf values to NaN before operating instead.\n",
      "  with pd.option_context('mode.use_inf_as_na', True):\n"
     ]
    },
    {
     "data": {
      "text/plain": [
       "<Axes: xlabel='Lot size', ylabel='Count'>"
      ]
     },
     "execution_count": 97,
     "metadata": {},
     "output_type": "execute_result"
    },
    {
     "data": {
      "image/png": "[encoded data removed]",
      "text/plain": [
       "<Figure size 640x480 with 1 Axes>"
      ]
     },
     "metadata": {},
     "output_type": "display_data"
    }
   ],
   "source": [
    "sns.histplot(data_df['Lot size'])"
   ]
  },
  {
   "cell_type": "code",
   "execution_count": 98,
   "id": "a59c18ac-9f7a-4846-8622-f3702357be1e",
   "metadata": {},
   "outputs": [],
   "source": [
    "scaler = MinMaxScaler(feature_range=(0,1))\n",
    "data_df['Lot size'] = scaler.fit_transform(data_df[['Lot size']].values)"
   ]
  },
  {
   "cell_type": "code",
   "execution_count": 99,
   "id": "c7fa9764-f98e-4344-8bd2-9a13cd60e5ad",
   "metadata": {},
   "outputs": [
    {
     "name": "stderr",
     "output_type": "stream",
     "text": [
      "/opt/anaconda3/lib/python3.11/site-packages/seaborn/_oldcore.py:1119: FutureWarning: use_inf_as_na option is deprecated and will be removed in a future version. Convert inf values to NaN before operating instead.\n",
      "  with pd.option_context('mode.use_inf_as_na', True):\n"
     ]
    },
    {
     "data": {
      "text/plain": [
       "<Axes: xlabel='Lot size', ylabel='Count'>"
      ]
     },
     "execution_count": 99,
     "metadata": {},
     "output_type": "execute_result"
    },
    {
     "data": {
      "image/png": "[encoded data removed]",
      "text/plain": [
       "<Figure size 640x480 with 1 Axes>"
      ]
     },
     "metadata": {},
     "output_type": "display_data"
    }
   ],
   "source": [
    "sns.histplot(data_df['Lot size'])"
   ]
  },
  {
   "cell_type": "markdown",
   "id": "2ca1057b",
   "metadata": {},
   "source": [
    "**Additional analysis**: for attributes with large values, we typically apply **log scaling** to process."
   ]
  },
  {
   "cell_type": "code",
   "execution_count": 42,
   "id": "20d2bc2b",
   "metadata": {},
   "outputs": [
    {
     "name": "stderr",
     "output_type": "stream",
     "text": [
      "/opt/anaconda3/lib/python3.11/site-packages/seaborn/_oldcore.py:1119: FutureWarning: use_inf_as_na option is deprecated and will be removed in a future version. Convert inf values to NaN before operating instead.\n",
      "  with pd.option_context('mode.use_inf_as_na', True):\n"
     ]
    },
    {
     "data": {
      "image/png": "[encoded data removed]",
      "text/plain": [
       "<Figure size 640x480 with 1 Axes>"
      ]
     },
     "metadata": {},
     "output_type": "display_data"
    }
   ],
   "source": [
    "# Check the histogram of the 'Sold Price' after apply log scaling.\n",
    "ax = sns.histplot(np.log10(data_df['Sold Price']))\n",
    "ax.set_xlim([3, 8])\n",
    "ax.set_xticks(range(3, 9))\n",
    "ax.set_xticklabels(['%.0e'%a for a in 10**ax.get_xticks()]);\n",
    "\n",
    "# feel free to explore what will happen without log scaling"
   ]
  },
  {
   "cell_type": "markdown",
   "id": "45c7501f",
   "metadata": {},
   "source": [
    "#### Text transformation \n",
    "- tokenization, stemming, lemmatization"
   ]
  },
  {
   "cell_type": "code",
   "execution_count": 43,
   "id": "f74a04da",
   "metadata": {},
   "outputs": [],
   "source": [
    "import nltk"
   ]
  },
  {
   "cell_type": "code",
   "execution_count": 44,
   "id": "4c368bea",
   "metadata": {},
   "outputs": [],
   "source": [
    "text_col = ['Address', 'Summary', 'Heating', 'Cooling', 'Parking', 'Heating features', 'Parking features']"
   ]
  },
  {
   "cell_type": "code",
   "execution_count": 45,
   "id": "72a687da",
   "metadata": {},
   "outputs": [
    {
     "data": {
      "text/html": [
       "<div>\n",
       "<style scoped>\n",
       "    .dataframe tbody tr th:only-of-type {\n",
       "        vertical-align: middle;\n",
       "    }\n",
       "\n",
       "    .dataframe tbody tr th {\n",
       "        vertical-align: top;\n",
       "    }\n",
       "\n",
       "    .dataframe thead th {\n",
       "        text-align: right;\n",
       "    }\n",
       "</style>\n",
       "<table border=\"1\" class=\"dataframe\">\n",
       "  <thead>\n",
       "    <tr style=\"text-align: right;\">\n",
       "      <th></th>\n",
       "      <th>Address</th>\n",
       "      <th>Summary</th>\n",
       "      <th>Heating</th>\n",
       "      <th>Cooling</th>\n",
       "      <th>Parking</th>\n",
       "      <th>Heating features</th>\n",
       "      <th>Parking features</th>\n",
       "    </tr>\n",
       "  </thead>\n",
       "  <tbody>\n",
       "    <tr>\n",
       "      <th>0</th>\n",
       "      <td>11205 Monterey,</td>\n",
       "      <td>11205 Monterey, San Martin, CA 95046 is a sing...</td>\n",
       "      <td>No Data</td>\n",
       "      <td>No Data</td>\n",
       "      <td>0 spaces</td>\n",
       "      <td>None</td>\n",
       "      <td>None</td>\n",
       "    </tr>\n",
       "    <tr>\n",
       "      <th>1</th>\n",
       "      <td>5281 Castle Rd,</td>\n",
       "      <td>Spectacular Mountain and incredible L.A. City ...</td>\n",
       "      <td>Central</td>\n",
       "      <td>Central Air, Dual</td>\n",
       "      <td>Driveway, Driveway - Brick</td>\n",
       "      <td>Central</td>\n",
       "      <td>Driveway, Driveway - Brick</td>\n",
       "    </tr>\n",
       "    <tr>\n",
       "      <th>2</th>\n",
       "      <td>3581 Butcher Dr,</td>\n",
       "      <td>Eichler Style home! with Santa Clara High! in ...</td>\n",
       "      <td>Central Forced Air - Gas</td>\n",
       "      <td>Central AC</td>\n",
       "      <td>Garage, Garage - Attached, Covered</td>\n",
       "      <td>Forced air, Gas</td>\n",
       "      <td>Garage, Garage - Attached, Covered</td>\n",
       "    </tr>\n",
       "    <tr>\n",
       "      <th>4</th>\n",
       "      <td>LOT 4 Tool Box Spring Rd,</td>\n",
       "      <td>Beautiful level lot  dotted with pine trees ro...</td>\n",
       "      <td>No Data</td>\n",
       "      <td>No Data</td>\n",
       "      <td>0 spaces</td>\n",
       "      <td>None</td>\n",
       "      <td>None</td>\n",
       "    </tr>\n",
       "    <tr>\n",
       "      <th>5</th>\n",
       "      <td>4707 La Villa Mari UNIT J,</td>\n",
       "      <td>AGENTS READ PRIVATE REMARKS BEFORE CALLING;  S...</td>\n",
       "      <td>Central</td>\n",
       "      <td>None</td>\n",
       "      <td>Garage - Attached</td>\n",
       "      <td>Forced air</td>\n",
       "      <td>Garage - Attached</td>\n",
       "    </tr>\n",
       "    <tr>\n",
       "      <th>...</th>\n",
       "      <td>...</td>\n",
       "      <td>...</td>\n",
       "      <td>...</td>\n",
       "      <td>...</td>\n",
       "      <td>...</td>\n",
       "      <td>...</td>\n",
       "      <td>...</td>\n",
       "    </tr>\n",
       "    <tr>\n",
       "      <th>164939</th>\n",
       "      <td>88 Lakeshore Ct,</td>\n",
       "      <td>STUNNING LAKE VIEW AND BAY VIEW! Exquisite Res...</td>\n",
       "      <td>Baseboard, Electric</td>\n",
       "      <td>None</td>\n",
       "      <td>Carport, Covered, Guest</td>\n",
       "      <td>Baseboard, Electric</td>\n",
       "      <td>Carport, Covered, Guest</td>\n",
       "    </tr>\n",
       "    <tr>\n",
       "      <th>164940</th>\n",
       "      <td>3785 Wilshire Blvd PENTHOUSE 3,</td>\n",
       "      <td>Arguably the best unit at Solair. This top flo...</td>\n",
       "      <td>Central</td>\n",
       "      <td>Central</td>\n",
       "      <td>Covered</td>\n",
       "      <td>Other</td>\n",
       "      <td>Covered</td>\n",
       "    </tr>\n",
       "    <tr>\n",
       "      <th>164941</th>\n",
       "      <td>312 Circuit Way,</td>\n",
       "      <td>312 Circuit Way, Mountain View, CA 94043 is a ...</td>\n",
       "      <td>Other</td>\n",
       "      <td>No Data</td>\n",
       "      <td>Garage, Garage - Attached, Covered</td>\n",
       "      <td>Other</td>\n",
       "      <td>Garage, Garage - Attached, Covered</td>\n",
       "    </tr>\n",
       "    <tr>\n",
       "      <th>164942</th>\n",
       "      <td>2 Cape Breton Ct,</td>\n",
       "      <td>Park Pacifica CHECK OUT THE VIDEO  Entering Ca...</td>\n",
       "      <td>Central Forced Air - Gas</td>\n",
       "      <td>None</td>\n",
       "      <td>Underground/Basement, Garage - Attached</td>\n",
       "      <td>Forced air, Gas</td>\n",
       "      <td>Underground/Basement, Garage - Attached</td>\n",
       "    </tr>\n",
       "    <tr>\n",
       "      <th>164943</th>\n",
       "      <td>25 Calabasas Rd,</td>\n",
       "      <td>25 Calabasas Rd, Freedom, CA 95019 is a single...</td>\n",
       "      <td>Wall</td>\n",
       "      <td>No Data</td>\n",
       "      <td>Garage, Garage - Attached</td>\n",
       "      <td>Wall</td>\n",
       "      <td>Garage, Garage - Attached</td>\n",
       "    </tr>\n",
       "  </tbody>\n",
       "</table>\n",
       "<p>159731 rows × 7 columns</p>\n",
       "</div>"
      ],
      "text/plain": [
       "                                Address  \\\n",
       "0                       11205 Monterey,   \n",
       "1                       5281 Castle Rd,   \n",
       "2                      3581 Butcher Dr,   \n",
       "4             LOT 4 Tool Box Spring Rd,   \n",
       "5            4707 La Villa Mari UNIT J,   \n",
       "...                                 ...   \n",
       "164939                 88 Lakeshore Ct,   \n",
       "164940  3785 Wilshire Blvd PENTHOUSE 3,   \n",
       "164941                 312 Circuit Way,   \n",
       "164942                2 Cape Breton Ct,   \n",
       "164943                 25 Calabasas Rd,   \n",
       "\n",
       "                                                  Summary  \\\n",
       "0       11205 Monterey, San Martin, CA 95046 is a sing...   \n",
       "1       Spectacular Mountain and incredible L.A. City ...   \n",
       "2       Eichler Style home! with Santa Clara High! in ...   \n",
       "4       Beautiful level lot  dotted with pine trees ro...   \n",
       "5       AGENTS READ PRIVATE REMARKS BEFORE CALLING;  S...   \n",
       "...                                                   ...   \n",
       "164939  STUNNING LAKE VIEW AND BAY VIEW! Exquisite Res...   \n",
       "164940  Arguably the best unit at Solair. This top flo...   \n",
       "164941  312 Circuit Way, Mountain View, CA 94043 is a ...   \n",
       "164942  Park Pacifica CHECK OUT THE VIDEO  Entering Ca...   \n",
       "164943  25 Calabasas Rd, Freedom, CA 95019 is a single...   \n",
       "\n",
       "                         Heating            Cooling  \\\n",
       "0                        No Data            No Data   \n",
       "1                        Central  Central Air, Dual   \n",
       "2       Central Forced Air - Gas         Central AC   \n",
       "4                        No Data            No Data   \n",
       "5                        Central               None   \n",
       "...                          ...                ...   \n",
       "164939       Baseboard, Electric               None   \n",
       "164940                   Central            Central   \n",
       "164941                     Other            No Data   \n",
       "164942  Central Forced Air - Gas               None   \n",
       "164943                      Wall            No Data   \n",
       "\n",
       "                                        Parking     Heating features  \\\n",
       "0                                      0 spaces                 None   \n",
       "1                    Driveway, Driveway - Brick              Central   \n",
       "2            Garage, Garage - Attached, Covered      Forced air, Gas   \n",
       "4                                      0 spaces                 None   \n",
       "5                             Garage - Attached           Forced air   \n",
       "...                                         ...                  ...   \n",
       "164939                  Carport, Covered, Guest  Baseboard, Electric   \n",
       "164940                                  Covered                Other   \n",
       "164941       Garage, Garage - Attached, Covered                Other   \n",
       "164942  Underground/Basement, Garage - Attached      Forced air, Gas   \n",
       "164943                Garage, Garage - Attached                 Wall   \n",
       "\n",
       "                               Parking features  \n",
       "0                                          None  \n",
       "1                    Driveway, Driveway - Brick  \n",
       "2            Garage, Garage - Attached, Covered  \n",
       "4                                          None  \n",
       "5                             Garage - Attached  \n",
       "...                                         ...  \n",
       "164939                  Carport, Covered, Guest  \n",
       "164940                                  Covered  \n",
       "164941       Garage, Garage - Attached, Covered  \n",
       "164942  Underground/Basement, Garage - Attached  \n",
       "164943                Garage, Garage - Attached  \n",
       "\n",
       "[159731 rows x 7 columns]"
      ]
     },
     "execution_count": 45,
     "metadata": {},
     "output_type": "execute_result"
    }
   ],
   "source": [
    "data_df[text_col]"
   ]
  },
  {
   "cell_type": "markdown",
   "id": "73da2042",
   "metadata": {},
   "source": [
    "#### Example analysis for the \"Summary\" column"
   ]
  },
  {
   "cell_type": "markdown",
   "id": "8a3dd78c",
   "metadata": {},
   "source": [
    "**tokenization**: the process of breaking down text into the smallest unit in a sentence (e.g., tokens can be words, numbers, punctuation marks)"
   ]
  },
  {
   "cell_type": "code",
   "execution_count": 46,
   "id": "50316fe4",
   "metadata": {},
   "outputs": [
    {
     "name": "stderr",
     "output_type": "stream",
     "text": [
      "[nltk_data] Downloading package punkt to /Users/minjunlee/nltk_data...\n",
      "[nltk_data]   Package punkt is already up-to-date!\n",
      "[nltk_data] Downloading package wordnet to\n",
      "[nltk_data]     /Users/minjunlee/nltk_data...\n",
      "[nltk_data]   Package wordnet is already up-to-date!\n",
      "[nltk_data] Downloading package omw-1.4 to\n",
      "[nltk_data]     /Users/minjunlee/nltk_data...\n",
      "[nltk_data]   Package omw-1.4 is already up-to-date!\n"
     ]
    },
    {
     "data": {
      "text/plain": [
       "True"
      ]
     },
     "execution_count": 46,
     "metadata": {},
     "output_type": "execute_result"
    }
   ],
   "source": [
    "from nltk import sent_tokenize\n",
    "from nltk import word_tokenize\n",
    "nltk.download('punkt')\n",
    "nltk.download('wordnet')\n",
    "nltk.download('omw-1.4')"
   ]
  },
  {
   "cell_type": "code",
   "execution_count": 47,
   "id": "7c26962b",
   "metadata": {},
   "outputs": [
    {
     "data": {
      "text/plain": [
       "'11205 Monterey, San Martin, CA 95046 is a single family home that contains 2,000 sq ft. It contains 2 bedrooms and 2 bathrooms. This home last sold for $2,000,000 in January 2020. \\n \\nThe Zestimate for this house is $2,153,229.'"
      ]
     },
     "execution_count": 47,
     "metadata": {},
     "output_type": "execute_result"
    }
   ],
   "source": [
    "# take the \"Summary\" from the first sample as an example\n",
    "text = data_df.iloc[0]['Summary']\n",
    "text"
   ]
  },
  {
   "cell_type": "code",
   "execution_count": 48,
   "id": "7fba1ad2",
   "metadata": {},
   "outputs": [
    {
     "data": {
      "text/plain": [
       "['11205 Monterey, San Martin, CA 95046 is a single family home that contains 2,000 sq ft.',\n",
       " 'It contains 2 bedrooms and 2 bathrooms.',\n",
       " 'This home last sold for $2,000,000 in January 2020.',\n",
       " 'The Zestimate for this house is $2,153,229.']"
      ]
     },
     "execution_count": 48,
     "metadata": {},
     "output_type": "execute_result"
    }
   ],
   "source": [
    "nltk.sent_tokenize(text)"
   ]
  },
  {
   "cell_type": "code",
   "execution_count": 49,
   "id": "ddd0f3c6",
   "metadata": {},
   "outputs": [
    {
     "name": "stdout",
     "output_type": "stream",
     "text": [
      "['11205', 'Monterey', ',', 'San', 'Martin', ',', 'CA', '95046', 'is', 'a', 'single', 'family', 'home', 'that', 'contains', '2,000', 'sq', 'ft', '.', 'It', 'contains', '2', 'bedrooms', 'and', '2', 'bathrooms', '.', 'This', 'home', 'last', 'sold', 'for', '$', '2,000,000', 'in', 'January', '2020', '.', 'The', 'Zestimate', 'for', 'this', 'house', 'is', '$', '2,153,229', '.']\n"
     ]
    }
   ],
   "source": [
    "print(nltk.word_tokenize(text))"
   ]
  },
  {
   "cell_type": "markdown",
   "id": "1887fb29",
   "metadata": {},
   "source": [
    "**Stemming**: apply rule-based method (e.g., cut the suffixes in words) to find the root of the word"
   ]
  },
  {
   "cell_type": "code",
   "execution_count": 50,
   "id": "f1b2a0ed",
   "metadata": {},
   "outputs": [
    {
     "data": {
      "text/plain": [
       "'leav'"
      ]
     },
     "execution_count": 50,
     "metadata": {},
     "output_type": "execute_result"
    }
   ],
   "source": [
    "from nltk.stem import PorterStemmer\n",
    "ps = PorterStemmer()\n",
    "word = (\"leaves\") \n",
    "ps.stem(word)"
   ]
  },
  {
   "cell_type": "markdown",
   "id": "87c6d36b",
   "metadata": {},
   "source": [
    "**lemmatization**: use lexical based knowledge to get the base forms of words"
   ]
  },
  {
   "cell_type": "code",
   "execution_count": 51,
   "id": "f79aa34a",
   "metadata": {},
   "outputs": [
    {
     "data": {
      "text/plain": [
       "'leaf'"
      ]
     },
     "execution_count": 51,
     "metadata": {},
     "output_type": "execute_result"
    }
   ],
   "source": [
    "import nltk\n",
    "from nltk.stem import WordNetLemmatizer \n",
    "lemmatizer = WordNetLemmatizer()\n",
    "lemmatizer.lemmatize(\"leaves\")"
   ]
  },
  {
   "cell_type": "code",
   "execution_count": 52,
   "id": "da97ddf6",
   "metadata": {},
   "outputs": [
    {
     "name": "stdout",
     "output_type": "stream",
     "text": [
      "['11205', 'Monterey', ',', 'San', 'Martin', ',', 'CA', '95046', 'is', 'a', 'single', 'family', 'home', 'that', 'contains', '2,000', 'sq', 'ft', '.', 'It', 'contains', '2', 'bedroom', 'and', '2', 'bathroom', '.', 'This', 'home', 'last', 'sold', 'for', '$', '2,000,000', 'in', 'January', '2020', '.', 'The', 'Zestimate', 'for', 'this', 'house', 'is', '$', '2,153,229', '.']\n"
     ]
    }
   ],
   "source": [
    "# combine tokenization and lemmatization together\n",
    "word_list = nltk.word_tokenize(text)\n",
    "word_lem = [lemmatizer.lemmatize(tok) for tok in word_list]\n",
    "print(word_lem)"
   ]
  },
  {
   "cell_type": "markdown",
   "id": "25568e8b",
   "metadata": {},
   "source": [
    "### Feature Engineering"
   ]
  },
  {
   "cell_type": "markdown",
   "id": "4aafb54b",
   "metadata": {},
   "source": [
    "#### Numerical data\n",
    "- directly use the values"
   ]
  },
  {
   "cell_type": "markdown",
   "id": "89be0d2f",
   "metadata": {},
   "source": [
    "#### Categorical data representation\n",
    "- encoding (one-hot/ordinal encoder)"
   ]
  },
  {
   "cell_type": "code",
   "execution_count": 53,
   "id": "9d2cb3a7",
   "metadata": {},
   "outputs": [
    {
     "data": {
      "text/plain": [
       "Home type\n",
       "SingleFamily          99518\n",
       "Condo                 27449\n",
       "Townhouse              7083\n",
       "MultiFamily            6607\n",
       "Unknown                5546\n",
       "MobileManufactured     3606\n",
       "Apartment              1653\n",
       "Cooperative             174\n",
       "Name: count, dtype: int64"
      ]
     },
     "execution_count": 53,
     "metadata": {},
     "output_type": "execute_result"
    }
   ],
   "source": [
    "# we will use the \"Home type\" column as an example to show the encoding logics\n",
    "data_df['Home type'].value_counts()"
   ]
  },
  {
   "cell_type": "code",
   "execution_count": 54,
   "id": "30a7f82a",
   "metadata": {},
   "outputs": [],
   "source": [
    "from sklearn.preprocessing import OneHotEncoder"
   ]
  },
  {
   "cell_type": "code",
   "execution_count": 55,
   "id": "61d28e33",
   "metadata": {},
   "outputs": [
    {
     "data": {
      "text/html": [
       "<style>#sk-container-id-1 {color: black;background-color: white;}#sk-container-id-1 pre{padding: 0;}#sk-container-id-1 div.sk-toggleable {background-color: white;}#sk-container-id-1 label.sk-toggleable__label {cursor: pointer;display: block;width: 100%;margin-bottom: 0;padding: 0.3em;box-sizing: border-box;text-align: center;}#sk-container-id-1 label.sk-toggleable__label-arrow:before {content: \"▸\";float: left;margin-right: 0.25em;color: #696969;}#sk-container-id-1 label.sk-toggleable__label-arrow:hover:before {color: black;}#sk-container-id-1 div.sk-estimator:hover label.sk-toggleable__label-arrow:before {color: black;}#sk-container-id-1 div.sk-toggleable__content {max-height: 0;max-width: 0;overflow: hidden;text-align: left;background-color: #f0f8ff;}#sk-container-id-1 div.sk-toggleable__content pre {margin: 0.2em;color: black;border-radius: 0.25em;background-color: #f0f8ff;}#sk-container-id-1 input.sk-toggleable__control:checked~div.sk-toggleable__content {max-height: 200px;max-width: 100%;overflow: auto;}#sk-container-id-1 input.sk-toggleable__control:checked~label.sk-toggleable__label-arrow:before {content: \"▾\";}#sk-container-id-1 div.sk-estimator input.sk-toggleable__control:checked~label.sk-toggleable__label {background-color: #d4ebff;}#sk-container-id-1 div.sk-label input.sk-toggleable__control:checked~label.sk-toggleable__label {background-color: #d4ebff;}#sk-container-id-1 input.sk-hidden--visually {border: 0;clip: rect(1px 1px 1px 1px);clip: rect(1px, 1px, 1px, 1px);height: 1px;margin: -1px;overflow: hidden;padding: 0;position: absolute;width: 1px;}#sk-container-id-1 div.sk-estimator {font-family: monospace;background-color: #f0f8ff;border: 1px dotted black;border-radius: 0.25em;box-sizing: border-box;margin-bottom: 0.5em;}#sk-container-id-1 div.sk-estimator:hover {background-color: #d4ebff;}#sk-container-id-1 div.sk-parallel-item::after {content: \"\";width: 100%;border-bottom: 1px solid gray;flex-grow: 1;}#sk-container-id-1 div.sk-label:hover label.sk-toggleable__label {background-color: #d4ebff;}#sk-container-id-1 div.sk-serial::before {content: \"\";position: absolute;border-left: 1px solid gray;box-sizing: border-box;top: 0;bottom: 0;left: 50%;z-index: 0;}#sk-container-id-1 div.sk-serial {display: flex;flex-direction: column;align-items: center;background-color: white;padding-right: 0.2em;padding-left: 0.2em;position: relative;}#sk-container-id-1 div.sk-item {position: relative;z-index: 1;}#sk-container-id-1 div.sk-parallel {display: flex;align-items: stretch;justify-content: center;background-color: white;position: relative;}#sk-container-id-1 div.sk-item::before, #sk-container-id-1 div.sk-parallel-item::before {content: \"\";position: absolute;border-left: 1px solid gray;box-sizing: border-box;top: 0;bottom: 0;left: 50%;z-index: -1;}#sk-container-id-1 div.sk-parallel-item {display: flex;flex-direction: column;z-index: 1;position: relative;background-color: white;}#sk-container-id-1 div.sk-parallel-item:first-child::after {align-self: flex-end;width: 50%;}#sk-container-id-1 div.sk-parallel-item:last-child::after {align-self: flex-start;width: 50%;}#sk-container-id-1 div.sk-parallel-item:only-child::after {width: 0;}#sk-container-id-1 div.sk-dashed-wrapped {border: 1px dashed gray;margin: 0 0.4em 0.5em 0.4em;box-sizing: border-box;padding-bottom: 0.4em;background-color: white;}#sk-container-id-1 div.sk-label label {font-family: monospace;font-weight: bold;display: inline-block;line-height: 1.2em;}#sk-container-id-1 div.sk-label-container {text-align: center;}#sk-container-id-1 div.sk-container {/* jupyter's `normalize.less` sets `[hidden] { display: none; }` but bootstrap.min.css set `[hidden] { display: none !important; }` so we also need the `!important` here to be able to override the default hidden behavior on the sphinx rendered scikit-learn.org. See: https://github.com/scikit-learn/scikit-learn/issues/21755 */display: inline-block !important;position: relative;}#sk-container-id-1 div.sk-text-repr-fallback {display: none;}</style><div id=\"sk-container-id-1\" class=\"sk-top-container\"><div class=\"sk-text-repr-fallback\"><pre>OneHotEncoder(handle_unknown=&#x27;ignore&#x27;)</pre><b>In a Jupyter environment, please rerun this cell to show the HTML representation or trust the notebook. <br />On GitHub, the HTML representation is unable to render, please try loading this page with nbviewer.org.</b></div><div class=\"sk-container\" hidden><div class=\"sk-item\"><div class=\"sk-estimator sk-toggleable\"><input class=\"sk-toggleable__control sk-hidden--visually\" id=\"sk-estimator-id-1\" type=\"checkbox\" checked><label for=\"sk-estimator-id-1\" class=\"sk-toggleable__label sk-toggleable__label-arrow\">OneHotEncoder</label><div class=\"sk-toggleable__content\"><pre>OneHotEncoder(handle_unknown=&#x27;ignore&#x27;)</pre></div></div></div></div></div>"
      ],
      "text/plain": [
       "OneHotEncoder(handle_unknown='ignore')"
      ]
     },
     "execution_count": 55,
     "metadata": {},
     "output_type": "execute_result"
    }
   ],
   "source": [
    "ohe = OneHotEncoder(handle_unknown='ignore')\n",
    "ohe.fit(data_df[['Home type']])"
   ]
  },
  {
   "cell_type": "code",
   "execution_count": 56,
   "id": "4cefa75e",
   "metadata": {},
   "outputs": [
    {
     "data": {
      "text/plain": [
       "[array(['Apartment', 'Condo', 'Cooperative', 'MobileManufactured',\n",
       "        'MultiFamily', 'SingleFamily', 'Townhouse', 'Unknown', nan],\n",
       "       dtype=object)]"
      ]
     },
     "execution_count": 56,
     "metadata": {},
     "output_type": "execute_result"
    }
   ],
   "source": [
    "# the categories learned during the fit process\n",
    "ohe.categories_"
   ]
  },
  {
   "cell_type": "code",
   "execution_count": 57,
   "id": "5115dc0b",
   "metadata": {},
   "outputs": [
    {
     "data": {
      "text/plain": [
       "array([0., 0., 0., 0., 0., 1., 0., 0., 0.])"
      ]
     },
     "execution_count": 57,
     "metadata": {},
     "output_type": "execute_result"
    }
   ],
   "source": [
    "# encode the \"Home type\" with the learned categories during the fit process\n",
    "ohe.transform(data_df[['Home type']]).toarray()[0]"
   ]
  },
  {
   "cell_type": "code",
   "execution_count": 58,
   "id": "1b6c9f77",
   "metadata": {},
   "outputs": [
    {
     "data": {
      "text/html": [
       "<div>\n",
       "<style scoped>\n",
       "    .dataframe tbody tr th:only-of-type {\n",
       "        vertical-align: middle;\n",
       "    }\n",
       "\n",
       "    .dataframe tbody tr th {\n",
       "        vertical-align: top;\n",
       "    }\n",
       "\n",
       "    .dataframe thead th {\n",
       "        text-align: right;\n",
       "    }\n",
       "</style>\n",
       "<table border=\"1\" class=\"dataframe\">\n",
       "  <thead>\n",
       "    <tr style=\"text-align: right;\">\n",
       "      <th></th>\n",
       "      <th>Apartment</th>\n",
       "      <th>Condo</th>\n",
       "      <th>Cooperative</th>\n",
       "      <th>MobileManufactured</th>\n",
       "      <th>MultiFamily</th>\n",
       "      <th>SingleFamily</th>\n",
       "      <th>Townhouse</th>\n",
       "      <th>Unknown</th>\n",
       "      <th>NaN</th>\n",
       "    </tr>\n",
       "  </thead>\n",
       "  <tbody>\n",
       "    <tr>\n",
       "      <th>0</th>\n",
       "      <td>0.0</td>\n",
       "      <td>0.0</td>\n",
       "      <td>0.0</td>\n",
       "      <td>0.0</td>\n",
       "      <td>0.0</td>\n",
       "      <td>1.0</td>\n",
       "      <td>0.0</td>\n",
       "      <td>0.0</td>\n",
       "      <td>0.0</td>\n",
       "    </tr>\n",
       "    <tr>\n",
       "      <th>1</th>\n",
       "      <td>0.0</td>\n",
       "      <td>0.0</td>\n",
       "      <td>0.0</td>\n",
       "      <td>0.0</td>\n",
       "      <td>0.0</td>\n",
       "      <td>1.0</td>\n",
       "      <td>0.0</td>\n",
       "      <td>0.0</td>\n",
       "      <td>0.0</td>\n",
       "    </tr>\n",
       "    <tr>\n",
       "      <th>2</th>\n",
       "      <td>0.0</td>\n",
       "      <td>0.0</td>\n",
       "      <td>0.0</td>\n",
       "      <td>0.0</td>\n",
       "      <td>0.0</td>\n",
       "      <td>1.0</td>\n",
       "      <td>0.0</td>\n",
       "      <td>0.0</td>\n",
       "      <td>0.0</td>\n",
       "    </tr>\n",
       "    <tr>\n",
       "      <th>3</th>\n",
       "      <td>0.0</td>\n",
       "      <td>0.0</td>\n",
       "      <td>0.0</td>\n",
       "      <td>0.0</td>\n",
       "      <td>0.0</td>\n",
       "      <td>0.0</td>\n",
       "      <td>0.0</td>\n",
       "      <td>0.0</td>\n",
       "      <td>1.0</td>\n",
       "    </tr>\n",
       "    <tr>\n",
       "      <th>4</th>\n",
       "      <td>0.0</td>\n",
       "      <td>0.0</td>\n",
       "      <td>0.0</td>\n",
       "      <td>0.0</td>\n",
       "      <td>0.0</td>\n",
       "      <td>0.0</td>\n",
       "      <td>1.0</td>\n",
       "      <td>0.0</td>\n",
       "      <td>0.0</td>\n",
       "    </tr>\n",
       "    <tr>\n",
       "      <th>...</th>\n",
       "      <td>...</td>\n",
       "      <td>...</td>\n",
       "      <td>...</td>\n",
       "      <td>...</td>\n",
       "      <td>...</td>\n",
       "      <td>...</td>\n",
       "      <td>...</td>\n",
       "      <td>...</td>\n",
       "      <td>...</td>\n",
       "    </tr>\n",
       "    <tr>\n",
       "      <th>159726</th>\n",
       "      <td>0.0</td>\n",
       "      <td>1.0</td>\n",
       "      <td>0.0</td>\n",
       "      <td>0.0</td>\n",
       "      <td>0.0</td>\n",
       "      <td>0.0</td>\n",
       "      <td>0.0</td>\n",
       "      <td>0.0</td>\n",
       "      <td>0.0</td>\n",
       "    </tr>\n",
       "    <tr>\n",
       "      <th>159727</th>\n",
       "      <td>0.0</td>\n",
       "      <td>1.0</td>\n",
       "      <td>0.0</td>\n",
       "      <td>0.0</td>\n",
       "      <td>0.0</td>\n",
       "      <td>0.0</td>\n",
       "      <td>0.0</td>\n",
       "      <td>0.0</td>\n",
       "      <td>0.0</td>\n",
       "    </tr>\n",
       "    <tr>\n",
       "      <th>159728</th>\n",
       "      <td>0.0</td>\n",
       "      <td>1.0</td>\n",
       "      <td>0.0</td>\n",
       "      <td>0.0</td>\n",
       "      <td>0.0</td>\n",
       "      <td>0.0</td>\n",
       "      <td>0.0</td>\n",
       "      <td>0.0</td>\n",
       "      <td>0.0</td>\n",
       "    </tr>\n",
       "    <tr>\n",
       "      <th>159729</th>\n",
       "      <td>0.0</td>\n",
       "      <td>0.0</td>\n",
       "      <td>0.0</td>\n",
       "      <td>0.0</td>\n",
       "      <td>0.0</td>\n",
       "      <td>1.0</td>\n",
       "      <td>0.0</td>\n",
       "      <td>0.0</td>\n",
       "      <td>0.0</td>\n",
       "    </tr>\n",
       "    <tr>\n",
       "      <th>159730</th>\n",
       "      <td>0.0</td>\n",
       "      <td>0.0</td>\n",
       "      <td>0.0</td>\n",
       "      <td>0.0</td>\n",
       "      <td>0.0</td>\n",
       "      <td>1.0</td>\n",
       "      <td>0.0</td>\n",
       "      <td>0.0</td>\n",
       "      <td>0.0</td>\n",
       "    </tr>\n",
       "  </tbody>\n",
       "</table>\n",
       "<p>159731 rows × 9 columns</p>\n",
       "</div>"
      ],
      "text/plain": [
       "        Apartment  Condo  Cooperative  MobileManufactured  MultiFamily  \\\n",
       "0             0.0    0.0          0.0                 0.0          0.0   \n",
       "1             0.0    0.0          0.0                 0.0          0.0   \n",
       "2             0.0    0.0          0.0                 0.0          0.0   \n",
       "3             0.0    0.0          0.0                 0.0          0.0   \n",
       "4             0.0    0.0          0.0                 0.0          0.0   \n",
       "...           ...    ...          ...                 ...          ...   \n",
       "159726        0.0    1.0          0.0                 0.0          0.0   \n",
       "159727        0.0    1.0          0.0                 0.0          0.0   \n",
       "159728        0.0    1.0          0.0                 0.0          0.0   \n",
       "159729        0.0    0.0          0.0                 0.0          0.0   \n",
       "159730        0.0    0.0          0.0                 0.0          0.0   \n",
       "\n",
       "        SingleFamily  Townhouse  Unknown  NaN  \n",
       "0                1.0        0.0      0.0  0.0  \n",
       "1                1.0        0.0      0.0  0.0  \n",
       "2                1.0        0.0      0.0  0.0  \n",
       "3                0.0        0.0      0.0  1.0  \n",
       "4                0.0        1.0      0.0  0.0  \n",
       "...              ...        ...      ...  ...  \n",
       "159726           0.0        0.0      0.0  0.0  \n",
       "159727           0.0        0.0      0.0  0.0  \n",
       "159728           0.0        0.0      0.0  0.0  \n",
       "159729           1.0        0.0      0.0  0.0  \n",
       "159730           1.0        0.0      0.0  0.0  \n",
       "\n",
       "[159731 rows x 9 columns]"
      ]
     },
     "execution_count": 58,
     "metadata": {},
     "output_type": "execute_result"
    }
   ],
   "source": [
    "# convert the original \"Home type\" column to the encoded categories\n",
    "pd.DataFrame(ohe.transform(data_df[['Home type']]).toarray()).rename(columns={i: catg for i, catg in enumerate(ohe.categories_[0])})"
   ]
  },
  {
   "cell_type": "markdown",
   "id": "65a8922c",
   "metadata": {},
   "source": [
    "#### Date-time representation\n",
    "- generate a corresponding feature list such as: [year, month, day]"
   ]
  },
  {
   "cell_type": "code",
   "execution_count": 59,
   "id": "428df942",
   "metadata": {},
   "outputs": [],
   "source": [
    "data_col = ['Sold On', 'Year built', 'Listed On']"
   ]
  },
  {
   "cell_type": "code",
   "execution_count": 60,
   "id": "eb314702",
   "metadata": {},
   "outputs": [
    {
     "data": {
      "text/plain": [
       "0     01/31/20\n",
       "1     02/25/21\n",
       "2     11/06/19\n",
       "4     10/19/20\n",
       "5     02/24/21\n",
       "6     08/31/19\n",
       "7     11/06/19\n",
       "8     01/30/21\n",
       "9     08/31/18\n",
       "10    01/13/21\n",
       "Name: Sold On, dtype: object"
      ]
     },
     "execution_count": 60,
     "metadata": {},
     "output_type": "execute_result"
    }
   ],
   "source": [
    "# we will use the \"Sold On\" column as an example to show the processing logics\n",
    "data_df.iloc[:10]['Sold On']"
   ]
  },
  {
   "cell_type": "code",
   "execution_count": 61,
   "id": "dcc42a27",
   "metadata": {},
   "outputs": [
    {
     "name": "stderr",
     "output_type": "stream",
     "text": [
      "/tmp/ipykernel_57932/1496694987.py:2: UserWarning: The argument 'infer_datetime_format' is deprecated and will be removed in a future version. A strict version of it is now the default, see https://pandas.pydata.org/pdeps/0004-consistent-to-datetime-parsing.html. You can safely remove this argument.\n",
      "  data_df['Sold On'] = pd.to_datetime(data_df['Sold On'], infer_datetime_format=True)\n",
      "/tmp/ipykernel_57932/1496694987.py:2: UserWarning: Could not infer format, so each element will be parsed individually, falling back to `dateutil`. To ensure parsing is consistent and as-expected, please specify a format.\n",
      "  data_df['Sold On'] = pd.to_datetime(data_df['Sold On'], infer_datetime_format=True)\n"
     ]
    }
   ],
   "source": [
    "# convert the column to DataTime type\n",
    "data_df['Sold On'] = pd.to_datetime(data_df['Sold On'], infer_datetime_format=True)"
   ]
  },
  {
   "cell_type": "code",
   "execution_count": 62,
   "id": "9a0698d8",
   "metadata": {},
   "outputs": [
    {
     "data": {
      "text/html": [
       "<div>\n",
       "<style scoped>\n",
       "    .dataframe tbody tr th:only-of-type {\n",
       "        vertical-align: middle;\n",
       "    }\n",
       "\n",
       "    .dataframe tbody tr th {\n",
       "        vertical-align: top;\n",
       "    }\n",
       "\n",
       "    .dataframe thead th {\n",
       "        text-align: right;\n",
       "    }\n",
       "</style>\n",
       "<table border=\"1\" class=\"dataframe\">\n",
       "  <thead>\n",
       "    <tr style=\"text-align: right;\">\n",
       "      <th></th>\n",
       "      <th>Sold On</th>\n",
       "      <th>Sold_Year</th>\n",
       "      <th>Sold_Month</th>\n",
       "      <th>Sold_Day</th>\n",
       "    </tr>\n",
       "  </thead>\n",
       "  <tbody>\n",
       "    <tr>\n",
       "      <th>0</th>\n",
       "      <td>2020-01-31</td>\n",
       "      <td>2020</td>\n",
       "      <td>1</td>\n",
       "      <td>31</td>\n",
       "    </tr>\n",
       "    <tr>\n",
       "      <th>1</th>\n",
       "      <td>2021-02-25</td>\n",
       "      <td>2021</td>\n",
       "      <td>2</td>\n",
       "      <td>25</td>\n",
       "    </tr>\n",
       "    <tr>\n",
       "      <th>2</th>\n",
       "      <td>2019-11-06</td>\n",
       "      <td>2019</td>\n",
       "      <td>11</td>\n",
       "      <td>6</td>\n",
       "    </tr>\n",
       "    <tr>\n",
       "      <th>4</th>\n",
       "      <td>2020-10-19</td>\n",
       "      <td>2020</td>\n",
       "      <td>10</td>\n",
       "      <td>19</td>\n",
       "    </tr>\n",
       "    <tr>\n",
       "      <th>5</th>\n",
       "      <td>2021-02-24</td>\n",
       "      <td>2021</td>\n",
       "      <td>2</td>\n",
       "      <td>24</td>\n",
       "    </tr>\n",
       "    <tr>\n",
       "      <th>...</th>\n",
       "      <td>...</td>\n",
       "      <td>...</td>\n",
       "      <td>...</td>\n",
       "      <td>...</td>\n",
       "    </tr>\n",
       "    <tr>\n",
       "      <th>164939</th>\n",
       "      <td>2021-02-19</td>\n",
       "      <td>2021</td>\n",
       "      <td>2</td>\n",
       "      <td>19</td>\n",
       "    </tr>\n",
       "    <tr>\n",
       "      <th>164940</th>\n",
       "      <td>2018-05-31</td>\n",
       "      <td>2018</td>\n",
       "      <td>5</td>\n",
       "      <td>31</td>\n",
       "    </tr>\n",
       "    <tr>\n",
       "      <th>164941</th>\n",
       "      <td>2019-11-04</td>\n",
       "      <td>2019</td>\n",
       "      <td>11</td>\n",
       "      <td>4</td>\n",
       "    </tr>\n",
       "    <tr>\n",
       "      <th>164942</th>\n",
       "      <td>2020-07-23</td>\n",
       "      <td>2020</td>\n",
       "      <td>7</td>\n",
       "      <td>23</td>\n",
       "    </tr>\n",
       "    <tr>\n",
       "      <th>164943</th>\n",
       "      <td>2019-11-27</td>\n",
       "      <td>2019</td>\n",
       "      <td>11</td>\n",
       "      <td>27</td>\n",
       "    </tr>\n",
       "  </tbody>\n",
       "</table>\n",
       "<p>159731 rows × 4 columns</p>\n",
       "</div>"
      ],
      "text/plain": [
       "          Sold On  Sold_Year  Sold_Month  Sold_Day\n",
       "0      2020-01-31       2020           1        31\n",
       "1      2021-02-25       2021           2        25\n",
       "2      2019-11-06       2019          11         6\n",
       "4      2020-10-19       2020          10        19\n",
       "5      2021-02-24       2021           2        24\n",
       "...           ...        ...         ...       ...\n",
       "164939 2021-02-19       2021           2        19\n",
       "164940 2018-05-31       2018           5        31\n",
       "164941 2019-11-04       2019          11         4\n",
       "164942 2020-07-23       2020           7        23\n",
       "164943 2019-11-27       2019          11        27\n",
       "\n",
       "[159731 rows x 4 columns]"
      ]
     },
     "execution_count": 62,
     "metadata": {},
     "output_type": "execute_result"
    }
   ],
   "source": [
    "# extract year/month/day or other corresponding features\n",
    "data_df['Sold_Year'] = data_df['Sold On'].apply(lambda time: time.year)\n",
    "data_df['Sold_Month'] = data_df['Sold On'].apply(lambda time: time.month)\n",
    "data_df['Sold_Day'] = data_df['Sold On'].apply(lambda time: time.day)\n",
    "\n",
    "data_df[['Sold On', 'Sold_Year', 'Sold_Month', 'Sold_Day']]"
   ]
  },
  {
   "cell_type": "markdown",
   "id": "3417b8e9",
   "metadata": {},
   "source": [
    "#### Text data representation\n",
    "- vectorization\n",
    "- embedding"
   ]
  },
  {
   "cell_type": "code",
   "execution_count": 63,
   "id": "c20d1974",
   "metadata": {},
   "outputs": [],
   "source": [
    "from sklearn.feature_extraction.text import CountVectorizer"
   ]
  },
  {
   "cell_type": "markdown",
   "id": "bf1186dd",
   "metadata": {},
   "source": [
    "#### Let's take the \"Summary\" column to show an example."
   ]
  },
  {
   "cell_type": "code",
   "execution_count": 64,
   "id": "4a2a6904",
   "metadata": {},
   "outputs": [],
   "source": [
    "# fill in missing values with empty string\n",
    "data_df['Summary'].fillna(value='', inplace=True)"
   ]
  },
  {
   "cell_type": "markdown",
   "id": "1ff95794",
   "metadata": {},
   "source": [
    "Take the \"Summary\" from top-100 samples to form a sample corpus, do tokenization and lemmatization"
   ]
  },
  {
   "cell_type": "code",
   "execution_count": 65,
   "id": "45413fa6",
   "metadata": {},
   "outputs": [],
   "source": [
    "corpus = data_df.iloc[:100]['Summary']\n",
    "corpus_lem = []\n",
    "for text in corpus:\n",
    "    word_list = nltk.word_tokenize(text)\n",
    "    word_lem = [lemmatizer.lemmatize(tok) for tok in word_list]\n",
    "    corpus_lem.append(' '.join(word_lem))"
   ]
  },
  {
   "cell_type": "markdown",
   "id": "b26699d9",
   "metadata": {},
   "source": [
    "Vectorize the lemmatized corpus with multiple conditions set by the parameters. **Be careful about the parameter settings.**"
   ]
  },
  {
   "cell_type": "code",
   "execution_count": 66,
   "id": "19629b6f",
   "metadata": {},
   "outputs": [],
   "source": [
    "vectorizer = CountVectorizer(min_df=5, max_df=0.8,ngram_range=(1,1),binary=False,stop_words='english')\n",
    "X = vectorizer.fit_transform(corpus_lem)"
   ]
  },
  {
   "cell_type": "code",
   "execution_count": 67,
   "id": "a2011fc7",
   "metadata": {},
   "outputs": [
    {
     "data": {
      "text/plain": [
       "(100, 254)"
      ]
     },
     "execution_count": 67,
     "metadata": {},
     "output_type": "execute_result"
    }
   ],
   "source": [
    "# check the feature matrix of the vectorized corpus\n",
    "X.shape"
   ]
  },
  {
   "cell_type": "code",
   "execution_count": 72,
   "id": "6ae16076",
   "metadata": {},
   "outputs": [
    {
     "data": {
      "text/plain": [
       "array(['000', '2018', '2019', '2020', '280', '300', '400', '500',\n",
       "       'access', 'additional', 'air', 'amazing', 'angeles', 'apple',\n",
       "       'appliance', 'area', 'attached', 'ave', 'away', 'backyard',\n",
       "       'balcony', 'bar', 'bath', 'bathroom', 'beach', 'beautiful',\n",
       "       'beautifully', 'bedroom', 'best', 'big', 'block', 'boast', 'brand',\n",
       "       'breakfast', 'bright', 'building', 'built', 'buyer', 'ca',\n",
       "       'cabinet', 'car', 'carpet', 'ceiling', 'center', 'central',\n",
       "       'charming', 'check', 'city', 'close', 'closet', 'come',\n",
       "       'community', 'commute', 'condo', 'contains', 'conveniently',\n",
       "       'counter', 'countertop', 'covered', 'cozy', 'credit', 'cul',\n",
       "       'custom', 'deck', 'den', 'desirable', 'detached', 'dining',\n",
       "       'distance', 'district', 'door', 'double', 'downstairs', 'downtown',\n",
       "       'dr', 'dream', 'driveway', 'dryer', 'dual', 'easy', 'elementary',\n",
       "       'enjoy', 'entertaining', 'excellent', 'exterior', 'extra',\n",
       "       'family', 'fan', 'feature', 'feel', 'fireplace', 'floor',\n",
       "       'flooring', 'formal', 'freeway', 'freshly', 'ft', 'fully',\n",
       "       'garage', 'garden', 'gas', 'gated', 'glass', 'golf', 'gorgeous',\n",
       "       'gourmet', 'granite', 'great', 'guest', 'ha', 'hardwood', 'heart',\n",
       "       'heater', 'high', 'highly', 'hills', 'hoa', 'house', 'huge',\n",
       "       'ideal', 'includes', 'including', 'inside', 'interior',\n",
       "       'investment', 'island', 'jose', 'just', 'kitchen', 'lake',\n",
       "       'laminate', 'landscaping', 'large', 'laundry', 'lead', 'level',\n",
       "       'light', 'lighting', 'like', 'living', 'll', 'located', 'location',\n",
       "       'los', 'lot', 'love', 'lovely', 'low', 'main', 'maintained',\n",
       "       'make', 'master', 'minute', 'mo', 'modern', 'month', 'mountain',\n",
       "       'natural', 'near', 'nearby', 'need', 'neighborhood', 'new',\n",
       "       'newer', 'newly', 'offer', 'office', 'open', 'opportunity',\n",
       "       'outdoor', 'outside', 'owner', 'paint', 'pane', 'park', 'parking',\n",
       "       'patio', 'pay', 'perfect', 'plan', 'plenty', 'plus', 'pool',\n",
       "       'porch', 'private', 'property', 'quartz', 'quiet', 'range', 'rear',\n",
       "       'recessed', 'remodeled', 'rent', 'rental', 'restaurant', 'right',\n",
       "       'roof', 'room', 'sac', 'san', 'santa', 'school', 'separate',\n",
       "       'sewer', 'shop', 'shopping', 'shower', 'silicon', 'single',\n",
       "       'skylight', 'sliding', 'sold', 'spa', 'space', 'spacious', 'sq',\n",
       "       'stainless', 'steel', 'step', 'storage', 'story', 'street',\n",
       "       'suite', 'tenant', 'tile', 'time', 'today', 'trail', 'tree',\n",
       "       'unit', 'updated', 'upgraded', 'upstairs', 'utility', 'valley',\n",
       "       'vaulted', 'verify', 'view', 'village', 'wa', 'walk', 'walking',\n",
       "       'warm', 'washer', 'water', 'welcome', 'white', 'window',\n",
       "       'wonderful', 'wood', 'work', 'yard', 'year', 'zestimate'],\n",
       "      dtype=object)"
      ]
     },
     "execution_count": 72,
     "metadata": {},
     "output_type": "execute_result"
    }
   ],
   "source": [
    "# check the extracted features during the vectorization\n",
    "feature_names = vectorizer.get_feature_names_out()\n",
    "feature_names"
   ]
  },
  {
   "cell_type": "markdown",
   "id": "11efd958",
   "metadata": {},
   "source": [
    "Find out the top-10 most frequent features "
   ]
  },
  {
   "cell_type": "code",
   "execution_count": 73,
   "id": "89c6b807",
   "metadata": {},
   "outputs": [],
   "source": [
    "def get_topn_features(X, feature_names, topn=10):\n",
    "    \"\"\"\n",
    "    Inputs:\n",
    "        X: feature matrix\n",
    "        feature_names: extracted features during vectorization\n",
    "        topn: the number of most frequent features to return\n",
    "    Outputs:\n",
    "        topn most frequent features and their frequency\n",
    "    \"\"\"\n",
    "    feature_ct = np.asarray(np.sum(X, axis=0)).reshape(-1)\n",
    "\n",
    "    feature_freq = []\n",
    "    \n",
    "    for i in np.argsort(feature_ct)[::-1][:topn]:\n",
    "        feature_freq.append({'feature':feature_names[i], 'frequency':feature_ct[i]})\n",
    "    \n",
    "    return pd.DataFrame(feature_freq)"
   ]
  },
  {
   "cell_type": "code",
   "execution_count": 74,
   "id": "25e342fb",
   "metadata": {},
   "outputs": [
    {
     "data": {
      "text/html": [
       "<div>\n",
       "<style scoped>\n",
       "    .dataframe tbody tr th:only-of-type {\n",
       "        vertical-align: middle;\n",
       "    }\n",
       "\n",
       "    .dataframe tbody tr th {\n",
       "        vertical-align: top;\n",
       "    }\n",
       "\n",
       "    .dataframe thead th {\n",
       "        text-align: right;\n",
       "    }\n",
       "</style>\n",
       "<table border=\"1\" class=\"dataframe\">\n",
       "  <thead>\n",
       "    <tr style=\"text-align: right;\">\n",
       "      <th></th>\n",
       "      <th>feature</th>\n",
       "      <th>frequency</th>\n",
       "    </tr>\n",
       "  </thead>\n",
       "  <tbody>\n",
       "    <tr>\n",
       "      <th>0</th>\n",
       "      <td>new</td>\n",
       "      <td>102</td>\n",
       "    </tr>\n",
       "    <tr>\n",
       "      <th>1</th>\n",
       "      <td>room</td>\n",
       "      <td>93</td>\n",
       "    </tr>\n",
       "    <tr>\n",
       "      <th>2</th>\n",
       "      <td>bedroom</td>\n",
       "      <td>84</td>\n",
       "    </tr>\n",
       "    <tr>\n",
       "      <th>3</th>\n",
       "      <td>kitchen</td>\n",
       "      <td>66</td>\n",
       "    </tr>\n",
       "    <tr>\n",
       "      <th>4</th>\n",
       "      <td>living</td>\n",
       "      <td>54</td>\n",
       "    </tr>\n",
       "    <tr>\n",
       "      <th>5</th>\n",
       "      <td>bathroom</td>\n",
       "      <td>53</td>\n",
       "    </tr>\n",
       "    <tr>\n",
       "      <th>6</th>\n",
       "      <td>family</td>\n",
       "      <td>50</td>\n",
       "    </tr>\n",
       "    <tr>\n",
       "      <th>7</th>\n",
       "      <td>floor</td>\n",
       "      <td>46</td>\n",
       "    </tr>\n",
       "    <tr>\n",
       "      <th>8</th>\n",
       "      <td>large</td>\n",
       "      <td>44</td>\n",
       "    </tr>\n",
       "    <tr>\n",
       "      <th>9</th>\n",
       "      <td>ha</td>\n",
       "      <td>44</td>\n",
       "    </tr>\n",
       "  </tbody>\n",
       "</table>\n",
       "</div>"
      ],
      "text/plain": [
       "    feature  frequency\n",
       "0       new        102\n",
       "1      room         93\n",
       "2   bedroom         84\n",
       "3   kitchen         66\n",
       "4    living         54\n",
       "5  bathroom         53\n",
       "6    family         50\n",
       "7     floor         46\n",
       "8     large         44\n",
       "9        ha         44"
      ]
     },
     "execution_count": 74,
     "metadata": {},
     "output_type": "execute_result"
    }
   ],
   "source": [
    "get_topn_features(X, feature_names, topn=10)"
   ]
  },
  {
   "cell_type": "markdown",
   "id": "29a83671",
   "metadata": {},
   "source": [
    "From the top-10 most frequent features, we observe that most houses describe the house conditions from the aspect of new, bedroom, bathroom, living, kitchen, floor. <br>\n",
    "**However**, it is unclear why \"ha\" appears to be a frequent word. We need to find out documents that contain \"ha\" and explore the specific reason."
   ]
  },
  {
   "cell_type": "code",
   "execution_count": 75,
   "id": "2c30c005",
   "metadata": {},
   "outputs": [
    {
     "data": {
      "text/plain": [
       "(array([109]),)"
      ]
     },
     "execution_count": 75,
     "metadata": {},
     "output_type": "execute_result"
    }
   ],
   "source": [
    "# find the index of \"ha\" from the feature list\n",
    "np.where(feature_names == 'ha')"
   ]
  },
  {
   "cell_type": "code",
   "execution_count": 76,
   "id": "b8899d8c",
   "metadata": {},
   "outputs": [
    {
     "data": {
      "text/plain": [
       "array(['This lovely rental is located in the prestigious Villages Golf & Country Club , a 55+ community in the Evergreen area of Silicon Valley . Rent for 6 or 12 month .... perfect if you want to try out living in The Villages before buying , This home ha new carpet , 2 bedroom , 2 bath , kitchen with breakfast nook , granite counter , 2 pantry , 2 car garage with storage and a huge back patio for relaxing . The Villages offer many amenity like . . . 18 & 9 hole Golf course , 4 Swimming Pools & Spas , Tennis , Pickle-ball , Bocce , Billiards plus many Organized activity . Two restaurant with Clubhouse for fine dining and the Bistro for casual and patio dining ,',\n",
       "       'Located in the heart of Silicon Valley is this wonderfully maintained 1973 Lancer home . It come with 2 bedroom and 2 bathroom . This home offer carpet throughout the room and living room . This well-kept home ha all the need any home buyer would love including a kitchen with a pantry , microwave , gas stove/oven , and refrigerator . The dining area is very inviting and ha a ceiling fan . The master suite feature a private bathroom with a standing shower and medicine cabinet . It includes a washer and dryer utility room It come with a four-car carport and it is close to major freeway , shopping , and restaurant ! Serial # S3791U/X'],\n",
       "      dtype='<U1927')"
      ]
     },
     "execution_count": 76,
     "metadata": {},
     "output_type": "execute_result"
    }
   ],
   "source": [
    "# find \"ha\" from the lemmatized corpus\n",
    "np.array(corpus_lem)[np.where(X[:, 109].toarray() > 0)[0]][:2] # only select two samples for visualization purpose"
   ]
  },
  {
   "cell_type": "code",
   "execution_count": 77,
   "id": "401ad74e",
   "metadata": {},
   "outputs": [
    {
     "data": {
      "text/plain": [
       "array(['This lovely rental is located in the prestigious Villages Golf & Country Club, a 55+ community in the Evergreen area of Silicon Valley. Rent for 6 or 12 months....perfect if you want to try out living in The Villages before buying, This home has new carpet, 2 bedrooms, 2 bath, kitchen with breakfast nook, granite counters, 2 pantries, 2 car garage with storage and a huge back patio for relaxing. The Villages offers many amenities like. . . 18 & 9 hole Golf courses, 4 Swimming Pools & Spas, Tennis, Pickle-ball, Bocce, Billiards plus many Organized activities. Two restaurants with Clubhouse for fine dining and the Bistro for casual and patio dining,',\n",
       "       'Located in the heart of Silicon Valley is this wonderfully maintained 1973 Lancer home. It comes with 2 bedrooms and 2 bathrooms. This home offers carpet throughout the rooms and living room. This well-kept home has all the needs any home buyer would love including a kitchen with a pantry, microwave, gas stove/oven, and refrigerator. The dining area is very inviting and has a ceiling fan. The master suite features a private bathroom with a standing shower and medicine cabinet. It includes a washer and dryer utility room It comes with a four-car carport and it is close to major freeways, shopping, and restaurants! Serial# S3791U/X'],\n",
       "      dtype=object)"
      ]
     },
     "execution_count": 77,
     "metadata": {},
     "output_type": "execute_result"
    }
   ],
   "source": [
    "# find \"ha\" from the raw corpus before tokenization and lemmatization\n",
    "corpus.values[np.where(X[:, 109].toarray() > 0)[0]][:2] # only select two samples for visualization purpose"
   ]
  },
  {
   "cell_type": "code",
   "execution_count": 78,
   "id": "3d7cd892",
   "metadata": {},
   "outputs": [
    {
     "data": {
      "text/plain": [
       "'ha'"
      ]
     },
     "execution_count": 78,
     "metadata": {},
     "output_type": "execute_result"
    }
   ],
   "source": [
    "# according to the above observation, it seems like \"ha\" is the lemma of \"has\"\n",
    "lemmatizer.lemmatize('has')"
   ]
  },
  {
   "cell_type": "markdown",
   "id": "e4643fe9",
   "metadata": {},
   "source": [
    "Based on the above exploration, we know that \"ha\" appears to be a frequent word, because it is lemmatized from \"has\", which is frequently used in the \"Summary\" description. <br>\n",
    "According to our common sense, \"ha\" doesn't provide deeper understanding of the house's \"Summary\" information. So we can process it as a stop-word and remove it during the vectorization process."
   ]
  },
  {
   "cell_type": "code",
   "execution_count": 100,
   "id": "e88a1ed2",
   "metadata": {},
   "outputs": [],
   "source": [
    "# add self-defined stop-words\n",
    "from sklearn.feature_extraction import text \n",
    "new_stop_words = list(text.ENGLISH_STOP_WORDS.union(['ha']))\n",
    "# start from vectorization to repeat the above process \n",
    "# In real-world tasks, you might need to repeat the above process multiple times to remove unreasonable features"
   ]
  },
  {
   "cell_type": "markdown",
   "id": "b06f8f4f",
   "metadata": {},
   "source": [
    "#### task-4 (3pts): text data representation\n",
    "- In the above process, we showed the logics for doing text feature engineering, on 100 samples.\n",
    "- In the following part, please apply the similar logic to process the \"Summary\" column for all samples. \n",
    "- Find out the top-20 most frequent words (you might repeat the process multiple times until the top-20 most frequent words make sense to you)"
   ]
  },
  {
   "cell_type": "code",
   "execution_count": 101,
   "id": "fda8bdfe",
   "metadata": {},
   "outputs": [],
   "source": [
    "corpus = data_df['Summary']\n",
    "corpus_lem = []\n",
    "for text in corpus:\n",
    "    word_list = nltk.word_tokenize(text)\n",
    "    word_lem = [lemmatizer.lemmatize(tok) for tok in word_list]\n",
    "    corpus_lem.append(' '.join(word_lem))"
   ]
  },
  {
   "cell_type": "code",
   "execution_count": 102,
   "id": "e97f9ff6",
   "metadata": {},
   "outputs": [],
   "source": [
    "vectorizer = CountVectorizer(stop_words=new_stop_words, min_df=5, max_df=0.8, ngram_range=(1, 1))\n",
    "X = vectorizer.fit_transform(corpus_lem)"
   ]
  },
  {
   "cell_type": "code",
   "execution_count": 103,
   "id": "a712976e-796d-4f43-9104-d3dabe13b637",
   "metadata": {},
   "outputs": [
    {
     "data": {
      "text/plain": [
       "(124064, 19774)"
      ]
     },
     "execution_count": 103,
     "metadata": {},
     "output_type": "execute_result"
    }
   ],
   "source": [
    "X.shape"
   ]
  },
  {
   "cell_type": "code",
   "execution_count": 104,
   "id": "9cb62c13-30c4-4453-9ffd-c5b3271feefb",
   "metadata": {},
   "outputs": [
    {
     "data": {
      "text/plain": [
       "array(['00', '000', '0000', ..., 'â½', 'â¾', 'ãƒâ'], dtype=object)"
      ]
     },
     "execution_count": 104,
     "metadata": {},
     "output_type": "execute_result"
    }
   ],
   "source": [
    "feature_names = vectorizer.get_feature_names_out()\n",
    "feature_names"
   ]
  },
  {
   "cell_type": "code",
   "execution_count": 105,
   "id": "4ac14bf5-6a07-4026-9455-de07135b143d",
   "metadata": {},
   "outputs": [],
   "source": [
    "def get_topn_features(X, feature_names, topn=20):\n",
    "    \"\"\"\n",
    "    Inputs:\n",
    "        X: feature matrix\n",
    "        feature_names: extracted features during vectorization\n",
    "        topn: the number of most frequent features to return\n",
    "    Outputs:\n",
    "        topn most frequent features and their frequency\n",
    "    \"\"\"\n",
    "    feature_ct = np.asarray(np.sum(X, axis=0)).reshape(-1)\n",
    "\n",
    "    feature_freq = []\n",
    "    \n",
    "    for i in np.argsort(feature_ct)[::-1][:topn]:\n",
    "        feature_freq.append({'feature':feature_names[i], 'frequency':feature_ct[i]})\n",
    "    \n",
    "    return pd.DataFrame(feature_freq)"
   ]
  },
  {
   "cell_type": "code",
   "execution_count": 106,
   "id": "4abb4277-9a35-4812-99ce-a16b3fe4054c",
   "metadata": {},
   "outputs": [
    {
     "data": {
      "text/html": [
       "<div>\n",
       "<style scoped>\n",
       "    .dataframe tbody tr th:only-of-type {\n",
       "        vertical-align: middle;\n",
       "    }\n",
       "\n",
       "    .dataframe tbody tr th {\n",
       "        vertical-align: top;\n",
       "    }\n",
       "\n",
       "    .dataframe thead th {\n",
       "        text-align: right;\n",
       "    }\n",
       "</style>\n",
       "<table border=\"1\" class=\"dataframe\">\n",
       "  <thead>\n",
       "    <tr style=\"text-align: right;\">\n",
       "      <th></th>\n",
       "      <th>feature</th>\n",
       "      <th>frequency</th>\n",
       "    </tr>\n",
       "  </thead>\n",
       "  <tbody>\n",
       "    <tr>\n",
       "      <th>0</th>\n",
       "      <td>home</td>\n",
       "      <td>226080</td>\n",
       "    </tr>\n",
       "    <tr>\n",
       "      <th>1</th>\n",
       "      <td>bedroom</td>\n",
       "      <td>123575</td>\n",
       "    </tr>\n",
       "    <tr>\n",
       "      <th>2</th>\n",
       "      <td>room</td>\n",
       "      <td>122399</td>\n",
       "    </tr>\n",
       "    <tr>\n",
       "      <th>3</th>\n",
       "      <td>kitchen</td>\n",
       "      <td>83085</td>\n",
       "    </tr>\n",
       "    <tr>\n",
       "      <th>4</th>\n",
       "      <td>new</td>\n",
       "      <td>79782</td>\n",
       "    </tr>\n",
       "    <tr>\n",
       "      <th>5</th>\n",
       "      <td>bathroom</td>\n",
       "      <td>75274</td>\n",
       "    </tr>\n",
       "    <tr>\n",
       "      <th>6</th>\n",
       "      <td>living</td>\n",
       "      <td>68525</td>\n",
       "    </tr>\n",
       "    <tr>\n",
       "      <th>7</th>\n",
       "      <td>floor</td>\n",
       "      <td>67222</td>\n",
       "    </tr>\n",
       "    <tr>\n",
       "      <th>8</th>\n",
       "      <td>large</td>\n",
       "      <td>65100</td>\n",
       "    </tr>\n",
       "    <tr>\n",
       "      <th>9</th>\n",
       "      <td>family</td>\n",
       "      <td>62747</td>\n",
       "    </tr>\n",
       "    <tr>\n",
       "      <th>10</th>\n",
       "      <td>bath</td>\n",
       "      <td>58484</td>\n",
       "    </tr>\n",
       "    <tr>\n",
       "      <th>11</th>\n",
       "      <td>area</td>\n",
       "      <td>57430</td>\n",
       "    </tr>\n",
       "    <tr>\n",
       "      <th>12</th>\n",
       "      <td>contains</td>\n",
       "      <td>51880</td>\n",
       "    </tr>\n",
       "    <tr>\n",
       "      <th>13</th>\n",
       "      <td>house</td>\n",
       "      <td>50973</td>\n",
       "    </tr>\n",
       "    <tr>\n",
       "      <th>14</th>\n",
       "      <td>zestimate</td>\n",
       "      <td>50534</td>\n",
       "    </tr>\n",
       "    <tr>\n",
       "      <th>15</th>\n",
       "      <td>built</td>\n",
       "      <td>48550</td>\n",
       "    </tr>\n",
       "    <tr>\n",
       "      <th>16</th>\n",
       "      <td>garage</td>\n",
       "      <td>45294</td>\n",
       "    </tr>\n",
       "    <tr>\n",
       "      <th>17</th>\n",
       "      <td>open</td>\n",
       "      <td>45236</td>\n",
       "    </tr>\n",
       "    <tr>\n",
       "      <th>18</th>\n",
       "      <td>master</td>\n",
       "      <td>43215</td>\n",
       "    </tr>\n",
       "    <tr>\n",
       "      <th>19</th>\n",
       "      <td>space</td>\n",
       "      <td>43073</td>\n",
       "    </tr>\n",
       "  </tbody>\n",
       "</table>\n",
       "</div>"
      ],
      "text/plain": [
       "      feature  frequency\n",
       "0        home     226080\n",
       "1     bedroom     123575\n",
       "2        room     122399\n",
       "3     kitchen      83085\n",
       "4         new      79782\n",
       "5    bathroom      75274\n",
       "6      living      68525\n",
       "7       floor      67222\n",
       "8       large      65100\n",
       "9      family      62747\n",
       "10       bath      58484\n",
       "11       area      57430\n",
       "12   contains      51880\n",
       "13      house      50973\n",
       "14  zestimate      50534\n",
       "15      built      48550\n",
       "16     garage      45294\n",
       "17       open      45236\n",
       "18     master      43215\n",
       "19      space      43073"
      ]
     },
     "execution_count": 106,
     "metadata": {},
     "output_type": "execute_result"
    }
   ],
   "source": [
    "get_topn_features(X, feature_names, topn=20)"
   ]
  },
  {
   "cell_type": "markdown",
   "id": "d434e5bf",
   "metadata": {},
   "source": [
    "### Additional Analysis (optional)"
   ]
  },
  {
   "cell_type": "code",
   "execution_count": 80,
   "id": "b2b92eae",
   "metadata": {},
   "outputs": [
    {
     "data": {
      "text/plain": [
       "Type\n",
       "SingleFamily          98901\n",
       "Condo                 27341\n",
       "Townhouse              7089\n",
       "MultiFamily            6570\n",
       "VacantLand             6199\n",
       "Unknown                5540\n",
       "MobileManufactured     3586\n",
       "Apartment              1652\n",
       "Single Family           457\n",
       "Cooperative             174\n",
       "Name: count, dtype: int64"
      ]
     },
     "execution_count": 80,
     "metadata": {},
     "output_type": "execute_result"
    }
   ],
   "source": [
    "# Houses could have different types, here are the top types:\n",
    "data_df['Type'].value_counts()[0:10]"
   ]
  },
  {
   "cell_type": "markdown",
   "id": "b8fb83a6",
   "metadata": {},
   "source": [
    "We want to calculate \"price per living sqft\" from the current features, an important measurement of final house price. Let's check the differences between different house types."
   ]
  },
  {
   "cell_type": "code",
   "execution_count": 81,
   "id": "82d270ba",
   "metadata": {},
   "outputs": [
    {
     "name": "stderr",
     "output_type": "stream",
     "text": [
      "/opt/anaconda3/lib/python3.11/site-packages/seaborn/categorical.py:641: FutureWarning: The default of observed=False is deprecated and will be changed to True in a future version of pandas. Pass observed=False to retain current behavior or observed=True to adopt the future default and silence this warning.\n",
      "  grouped_vals = vals.groupby(grouper)\n"
     ]
    },
    {
     "data": {
      "image/png": "[encoded data removed]",
      "text/plain": [
       "<Figure size 640x480 with 1 Axes>"
      ]
     },
     "metadata": {},
     "output_type": "display_data"
    }
   ],
   "source": [
    "common_types = data_df['Type'].isin(['SingleFamily', 'Condo', 'MultiFamily', 'Townhouse'])\n",
    "data_df['Price per living sqft'] = data_df['Sold Price'] / data_df['Total interior livable area']\n",
    "ax = sns.boxplot(x='Type', y='Price per living sqft', data=data_df[common_types], fliersize=0)\n",
    "ax.set_ylim([0, 2000]);"
   ]
  },
  {
   "cell_type": "markdown",
   "id": "3735322c",
   "metadata": {},
   "source": [
    "Sale price per living sqft is often related with house locations. Let's check the price for the top 20 zip codes."
   ]
  },
  {
   "cell_type": "code",
   "execution_count": 82,
   "id": "e67e3098",
   "metadata": {},
   "outputs": [
    {
     "data": {
      "text/plain": [
       "Zip\n",
       "94089    789\n",
       "95131    789\n",
       "95003    789\n",
       "95122    788\n",
       "95136    786\n",
       "95133    786\n",
       "95118    786\n",
       "94404    786\n",
       "95060    784\n",
       "95135    784\n",
       "95123    784\n",
       "94043    784\n",
       "95124    783\n",
       "95111    783\n",
       "95132    782\n",
       "94087    782\n",
       "95062    781\n",
       "94403    781\n",
       "95066    780\n",
       "95148    780\n",
       "Name: count, dtype: int64"
      ]
     },
     "execution_count": 82,
     "metadata": {},
     "output_type": "execute_result"
    }
   ],
   "source": [
    "data_df['Zip'].value_counts()[:20]"
   ]
  },
  {
   "cell_type": "code",
   "execution_count": 83,
   "id": "228187d4",
   "metadata": {},
   "outputs": [
    {
     "data": {
      "image/png": "[encoded data removed]",
      "text/plain": [
       "<Figure size 640x480 with 1 Axes>"
      ]
     },
     "metadata": {},
     "output_type": "display_data"
    }
   ],
   "source": [
    "data_df['Zip'] = data_df['Zip'].astype('string')\n",
    "data_df['Price per living sqft'] = data_df['Sold Price'] / data_df['Total interior livable area']\n",
    "mask = data_df['Zip'].isin(['95131','94114', '94118'])\n",
    "ax = sns.boxplot(x='Zip', y='Price per living sqft', data=data_df[mask])\n",
    "ax.set_ylim([0, 3000]);"
   ]
  },
  {
   "cell_type": "code",
   "execution_count": 84,
   "id": "67626b56",
   "metadata": {},
   "outputs": [
    {
     "data": {
      "image/png": "[encoded data removed]",
      "text/plain": [
       "<Figure size 640x480 with 1 Axes>"
      ]
     },
     "metadata": {},
     "output_type": "display_data"
    }
   ],
   "source": [
    "d = data_df[data_df['Zip'].isin(data_df['Zip'].value_counts()[:20].keys())]\n",
    "ax = sns.boxplot(x='Zip', y='Price per living sqft', data=d, fliersize=0)\n",
    "ax.set_ylim([0, 2000])\n",
    "ax.set_xticklabels(ax.get_xticklabels(), rotation=90);"
   ]
  },
  {
   "cell_type": "markdown",
   "id": "12bbafe4",
   "metadata": {},
   "source": [
    "In some cases, we also need to check the correlations among multiple columns:\n",
    "- as a way to measure colinearty\n",
    "- visualize the correlation matrix as a heatmap"
   ]
  },
  {
   "cell_type": "code",
   "execution_count": 85,
   "id": "4a0c8c7f",
   "metadata": {},
   "outputs": [
    {
     "data": {
      "image/png": "[encoded data removed]",
      "text/plain": [
       "<Figure size 600x600 with 2 Axes>"
      ]
     },
     "metadata": {},
     "output_type": "display_data"
    }
   ],
   "source": [
    "_, ax = plt.subplots(figsize=(6,6))\n",
    "columns = ['Sold Price', 'Listed Price', 'Annual tax amount', 'Price per living sqft', 'Elementary School Score', 'High School Score']\n",
    "sns.heatmap(data_df[columns].corr(),annot=True,cmap='RdYlGn', ax=ax);"
   ]
  },
  {
   "cell_type": "markdown",
   "id": "6eb92c53",
   "metadata": {},
   "source": [
    "According to the heat map, we can observe that:\n",
    "- sold price is not closely correlated with the listed price\n",
    "- sold price has some correlation with the annual tax amount\n",
    "\n",
    "**Optional free exploration**: do you have any additional EDA techniques to explore (if yes, please implement it below)"
   ]
  },
  {
   "cell_type": "code",
   "execution_count": null,
   "id": "d4fc295d",
   "metadata": {},
   "outputs": [],
   "source": []
  },
  {
   "cell_type": "code",
   "execution_count": null,
   "id": "b796ee74",
   "metadata": {},
   "outputs": [],
   "source": []
  },
  {
   "cell_type": "markdown",
   "id": "aa020e10",
   "metadata": {},
   "source": [
    "### Summary\n",
    "\n",
    "This notebook demonstrates the basic technologies of doing data analysis for different data types, including\n",
    "\n",
    "  - Data overview (understanding column data types, values, and distributions)\n",
    "  - Data cleaning (remove missing values, outlier detection)\n",
    "  - Data transformation (normalization, tokenization, lemmatization)\n",
    "  - Feature engineering (encoding categorical data, text feature representation)\n",
    "  - Understanding the interactions between columns (colinearty examination)\n",
    "\n",
    "We only explored a small aspect of the data. You are welcome to dive deep into more details."
   ]
  }
 ],
 "metadata": {
  "kernelspec": {
   "display_name": "Python 3 (ipykernel)",
   "language": "python",
   "name": "python3"
  },
  "language_info": {
   "codemirror_mode": {
    "name": "ipython",
    "version": 3
   },
   "file_extension": ".py",
   "mimetype": "text/x-python",
   "name": "python",
   "nbconvert_exporter": "python",
   "pygments_lexer": "ipython3",
   "version": "3.11.7"
  },
  "toc": {
   "base_numbering": 1,
   "nav_menu": {},
   "number_sections": true,
   "sideBar": true,
   "skip_h1_title": false,
   "title_cell": "Table of Contents",
   "title_sidebar": "Contents",
   "toc_cell": false,
   "toc_position": {
    "height": "calc(100% - 180px)",
    "left": "10px",
    "top": "150px",
    "width": "211.165px"
   },
   "toc_section_display": true,
   "toc_window_display": true
  }
 },
 "nbformat": 4,
 "nbformat_minor": 5
}
