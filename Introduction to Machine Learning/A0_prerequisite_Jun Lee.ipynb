{
 "cells": [
  {
   "cell_type": "markdown",
   "id": "7ab75c09",
   "metadata": {},
   "source": [
    "### Python basics, Numpy, and Pandas (5pts)\n",
    "In this assignment, we will do a practice test to assess your foundamental understanding of Python, Numpy, and Pandas. \n",
    "- Feel free to review these topics from T0_Python_review.ipynb and T0_Numpy_Pandas_review.ipynb \n",
    "- We provide the instructions, function headers, docstring, and running examples. Each running example shows the expected result of implementing the correct code.\n",
    "- Please complete this assignment by filling in your code under **\"your code here:\"**"
   ]
  },
  {
   "cell_type": "markdown",
   "id": "d8bc1b55",
   "metadata": {},
   "source": [
    "### Part1: csv file and basic dictionary operations (1pts)"
   ]
  },
  {
   "cell_type": "code",
   "execution_count": 6,
   "id": "ffd7ada4",
   "metadata": {},
   "outputs": [],
   "source": [
    "import csv"
   ]
  },
  {
   "cell_type": "markdown",
   "id": "30d7235a",
   "metadata": {},
   "source": [
    "**Task-1.1 (0.5pts)**\n",
    "- Open the ./data/candidates.csv file (you can visualize it from excel/numbers), read data using csv.DictReader.\n",
    "- Store the content as a list of dictionaries, where each dictionary corresponds to one row of the original data"
   ]
  },
  {
   "cell_type": "code",
   "execution_count": 7,
   "id": "485f43e7",
   "metadata": {},
   "outputs": [],
   "source": [
    "data = [] # store the contents in data\n",
    "\n",
    "# your code here (approximately 4 lines of code)\n",
    "with open(\"/Users/minjunlee/Desktop/UChicago/Class/Spring Quarter/machine learning/data/candidates.csv\") as f:\n",
    "    reader = csv.DictReader(f)\n",
    "    for row in reader:\n",
    "        data.append(row)"
   ]
  },
  {
   "cell_type": "code",
   "execution_count": 8,
   "id": "7bf1718c",
   "metadata": {
    "collapsed": true
   },
   "outputs": [
    {
     "data": {
      "text/plain": [
       "[{'Candidate_ID': 'C00464040',\n",
       "  'City': 'BIRMINGHAM',\n",
       "  'District': '07',\n",
       "  'First': ' MARTHA RENEE',\n",
       "  'Last': 'BOZEMAN',\n",
       "  'Party': 'UNK',\n",
       "  'State': 'AL',\n",
       "  'Zipcode': '35201'},\n",
       " {'Candidate_ID': 'C00460410',\n",
       "  'City': 'BIRMINGHAM',\n",
       "  'District': '07',\n",
       "  'First': ' EARL FREDERICK JR',\n",
       "  'Last': 'HILLIARD',\n",
       "  'Party': 'DEM',\n",
       "  'State': 'AL',\n",
       "  'Zipcode': '35202'},\n",
       " {'Candidate_ID': 'C00461038',\n",
       "  'City': 'BIRMINGHAM',\n",
       "  'District': '07',\n",
       "  'First': ' SHEILA',\n",
       "  'Last': 'SMOOT',\n",
       "  'Party': 'DEM',\n",
       "  'State': 'AL',\n",
       "  'Zipcode': '35201'},\n",
       " {'Candidate_ID': 'C00471235',\n",
       "  'City': 'BIRMINGHAM',\n",
       "  'District': '07',\n",
       "  'First': ' MICHELE',\n",
       "  'Last': 'WALLER',\n",
       "  'Party': 'REP',\n",
       "  'State': 'AL',\n",
       "  'Zipcode': '35202'},\n",
       " {'Candidate_ID': 'C00482091',\n",
       "  'City': 'BIRMINGHAM',\n",
       "  'District': '07',\n",
       "  'First': ' ROBERT CHRISTOPHER',\n",
       "  'Last': 'SALTER',\n",
       "  'Party': 'REP',\n",
       "  'State': 'AL',\n",
       "  'Zipcode': '35206'},\n",
       " {'Candidate_ID': 'C00068353',\n",
       "  'City': 'MONTPELIER',\n",
       "  'District': '00',\n",
       "  'First': ' PATRICK',\n",
       "  'Last': 'LEAHY',\n",
       "  'Party': 'DEM',\n",
       "  'State': 'VT',\n",
       "  'Zipcode': '05601'},\n",
       " {'Candidate_ID': 'C00104752',\n",
       "  'City': 'SALT LAKE CITY',\n",
       "  'District': '00',\n",
       "  'First': ' ORRIN G',\n",
       "  'Last': 'HATCH',\n",
       "  'Party': 'REP',\n",
       "  'State': 'UT',\n",
       "  'Zipcode': '84101'},\n",
       " {'Candidate_ID': 'C00091892',\n",
       "  'City': 'OXFORD',\n",
       "  'District': '00',\n",
       "  'First': ' THAD',\n",
       "  'Last': 'COCHRAN',\n",
       "  'Party': 'REP',\n",
       "  'State': 'MS',\n",
       "  'Zipcode': '38655'}]"
      ]
     },
     "execution_count": 8,
     "metadata": {},
     "output_type": "execute_result"
    }
   ],
   "source": [
    "# running example\n",
    "data"
   ]
  },
  {
   "cell_type": "markdown",
   "id": "3c1aa89c",
   "metadata": {},
   "source": [
    "**Task-1.2 (0.5pts)**\n",
    "- Build another dictionary from the above resulting list \"data\", where: \n",
    "    - (1) each key corresponds to a unique state (values in the \"State\" column); \n",
    "    - (2) the value is a list of dictionaries, where each dictionary corresponds to rows of the specific \"State\""
   ]
  },
  {
   "cell_type": "code",
   "execution_count": 9,
   "id": "7465554e",
   "metadata": {},
   "outputs": [],
   "source": [
    "state_to_cand = {} # state_to_cand['AL'] = [{}, {},...]\n",
    "\n",
    "# your code here (approximately 4 lines of code)\n",
    "for row in data:\n",
    "    state = row[\"State\"]\n",
    "    if state not in state_to_cand: state_to_cand[state] = []\n",
    "    state_to_cand[state].append(row)"
   ]
  },
  {
   "cell_type": "code",
   "execution_count": 10,
   "id": "38264c25",
   "metadata": {},
   "outputs": [
    {
     "data": {
      "text/plain": [
       "[{'Candidate_ID': 'C00104752',\n",
       "  'City': 'SALT LAKE CITY',\n",
       "  'District': '00',\n",
       "  'First': ' ORRIN G',\n",
       "  'Last': 'HATCH',\n",
       "  'Party': 'REP',\n",
       "  'State': 'UT',\n",
       "  'Zipcode': '84101'}]"
      ]
     },
     "execution_count": 10,
     "metadata": {},
     "output_type": "execute_result"
    }
   ],
   "source": [
    "# running example\n",
    "state_to_cand['UT']"
   ]
  },
  {
   "cell_type": "code",
   "execution_count": 11,
   "id": "49e6bead",
   "metadata": {},
   "outputs": [
    {
     "data": {
      "text/plain": [
       "[{'Candidate_ID': 'C00464040',\n",
       "  'City': 'BIRMINGHAM',\n",
       "  'District': '07',\n",
       "  'First': ' MARTHA RENEE',\n",
       "  'Last': 'BOZEMAN',\n",
       "  'Party': 'UNK',\n",
       "  'State': 'AL',\n",
       "  'Zipcode': '35201'},\n",
       " {'Candidate_ID': 'C00460410',\n",
       "  'City': 'BIRMINGHAM',\n",
       "  'District': '07',\n",
       "  'First': ' EARL FREDERICK JR',\n",
       "  'Last': 'HILLIARD',\n",
       "  'Party': 'DEM',\n",
       "  'State': 'AL',\n",
       "  'Zipcode': '35202'},\n",
       " {'Candidate_ID': 'C00461038',\n",
       "  'City': 'BIRMINGHAM',\n",
       "  'District': '07',\n",
       "  'First': ' SHEILA',\n",
       "  'Last': 'SMOOT',\n",
       "  'Party': 'DEM',\n",
       "  'State': 'AL',\n",
       "  'Zipcode': '35201'},\n",
       " {'Candidate_ID': 'C00471235',\n",
       "  'City': 'BIRMINGHAM',\n",
       "  'District': '07',\n",
       "  'First': ' MICHELE',\n",
       "  'Last': 'WALLER',\n",
       "  'Party': 'REP',\n",
       "  'State': 'AL',\n",
       "  'Zipcode': '35202'},\n",
       " {'Candidate_ID': 'C00482091',\n",
       "  'City': 'BIRMINGHAM',\n",
       "  'District': '07',\n",
       "  'First': ' ROBERT CHRISTOPHER',\n",
       "  'Last': 'SALTER',\n",
       "  'Party': 'REP',\n",
       "  'State': 'AL',\n",
       "  'Zipcode': '35206'}]"
      ]
     },
     "execution_count": 11,
     "metadata": {},
     "output_type": "execute_result"
    }
   ],
   "source": [
    "state_to_cand['AL']"
   ]
  },
  {
   "cell_type": "markdown",
   "id": "5e06a929",
   "metadata": {},
   "source": [
    "### Part2: Numpy (1pts)"
   ]
  },
  {
   "cell_type": "code",
   "execution_count": 12,
   "id": "793e59af",
   "metadata": {},
   "outputs": [],
   "source": [
    "import numpy as np"
   ]
  },
  {
   "cell_type": "markdown",
   "id": "e34a8ae3",
   "metadata": {},
   "source": [
    "**Task-2.1 (0.3pts)**: Complete the following function **compute_matching_indices**"
   ]
  },
  {
   "cell_type": "code",
   "execution_count": 13,
   "id": "6667988f",
   "metadata": {},
   "outputs": [],
   "source": [
    "def compute_matching_indices(x, y):\n",
    "    \"\"\"\n",
    "    Returns a new array consisting of the indices where x == y. \n",
    "    \n",
    "    Input: \n",
    "        x: 1-dimensional array\n",
    "        y: 1-dimensional array\n",
    "        x and y have the same length\n",
    "    Returns: a sorted array of the indices where x[i] == y[i]\n",
    "             Note that the returned array must be one-dimensional! \n",
    "    \n",
    "    Hint: you can use np.argwhere() or you can use a for loop\n",
    "    \"\"\"\n",
    "    \n",
    "    # your code here:\n",
    "    return np.argwhere(x == y).flatten()"
   ]
  },
  {
   "cell_type": "code",
   "execution_count": 14,
   "id": "a3f400a2",
   "metadata": {},
   "outputs": [
    {
     "data": {
      "text/plain": [
       "array([0, 2])"
      ]
     },
     "execution_count": 14,
     "metadata": {},
     "output_type": "execute_result"
    }
   ],
   "source": [
    "# Running example\n",
    "x = np.array([10, 20, 30]) \n",
    "y = np.array([10, 30, 30])\n",
    "compute_matching_indices(x, y)"
   ]
  },
  {
   "cell_type": "markdown",
   "id": "12a83899",
   "metadata": {},
   "source": [
    "**Task-2.2 (0.3pts)**: Complete the following function **powers(N, p)**"
   ]
  },
  {
   "cell_type": "code",
   "execution_count": 15,
   "id": "7dfaf562",
   "metadata": {},
   "outputs": [],
   "source": [
    "def powers(N, p):\n",
    "    \"\"\"\n",
    "    Return the first N powers of p. For example:\n",
    "    powers(5, 2) --> [1, 2, 4, 8, 16] # the first 5 powers of 2: 2**0, 2**1, 2**2, 2**3, 2**4\n",
    "    powers(5, 4) --> [1, 4, 16, 64, 256]\n",
    "    \n",
    "    Input:\n",
    "       N: number of powers to return \n",
    "       p: base that we are raising to the given powers\n",
    "    \n",
    "    Returns: an array consisting of powers of p\n",
    "    \n",
    "    Hint: \n",
    "    - np.arange(5): array([0,1,2,3,4])\n",
    "    - use ** for the power operation\n",
    "    \"\"\"\n",
    "    # your code here:\n",
    "    return p ** np.arange(N)"
   ]
  },
  {
   "cell_type": "code",
   "execution_count": 16,
   "id": "01cad52e",
   "metadata": {},
   "outputs": [
    {
     "data": {
      "text/plain": [
       "array([ 1,  2,  4,  8, 16])"
      ]
     },
     "execution_count": 16,
     "metadata": {},
     "output_type": "execute_result"
    }
   ],
   "source": [
    "# Running example\n",
    "powers(5, 2)"
   ]
  },
  {
   "cell_type": "markdown",
   "id": "9c641def",
   "metadata": {},
   "source": [
    "**Task-2.3 (0.4pts)**: Complete the following function select_row_col(x, row_idx, col_idx)."
   ]
  },
  {
   "cell_type": "code",
   "execution_count": 17,
   "id": "979b5f8c",
   "metadata": {},
   "outputs": [],
   "source": [
    "def select_row_col(x, row_idx=None, col_idx=None):\n",
    "    \"\"\"\n",
    "    Select a subset of rows or columns in the two-dimensional array x. \n",
    "    \n",
    "    Inputs:\n",
    "        x: a two-dimensional array \n",
    "        row_idx: a list of row index we are selecting, None if not specified\n",
    "        col_idx: a list of column index we are selecting, None if not specified\n",
    "    \n",
    "    Returns: a two-dimensional array where we have selected based on the \n",
    "             specified row_idx and col_idx.\n",
    "        \n",
    "    Hint: \n",
    "    - recall the numpy array slicing methods\n",
    "    - you will need if/else statment with multiple elif branches\n",
    "    \"\"\"\n",
    "\n",
    "    # your code here:\n",
    "    if row_idx is None and col_idx is None:\n",
    "        return x\n",
    "    elif row_idx is None:\n",
    "        return x[:, col_idx]\n",
    "    elif col_idx is None:\n",
    "        return x[row_idx, :]\n",
    "    else:\n",
    "        return x[row_idx, :][:, col_idx]"
   ]
  },
  {
   "cell_type": "code",
   "execution_count": 18,
   "id": "46f4c6ff",
   "metadata": {},
   "outputs": [],
   "source": [
    "# Running example\n",
    "x = np.array([[0, 1, 2],\n",
    "              [3, 4, 5],\n",
    "              [6, 7, 8]])"
   ]
  },
  {
   "cell_type": "code",
   "execution_count": 19,
   "id": "a077d5ec",
   "metadata": {},
   "outputs": [
    {
     "data": {
      "text/plain": [
       "array([[3, 4, 5],\n",
       "       [6, 7, 8]])"
      ]
     },
     "execution_count": 19,
     "metadata": {},
     "output_type": "execute_result"
    }
   ],
   "source": [
    "select_row_col(x, [1, 2], None)"
   ]
  },
  {
   "cell_type": "code",
   "execution_count": 20,
   "id": "268cc6cb",
   "metadata": {},
   "outputs": [
    {
     "data": {
      "text/plain": [
       "array([[1, 2],\n",
       "       [4, 5],\n",
       "       [7, 8]])"
      ]
     },
     "execution_count": 20,
     "metadata": {},
     "output_type": "execute_result"
    }
   ],
   "source": [
    "select_row_col(x, None, [1, 2])"
   ]
  },
  {
   "cell_type": "code",
   "execution_count": 21,
   "id": "9ae7d3e3",
   "metadata": {},
   "outputs": [
    {
     "data": {
      "text/plain": [
       "array([[3, 5],\n",
       "       [6, 8]])"
      ]
     },
     "execution_count": 21,
     "metadata": {},
     "output_type": "execute_result"
    }
   ],
   "source": [
    "select_row_col(x, [1, 2], [0, 2])"
   ]
  },
  {
   "cell_type": "markdown",
   "id": "b4bc4ca7",
   "metadata": {},
   "source": [
    "### Part3: Pandas (3pts)"
   ]
  },
  {
   "cell_type": "code",
   "execution_count": 22,
   "id": "996a489e",
   "metadata": {},
   "outputs": [],
   "source": [
    "# import the package\n",
    "import pandas as pd\n",
    "\n",
    "# set the maximum numbers of rows and columns to display in the jupyter notebook\n",
    "# More details on available options: https://pandas.pydata.org/pandas-docs/stable/user_guide/options.html\n",
    "pd.options.display.max_columns = 15\n",
    "pd.options.display.max_rows = 20"
   ]
  },
  {
   "cell_type": "markdown",
   "id": "6897bcaf",
   "metadata": {},
   "source": [
    "**Task-3.1 (0.3pts):** read a csv file into a dataframe and perform basic operations based on the following instructions"
   ]
  },
  {
   "cell_type": "markdown",
   "id": "43b07da2",
   "metadata": {},
   "source": [
    "Use **pd.read_csv** to read the given data file \"./data/morg_d07_strings.csv\" into a pandas dataframe and save the result in a variable named **morg_df**. Use **h_id** as the row index to uniquely identify each row."
   ]
  },
  {
   "cell_type": "code",
   "execution_count": 23,
   "id": "560ae27f",
   "metadata": {},
   "outputs": [],
   "source": [
    "# your code here\n",
    "morg_df = pd.read_csv(\"/Users/minjunlee/Desktop/UChicago/Class/Spring Quarter/machine learning/data/morg_d07_strings-1.csv\", index_col = 'h_id')"
   ]
  },
  {
   "cell_type": "markdown",
   "id": "e0b03921",
   "metadata": {},
   "source": [
    "Check the shape of the dataframe **morg_df**"
   ]
  },
  {
   "cell_type": "code",
   "execution_count": 24,
   "id": "ea74f55d",
   "metadata": {},
   "outputs": [
    {
     "data": {
      "text/plain": [
       "(284020, 7)"
      ]
     },
     "execution_count": 24,
     "metadata": {},
     "output_type": "execute_result"
    }
   ],
   "source": [
    "morg_df.shape"
   ]
  },
  {
   "cell_type": "markdown",
   "id": "758dda2b",
   "metadata": {},
   "source": [
    "Check the column names of the dataframe **morg_df**"
   ]
  },
  {
   "cell_type": "code",
   "execution_count": 25,
   "id": "c5a57b58",
   "metadata": {},
   "outputs": [
    {
     "data": {
      "text/plain": [
       "Index(['age', 'gender', 'race', 'ethnicity', 'employment_status',\n",
       "       'hours_worked_per_week', 'earnings_per_week'],\n",
       "      dtype='object')"
      ]
     },
     "execution_count": 25,
     "metadata": {},
     "output_type": "execute_result"
    }
   ],
   "source": [
    "# your code here\n",
    "morg_df.columns"
   ]
  },
  {
   "cell_type": "markdown",
   "id": "6ce9a73c",
   "metadata": {},
   "source": [
    "View the top-10 rows of the dataframe **morg_df**"
   ]
  },
  {
   "cell_type": "code",
   "execution_count": 26,
   "id": "9e605146",
   "metadata": {},
   "outputs": [
    {
     "data": {
      "text/html": [
       "<div>\n",
       "<style scoped>\n",
       "    .dataframe tbody tr th:only-of-type {\n",
       "        vertical-align: middle;\n",
       "    }\n",
       "\n",
       "    .dataframe tbody tr th {\n",
       "        vertical-align: top;\n",
       "    }\n",
       "\n",
       "    .dataframe thead th {\n",
       "        text-align: right;\n",
       "    }\n",
       "</style>\n",
       "<table border=\"1\" class=\"dataframe\">\n",
       "  <thead>\n",
       "    <tr style=\"text-align: right;\">\n",
       "      <th></th>\n",
       "      <th>age</th>\n",
       "      <th>gender</th>\n",
       "      <th>race</th>\n",
       "      <th>ethnicity</th>\n",
       "      <th>employment_status</th>\n",
       "      <th>hours_worked_per_week</th>\n",
       "      <th>earnings_per_week</th>\n",
       "    </tr>\n",
       "    <tr>\n",
       "      <th>h_id</th>\n",
       "      <th></th>\n",
       "      <th></th>\n",
       "      <th></th>\n",
       "      <th></th>\n",
       "      <th></th>\n",
       "      <th></th>\n",
       "      <th></th>\n",
       "    </tr>\n",
       "  </thead>\n",
       "  <tbody>\n",
       "    <tr>\n",
       "      <th>1_1_1</th>\n",
       "      <td>32</td>\n",
       "      <td>Female</td>\n",
       "      <td>BlackOnly</td>\n",
       "      <td>Non-Hispanic</td>\n",
       "      <td>Working</td>\n",
       "      <td>40.0</td>\n",
       "      <td>1250.00</td>\n",
       "    </tr>\n",
       "    <tr>\n",
       "      <th>1_2_2</th>\n",
       "      <td>80</td>\n",
       "      <td>Female</td>\n",
       "      <td>WhiteOnly</td>\n",
       "      <td>Non-Hispanic</td>\n",
       "      <td>Others2</td>\n",
       "      <td>NaN</td>\n",
       "      <td>NaN</td>\n",
       "    </tr>\n",
       "    <tr>\n",
       "      <th>1_3_3</th>\n",
       "      <td>20</td>\n",
       "      <td>Female</td>\n",
       "      <td>BlackOnly</td>\n",
       "      <td>Non-Hispanic</td>\n",
       "      <td>Others2</td>\n",
       "      <td>NaN</td>\n",
       "      <td>NaN</td>\n",
       "    </tr>\n",
       "    <tr>\n",
       "      <th>1_4_4</th>\n",
       "      <td>28</td>\n",
       "      <td>Male</td>\n",
       "      <td>WhiteOnly</td>\n",
       "      <td>Non-Hispanic</td>\n",
       "      <td>Working</td>\n",
       "      <td>40.0</td>\n",
       "      <td>1100.00</td>\n",
       "    </tr>\n",
       "    <tr>\n",
       "      <th>1_5_5</th>\n",
       "      <td>32</td>\n",
       "      <td>Male</td>\n",
       "      <td>WhiteOnly</td>\n",
       "      <td>Non-Hispanic</td>\n",
       "      <td>Working</td>\n",
       "      <td>52.0</td>\n",
       "      <td>1289.23</td>\n",
       "    </tr>\n",
       "    <tr>\n",
       "      <th>1_6_6</th>\n",
       "      <td>69</td>\n",
       "      <td>Female</td>\n",
       "      <td>WhiteOnly</td>\n",
       "      <td>Non-Hispanic</td>\n",
       "      <td>Others1</td>\n",
       "      <td>NaN</td>\n",
       "      <td>NaN</td>\n",
       "    </tr>\n",
       "    <tr>\n",
       "      <th>1_7_7</th>\n",
       "      <td>80</td>\n",
       "      <td>Female</td>\n",
       "      <td>WhiteOnly</td>\n",
       "      <td>Non-Hispanic</td>\n",
       "      <td>Others1</td>\n",
       "      <td>NaN</td>\n",
       "      <td>NaN</td>\n",
       "    </tr>\n",
       "    <tr>\n",
       "      <th>1_8_8</th>\n",
       "      <td>31</td>\n",
       "      <td>Male</td>\n",
       "      <td>WhiteOnly</td>\n",
       "      <td>Non-Hispanic</td>\n",
       "      <td>Working</td>\n",
       "      <td>45.0</td>\n",
       "      <td>866.25</td>\n",
       "    </tr>\n",
       "    <tr>\n",
       "      <th>1_9_9</th>\n",
       "      <td>68</td>\n",
       "      <td>Female</td>\n",
       "      <td>WhiteOnly</td>\n",
       "      <td>Non-Hispanic</td>\n",
       "      <td>Working</td>\n",
       "      <td>10.0</td>\n",
       "      <td>105.00</td>\n",
       "    </tr>\n",
       "    <tr>\n",
       "      <th>1_11_11</th>\n",
       "      <td>75</td>\n",
       "      <td>Male</td>\n",
       "      <td>WhiteOnly</td>\n",
       "      <td>Non-Hispanic</td>\n",
       "      <td>Others1</td>\n",
       "      <td>NaN</td>\n",
       "      <td>NaN</td>\n",
       "    </tr>\n",
       "  </tbody>\n",
       "</table>\n",
       "</div>"
      ],
      "text/plain": [
       "         age  gender       race     ethnicity employment_status  \\\n",
       "h_id                                                              \n",
       "1_1_1     32  Female  BlackOnly  Non-Hispanic           Working   \n",
       "1_2_2     80  Female  WhiteOnly  Non-Hispanic           Others2   \n",
       "1_3_3     20  Female  BlackOnly  Non-Hispanic           Others2   \n",
       "1_4_4     28    Male  WhiteOnly  Non-Hispanic           Working   \n",
       "1_5_5     32    Male  WhiteOnly  Non-Hispanic           Working   \n",
       "1_6_6     69  Female  WhiteOnly  Non-Hispanic           Others1   \n",
       "1_7_7     80  Female  WhiteOnly  Non-Hispanic           Others1   \n",
       "1_8_8     31    Male  WhiteOnly  Non-Hispanic           Working   \n",
       "1_9_9     68  Female  WhiteOnly  Non-Hispanic           Working   \n",
       "1_11_11   75    Male  WhiteOnly  Non-Hispanic           Others1   \n",
       "\n",
       "         hours_worked_per_week  earnings_per_week  \n",
       "h_id                                               \n",
       "1_1_1                     40.0            1250.00  \n",
       "1_2_2                      NaN                NaN  \n",
       "1_3_3                      NaN                NaN  \n",
       "1_4_4                     40.0            1100.00  \n",
       "1_5_5                     52.0            1289.23  \n",
       "1_6_6                      NaN                NaN  \n",
       "1_7_7                      NaN                NaN  \n",
       "1_8_8                     45.0             866.25  \n",
       "1_9_9                     10.0             105.00  \n",
       "1_11_11                    NaN                NaN  "
      ]
     },
     "execution_count": 26,
     "metadata": {},
     "output_type": "execute_result"
    }
   ],
   "source": [
    "# your code here\n",
    "morg_df.head(10)"
   ]
  },
  {
   "cell_type": "markdown",
   "id": "cea2e72e",
   "metadata": {},
   "source": [
    "**Task-3.2 (0.2pts)**: Extract the **\"age\"** column from **morg_df**."
   ]
  },
  {
   "cell_type": "code",
   "execution_count": 27,
   "id": "46e874d5",
   "metadata": {},
   "outputs": [
    {
     "data": {
      "text/plain": [
       "h_id\n",
       "1_1_1              32\n",
       "1_2_2              80\n",
       "1_3_3              20\n",
       "1_4_4              28\n",
       "1_5_5              32\n",
       "                   ..\n",
       "56_318203_72040    64\n",
       "56_318204_72041    34\n",
       "56_318205_72041    48\n",
       "56_318206_72041    32\n",
       "56_318207_72041    34\n",
       "Name: age, Length: 284020, dtype: int64"
      ]
     },
     "execution_count": 27,
     "metadata": {},
     "output_type": "execute_result"
    }
   ],
   "source": [
    "# your code here\n",
    "morg_df[\"age\"]"
   ]
  },
  {
   "cell_type": "markdown",
   "id": "39cc9eb0",
   "metadata": {},
   "source": [
    "**Task-3.3 (0.2pts)**: Extract the row that corresponds to the row label **h_id**=1_2_2 from **morg_df**."
   ]
  },
  {
   "cell_type": "code",
   "execution_count": 28,
   "id": "3f367770",
   "metadata": {},
   "outputs": [
    {
     "data": {
      "text/plain": [
       "age                                80\n",
       "gender                         Female\n",
       "race                        WhiteOnly\n",
       "ethnicity                Non-Hispanic\n",
       "employment_status             Others2\n",
       "hours_worked_per_week             NaN\n",
       "earnings_per_week                 NaN\n",
       "Name: 1_2_2, dtype: object"
      ]
     },
     "execution_count": 28,
     "metadata": {},
     "output_type": "execute_result"
    }
   ],
   "source": [
    "# your code here\n",
    "morg_df.loc['1_2_2']"
   ]
  },
  {
   "cell_type": "markdown",
   "id": "bc6dec9e",
   "metadata": {},
   "source": [
    "**Task-3.4 (0.2pts)**: Extract the 10th row until the 20th (not including 20th) row from **morg_df**, based on the location index. Hint: use **iloc**"
   ]
  },
  {
   "cell_type": "code",
   "execution_count": 29,
   "id": "064ada9b",
   "metadata": {},
   "outputs": [
    {
     "data": {
      "text/html": [
       "<div>\n",
       "<style scoped>\n",
       "    .dataframe tbody tr th:only-of-type {\n",
       "        vertical-align: middle;\n",
       "    }\n",
       "\n",
       "    .dataframe tbody tr th {\n",
       "        vertical-align: top;\n",
       "    }\n",
       "\n",
       "    .dataframe thead th {\n",
       "        text-align: right;\n",
       "    }\n",
       "</style>\n",
       "<table border=\"1\" class=\"dataframe\">\n",
       "  <thead>\n",
       "    <tr style=\"text-align: right;\">\n",
       "      <th></th>\n",
       "      <th>age</th>\n",
       "      <th>gender</th>\n",
       "      <th>race</th>\n",
       "      <th>ethnicity</th>\n",
       "      <th>employment_status</th>\n",
       "      <th>hours_worked_per_week</th>\n",
       "      <th>earnings_per_week</th>\n",
       "    </tr>\n",
       "    <tr>\n",
       "      <th>h_id</th>\n",
       "      <th></th>\n",
       "      <th></th>\n",
       "      <th></th>\n",
       "      <th></th>\n",
       "      <th></th>\n",
       "      <th></th>\n",
       "      <th></th>\n",
       "    </tr>\n",
       "  </thead>\n",
       "  <tbody>\n",
       "    <tr>\n",
       "      <th>1_12_12</th>\n",
       "      <td>68</td>\n",
       "      <td>Female</td>\n",
       "      <td>WhiteOnly</td>\n",
       "      <td>Non-Hispanic</td>\n",
       "      <td>Others1</td>\n",
       "      <td>NaN</td>\n",
       "      <td>NaN</td>\n",
       "    </tr>\n",
       "    <tr>\n",
       "      <th>1_13_13</th>\n",
       "      <td>64</td>\n",
       "      <td>Female</td>\n",
       "      <td>WhiteOnly</td>\n",
       "      <td>Non-Hispanic</td>\n",
       "      <td>Working</td>\n",
       "      <td>30.0</td>\n",
       "      <td>387.00</td>\n",
       "    </tr>\n",
       "    <tr>\n",
       "      <th>1_14_14</th>\n",
       "      <td>19</td>\n",
       "      <td>Female</td>\n",
       "      <td>BlackOnly</td>\n",
       "      <td>Non-Hispanic</td>\n",
       "      <td>Working</td>\n",
       "      <td>40.0</td>\n",
       "      <td>350.00</td>\n",
       "    </tr>\n",
       "    <tr>\n",
       "      <th>1_17_17</th>\n",
       "      <td>55</td>\n",
       "      <td>Female</td>\n",
       "      <td>WhiteOnly</td>\n",
       "      <td>Non-Hispanic</td>\n",
       "      <td>Working</td>\n",
       "      <td>45.0</td>\n",
       "      <td>1153.84</td>\n",
       "    </tr>\n",
       "    <tr>\n",
       "      <th>1_18_18</th>\n",
       "      <td>60</td>\n",
       "      <td>Female</td>\n",
       "      <td>BlackOnly</td>\n",
       "      <td>Non-Hispanic</td>\n",
       "      <td>Working</td>\n",
       "      <td>21.0</td>\n",
       "      <td>657.00</td>\n",
       "    </tr>\n",
       "    <tr>\n",
       "      <th>1_19_19</th>\n",
       "      <td>35</td>\n",
       "      <td>Male</td>\n",
       "      <td>WhiteOnly</td>\n",
       "      <td>Non-Hispanic</td>\n",
       "      <td>Working</td>\n",
       "      <td>40.0</td>\n",
       "      <td>1000.00</td>\n",
       "    </tr>\n",
       "    <tr>\n",
       "      <th>1_21_21</th>\n",
       "      <td>22</td>\n",
       "      <td>Female</td>\n",
       "      <td>WhiteOnly</td>\n",
       "      <td>Non-Hispanic</td>\n",
       "      <td>Working</td>\n",
       "      <td>30.0</td>\n",
       "      <td>300.00</td>\n",
       "    </tr>\n",
       "    <tr>\n",
       "      <th>1_23_23</th>\n",
       "      <td>80</td>\n",
       "      <td>Female</td>\n",
       "      <td>WhiteOnly</td>\n",
       "      <td>Non-Hispanic</td>\n",
       "      <td>Others1</td>\n",
       "      <td>NaN</td>\n",
       "      <td>NaN</td>\n",
       "    </tr>\n",
       "    <tr>\n",
       "      <th>1_24_24</th>\n",
       "      <td>22</td>\n",
       "      <td>Female</td>\n",
       "      <td>WhiteOnly</td>\n",
       "      <td>Non-Hispanic</td>\n",
       "      <td>Working</td>\n",
       "      <td>50.0</td>\n",
       "      <td>720.00</td>\n",
       "    </tr>\n",
       "    <tr>\n",
       "      <th>1_26_26</th>\n",
       "      <td>56</td>\n",
       "      <td>Female</td>\n",
       "      <td>BlackOnly</td>\n",
       "      <td>Non-Hispanic</td>\n",
       "      <td>Unable to work or disabled</td>\n",
       "      <td>NaN</td>\n",
       "      <td>NaN</td>\n",
       "    </tr>\n",
       "  </tbody>\n",
       "</table>\n",
       "</div>"
      ],
      "text/plain": [
       "         age  gender       race     ethnicity           employment_status  \\\n",
       "h_id                                                                        \n",
       "1_12_12   68  Female  WhiteOnly  Non-Hispanic                     Others1   \n",
       "1_13_13   64  Female  WhiteOnly  Non-Hispanic                     Working   \n",
       "1_14_14   19  Female  BlackOnly  Non-Hispanic                     Working   \n",
       "1_17_17   55  Female  WhiteOnly  Non-Hispanic                     Working   \n",
       "1_18_18   60  Female  BlackOnly  Non-Hispanic                     Working   \n",
       "1_19_19   35    Male  WhiteOnly  Non-Hispanic                     Working   \n",
       "1_21_21   22  Female  WhiteOnly  Non-Hispanic                     Working   \n",
       "1_23_23   80  Female  WhiteOnly  Non-Hispanic                     Others1   \n",
       "1_24_24   22  Female  WhiteOnly  Non-Hispanic                     Working   \n",
       "1_26_26   56  Female  BlackOnly  Non-Hispanic  Unable to work or disabled   \n",
       "\n",
       "         hours_worked_per_week  earnings_per_week  \n",
       "h_id                                               \n",
       "1_12_12                    NaN                NaN  \n",
       "1_13_13                   30.0             387.00  \n",
       "1_14_14                   40.0             350.00  \n",
       "1_17_17                   45.0            1153.84  \n",
       "1_18_18                   21.0             657.00  \n",
       "1_19_19                   40.0            1000.00  \n",
       "1_21_21                   30.0             300.00  \n",
       "1_23_23                    NaN                NaN  \n",
       "1_24_24                   50.0             720.00  \n",
       "1_26_26                    NaN                NaN  "
      ]
     },
     "execution_count": 29,
     "metadata": {},
     "output_type": "execute_result"
    }
   ],
   "source": [
    "# your code here:\n",
    "morg_df.iloc[10:20]"
   ]
  },
  {
   "cell_type": "markdown",
   "id": "180b34a9",
   "metadata": {},
   "source": [
    "**Task-3.5 (0.3pts)**: Check missing values of each column from **morg_df** using **isna()** and **sum()**"
   ]
  },
  {
   "cell_type": "code",
   "execution_count": 30,
   "id": "e9c8a64f",
   "metadata": {},
   "outputs": [
    {
     "data": {
      "text/plain": [
       "age                           0\n",
       "gender                        0\n",
       "race                          0\n",
       "ethnicity                     0\n",
       "employment_status             0\n",
       "hours_worked_per_week    117400\n",
       "earnings_per_week        117705\n",
       "dtype: int64"
      ]
     },
     "execution_count": 30,
     "metadata": {},
     "output_type": "execute_result"
    }
   ],
   "source": [
    "# your code here\n",
    "morg_df.isna().sum()"
   ]
  },
  {
   "cell_type": "markdown",
   "id": "441811b5",
   "metadata": {},
   "source": [
    "**Task-3.6 (0.3pts):** Use the **fillna()** method to replace the above missing values with 0. Please set the function parameter **\"inplace = True\"** to directly modify the **morg_df** dataframe."
   ]
  },
  {
   "cell_type": "code",
   "execution_count": 31,
   "id": "f30e61cd",
   "metadata": {},
   "outputs": [],
   "source": [
    "# your code here:\n",
    "morg_df.fillna(0, inplace = True)"
   ]
  },
  {
   "cell_type": "code",
   "execution_count": 32,
   "id": "8de49f78",
   "metadata": {},
   "outputs": [
    {
     "data": {
      "text/plain": [
       "age                      0\n",
       "gender                   0\n",
       "race                     0\n",
       "ethnicity                0\n",
       "employment_status        0\n",
       "hours_worked_per_week    0\n",
       "earnings_per_week        0\n",
       "dtype: int64"
      ]
     },
     "execution_count": 32,
     "metadata": {},
     "output_type": "execute_result"
    }
   ],
   "source": [
    "# there's no missing value after fillna()\n",
    "morg_df.isna().sum()"
   ]
  },
  {
   "cell_type": "markdown",
   "id": "d6297341",
   "metadata": {},
   "source": [
    "**Task-3.7 (0.3pts)**: Use filtering to extract all rows where the \"hours_worked_per_week\" is strictly more than 35."
   ]
  },
  {
   "cell_type": "code",
   "execution_count": 33,
   "id": "8d51be08",
   "metadata": {},
   "outputs": [
    {
     "data": {
      "text/html": [
       "<div>\n",
       "<style scoped>\n",
       "    .dataframe tbody tr th:only-of-type {\n",
       "        vertical-align: middle;\n",
       "    }\n",
       "\n",
       "    .dataframe tbody tr th {\n",
       "        vertical-align: top;\n",
       "    }\n",
       "\n",
       "    .dataframe thead th {\n",
       "        text-align: right;\n",
       "    }\n",
       "</style>\n",
       "<table border=\"1\" class=\"dataframe\">\n",
       "  <thead>\n",
       "    <tr style=\"text-align: right;\">\n",
       "      <th></th>\n",
       "      <th>age</th>\n",
       "      <th>gender</th>\n",
       "      <th>race</th>\n",
       "      <th>ethnicity</th>\n",
       "      <th>employment_status</th>\n",
       "      <th>hours_worked_per_week</th>\n",
       "      <th>earnings_per_week</th>\n",
       "    </tr>\n",
       "    <tr>\n",
       "      <th>h_id</th>\n",
       "      <th></th>\n",
       "      <th></th>\n",
       "      <th></th>\n",
       "      <th></th>\n",
       "      <th></th>\n",
       "      <th></th>\n",
       "      <th></th>\n",
       "    </tr>\n",
       "  </thead>\n",
       "  <tbody>\n",
       "    <tr>\n",
       "      <th>1_1_1</th>\n",
       "      <td>32</td>\n",
       "      <td>Female</td>\n",
       "      <td>BlackOnly</td>\n",
       "      <td>Non-Hispanic</td>\n",
       "      <td>Working</td>\n",
       "      <td>40.0</td>\n",
       "      <td>1250.00</td>\n",
       "    </tr>\n",
       "    <tr>\n",
       "      <th>1_4_4</th>\n",
       "      <td>28</td>\n",
       "      <td>Male</td>\n",
       "      <td>WhiteOnly</td>\n",
       "      <td>Non-Hispanic</td>\n",
       "      <td>Working</td>\n",
       "      <td>40.0</td>\n",
       "      <td>1100.00</td>\n",
       "    </tr>\n",
       "    <tr>\n",
       "      <th>1_5_5</th>\n",
       "      <td>32</td>\n",
       "      <td>Male</td>\n",
       "      <td>WhiteOnly</td>\n",
       "      <td>Non-Hispanic</td>\n",
       "      <td>Working</td>\n",
       "      <td>52.0</td>\n",
       "      <td>1289.23</td>\n",
       "    </tr>\n",
       "    <tr>\n",
       "      <th>1_8_8</th>\n",
       "      <td>31</td>\n",
       "      <td>Male</td>\n",
       "      <td>WhiteOnly</td>\n",
       "      <td>Non-Hispanic</td>\n",
       "      <td>Working</td>\n",
       "      <td>45.0</td>\n",
       "      <td>866.25</td>\n",
       "    </tr>\n",
       "    <tr>\n",
       "      <th>1_14_14</th>\n",
       "      <td>19</td>\n",
       "      <td>Female</td>\n",
       "      <td>BlackOnly</td>\n",
       "      <td>Non-Hispanic</td>\n",
       "      <td>Working</td>\n",
       "      <td>40.0</td>\n",
       "      <td>350.00</td>\n",
       "    </tr>\n",
       "    <tr>\n",
       "      <th>...</th>\n",
       "      <td>...</td>\n",
       "      <td>...</td>\n",
       "      <td>...</td>\n",
       "      <td>...</td>\n",
       "      <td>...</td>\n",
       "      <td>...</td>\n",
       "      <td>...</td>\n",
       "    </tr>\n",
       "    <tr>\n",
       "      <th>56_318196_72038</th>\n",
       "      <td>60</td>\n",
       "      <td>Male</td>\n",
       "      <td>WhiteOnly</td>\n",
       "      <td>Non-Hispanic</td>\n",
       "      <td>Working</td>\n",
       "      <td>50.0</td>\n",
       "      <td>800.00</td>\n",
       "    </tr>\n",
       "    <tr>\n",
       "      <th>56_318201_72040</th>\n",
       "      <td>33</td>\n",
       "      <td>Male</td>\n",
       "      <td>WhiteOnly</td>\n",
       "      <td>Non-Hispanic</td>\n",
       "      <td>Working</td>\n",
       "      <td>60.0</td>\n",
       "      <td>1153.84</td>\n",
       "    </tr>\n",
       "    <tr>\n",
       "      <th>56_318204_72041</th>\n",
       "      <td>34</td>\n",
       "      <td>Male</td>\n",
       "      <td>WhiteOnly</td>\n",
       "      <td>Non-Hispanic</td>\n",
       "      <td>With a job but not at work</td>\n",
       "      <td>40.0</td>\n",
       "      <td>415.38</td>\n",
       "    </tr>\n",
       "    <tr>\n",
       "      <th>56_318205_72041</th>\n",
       "      <td>48</td>\n",
       "      <td>Male</td>\n",
       "      <td>WhiteOnly</td>\n",
       "      <td>Non-Hispanic</td>\n",
       "      <td>Working</td>\n",
       "      <td>50.0</td>\n",
       "      <td>1024.50</td>\n",
       "    </tr>\n",
       "    <tr>\n",
       "      <th>56_318206_72041</th>\n",
       "      <td>32</td>\n",
       "      <td>Male</td>\n",
       "      <td>WhiteOnly</td>\n",
       "      <td>Non-Hispanic</td>\n",
       "      <td>Working</td>\n",
       "      <td>40.0</td>\n",
       "      <td>1080.00</td>\n",
       "    </tr>\n",
       "  </tbody>\n",
       "</table>\n",
       "<p>132678 rows × 7 columns</p>\n",
       "</div>"
      ],
      "text/plain": [
       "                 age  gender       race     ethnicity  \\\n",
       "h_id                                                    \n",
       "1_1_1             32  Female  BlackOnly  Non-Hispanic   \n",
       "1_4_4             28    Male  WhiteOnly  Non-Hispanic   \n",
       "1_5_5             32    Male  WhiteOnly  Non-Hispanic   \n",
       "1_8_8             31    Male  WhiteOnly  Non-Hispanic   \n",
       "1_14_14           19  Female  BlackOnly  Non-Hispanic   \n",
       "...              ...     ...        ...           ...   \n",
       "56_318196_72038   60    Male  WhiteOnly  Non-Hispanic   \n",
       "56_318201_72040   33    Male  WhiteOnly  Non-Hispanic   \n",
       "56_318204_72041   34    Male  WhiteOnly  Non-Hispanic   \n",
       "56_318205_72041   48    Male  WhiteOnly  Non-Hispanic   \n",
       "56_318206_72041   32    Male  WhiteOnly  Non-Hispanic   \n",
       "\n",
       "                          employment_status  hours_worked_per_week  \\\n",
       "h_id                                                                 \n",
       "1_1_1                               Working                   40.0   \n",
       "1_4_4                               Working                   40.0   \n",
       "1_5_5                               Working                   52.0   \n",
       "1_8_8                               Working                   45.0   \n",
       "1_14_14                             Working                   40.0   \n",
       "...                                     ...                    ...   \n",
       "56_318196_72038                     Working                   50.0   \n",
       "56_318201_72040                     Working                   60.0   \n",
       "56_318204_72041  With a job but not at work                   40.0   \n",
       "56_318205_72041                     Working                   50.0   \n",
       "56_318206_72041                     Working                   40.0   \n",
       "\n",
       "                 earnings_per_week  \n",
       "h_id                                \n",
       "1_1_1                      1250.00  \n",
       "1_4_4                      1100.00  \n",
       "1_5_5                      1289.23  \n",
       "1_8_8                       866.25  \n",
       "1_14_14                     350.00  \n",
       "...                            ...  \n",
       "56_318196_72038             800.00  \n",
       "56_318201_72040            1153.84  \n",
       "56_318204_72041             415.38  \n",
       "56_318205_72041            1024.50  \n",
       "56_318206_72041            1080.00  \n",
       "\n",
       "[132678 rows x 7 columns]"
      ]
     },
     "execution_count": 33,
     "metadata": {},
     "output_type": "execute_result"
    }
   ],
   "source": [
    "# your code here (hint: to confirm that you got the correct resulting dataframe, please make sure to check the #rows and #columns):\n",
    "morg_df[morg_df['hours_worked_per_week']> 35]"
   ]
  },
  {
   "cell_type": "markdown",
   "id": "b1bf0df0",
   "metadata": {},
   "source": [
    "**Task-3.8 (0.3pts)**: Check the unique values in the column **\"employment_status\"** using **value_counts()**"
   ]
  },
  {
   "cell_type": "code",
   "execution_count": 34,
   "id": "cbff7b19",
   "metadata": {},
   "outputs": [
    {
     "data": {
      "text/plain": [
       "employment_status\n",
       "Working                       159477\n",
       "Others1                        52664\n",
       "Others2                        39360\n",
       "Unable to work or disabled     15489\n",
       "With a job but not at work      8213\n",
       "Looking                         7391\n",
       "Layoff                          1426\n",
       "Name: count, dtype: int64"
      ]
     },
     "execution_count": 34,
     "metadata": {},
     "output_type": "execute_result"
    }
   ],
   "source": [
    "# your code here\n",
    "morg_df.value_counts(morg_df['employment_status'])"
   ]
  },
  {
   "cell_type": "markdown",
   "id": "7a28b120",
   "metadata": {},
   "source": [
    "**Task-3.9 (0.3pts)**: Draw a bar plot for the results from Task-3.8. Hint: check the plot method: https://pandas.pydata.org/pandas-docs/stable/user_guide/visualization.html"
   ]
  },
  {
   "cell_type": "code",
   "execution_count": 35,
   "id": "afe1fb3f",
   "metadata": {},
   "outputs": [
    {
     "data": {
      "text/plain": [
       "<Axes: xlabel='employment_status'>"
      ]
     },
     "execution_count": 35,
     "metadata": {},
     "output_type": "execute_result"
    },
    {
     "data": {
      "image/png": "[encoded data removed]",
      "text/plain": [
       "<Figure size 640x480 with 1 Axes>"
      ]
     },
     "metadata": {},
     "output_type": "display_data"
    }
   ],
   "source": [
    "# your code here\n",
    "morg_df['employment_status'].value_counts().plot(kind = \"bar\")"
   ]
  },
  {
   "cell_type": "markdown",
   "id": "fc5b6b57",
   "metadata": {},
   "source": [
    "**Task-3.10 (0.3pts)**: Use filtering to extract the rows that correspond to people who worked more than 35 hours per week **or** who earned more than $1000 per week. Hint: it might be useful to review the documentation on boolean indexing."
   ]
  },
  {
   "cell_type": "code",
   "execution_count": 36,
   "id": "b9d11e81",
   "metadata": {},
   "outputs": [
    {
     "data": {
      "text/html": [
       "<div>\n",
       "<style scoped>\n",
       "    .dataframe tbody tr th:only-of-type {\n",
       "        vertical-align: middle;\n",
       "    }\n",
       "\n",
       "    .dataframe tbody tr th {\n",
       "        vertical-align: top;\n",
       "    }\n",
       "\n",
       "    .dataframe thead th {\n",
       "        text-align: right;\n",
       "    }\n",
       "</style>\n",
       "<table border=\"1\" class=\"dataframe\">\n",
       "  <thead>\n",
       "    <tr style=\"text-align: right;\">\n",
       "      <th></th>\n",
       "      <th>age</th>\n",
       "      <th>gender</th>\n",
       "      <th>race</th>\n",
       "      <th>ethnicity</th>\n",
       "      <th>employment_status</th>\n",
       "      <th>hours_worked_per_week</th>\n",
       "      <th>earnings_per_week</th>\n",
       "    </tr>\n",
       "    <tr>\n",
       "      <th>h_id</th>\n",
       "      <th></th>\n",
       "      <th></th>\n",
       "      <th></th>\n",
       "      <th></th>\n",
       "      <th></th>\n",
       "      <th></th>\n",
       "      <th></th>\n",
       "    </tr>\n",
       "  </thead>\n",
       "  <tbody>\n",
       "    <tr>\n",
       "      <th>1_1_1</th>\n",
       "      <td>32</td>\n",
       "      <td>Female</td>\n",
       "      <td>BlackOnly</td>\n",
       "      <td>Non-Hispanic</td>\n",
       "      <td>Working</td>\n",
       "      <td>40.0</td>\n",
       "      <td>1250.00</td>\n",
       "    </tr>\n",
       "    <tr>\n",
       "      <th>1_4_4</th>\n",
       "      <td>28</td>\n",
       "      <td>Male</td>\n",
       "      <td>WhiteOnly</td>\n",
       "      <td>Non-Hispanic</td>\n",
       "      <td>Working</td>\n",
       "      <td>40.0</td>\n",
       "      <td>1100.00</td>\n",
       "    </tr>\n",
       "    <tr>\n",
       "      <th>1_5_5</th>\n",
       "      <td>32</td>\n",
       "      <td>Male</td>\n",
       "      <td>WhiteOnly</td>\n",
       "      <td>Non-Hispanic</td>\n",
       "      <td>Working</td>\n",
       "      <td>52.0</td>\n",
       "      <td>1289.23</td>\n",
       "    </tr>\n",
       "    <tr>\n",
       "      <th>1_8_8</th>\n",
       "      <td>31</td>\n",
       "      <td>Male</td>\n",
       "      <td>WhiteOnly</td>\n",
       "      <td>Non-Hispanic</td>\n",
       "      <td>Working</td>\n",
       "      <td>45.0</td>\n",
       "      <td>866.25</td>\n",
       "    </tr>\n",
       "    <tr>\n",
       "      <th>1_14_14</th>\n",
       "      <td>19</td>\n",
       "      <td>Female</td>\n",
       "      <td>BlackOnly</td>\n",
       "      <td>Non-Hispanic</td>\n",
       "      <td>Working</td>\n",
       "      <td>40.0</td>\n",
       "      <td>350.00</td>\n",
       "    </tr>\n",
       "    <tr>\n",
       "      <th>...</th>\n",
       "      <td>...</td>\n",
       "      <td>...</td>\n",
       "      <td>...</td>\n",
       "      <td>...</td>\n",
       "      <td>...</td>\n",
       "      <td>...</td>\n",
       "      <td>...</td>\n",
       "    </tr>\n",
       "    <tr>\n",
       "      <th>56_318196_72038</th>\n",
       "      <td>60</td>\n",
       "      <td>Male</td>\n",
       "      <td>WhiteOnly</td>\n",
       "      <td>Non-Hispanic</td>\n",
       "      <td>Working</td>\n",
       "      <td>50.0</td>\n",
       "      <td>800.00</td>\n",
       "    </tr>\n",
       "    <tr>\n",
       "      <th>56_318201_72040</th>\n",
       "      <td>33</td>\n",
       "      <td>Male</td>\n",
       "      <td>WhiteOnly</td>\n",
       "      <td>Non-Hispanic</td>\n",
       "      <td>Working</td>\n",
       "      <td>60.0</td>\n",
       "      <td>1153.84</td>\n",
       "    </tr>\n",
       "    <tr>\n",
       "      <th>56_318204_72041</th>\n",
       "      <td>34</td>\n",
       "      <td>Male</td>\n",
       "      <td>WhiteOnly</td>\n",
       "      <td>Non-Hispanic</td>\n",
       "      <td>With a job but not at work</td>\n",
       "      <td>40.0</td>\n",
       "      <td>415.38</td>\n",
       "    </tr>\n",
       "    <tr>\n",
       "      <th>56_318205_72041</th>\n",
       "      <td>48</td>\n",
       "      <td>Male</td>\n",
       "      <td>WhiteOnly</td>\n",
       "      <td>Non-Hispanic</td>\n",
       "      <td>Working</td>\n",
       "      <td>50.0</td>\n",
       "      <td>1024.50</td>\n",
       "    </tr>\n",
       "    <tr>\n",
       "      <th>56_318206_72041</th>\n",
       "      <td>32</td>\n",
       "      <td>Male</td>\n",
       "      <td>WhiteOnly</td>\n",
       "      <td>Non-Hispanic</td>\n",
       "      <td>Working</td>\n",
       "      <td>40.0</td>\n",
       "      <td>1080.00</td>\n",
       "    </tr>\n",
       "  </tbody>\n",
       "</table>\n",
       "<p>134302 rows × 7 columns</p>\n",
       "</div>"
      ],
      "text/plain": [
       "                 age  gender       race     ethnicity  \\\n",
       "h_id                                                    \n",
       "1_1_1             32  Female  BlackOnly  Non-Hispanic   \n",
       "1_4_4             28    Male  WhiteOnly  Non-Hispanic   \n",
       "1_5_5             32    Male  WhiteOnly  Non-Hispanic   \n",
       "1_8_8             31    Male  WhiteOnly  Non-Hispanic   \n",
       "1_14_14           19  Female  BlackOnly  Non-Hispanic   \n",
       "...              ...     ...        ...           ...   \n",
       "56_318196_72038   60    Male  WhiteOnly  Non-Hispanic   \n",
       "56_318201_72040   33    Male  WhiteOnly  Non-Hispanic   \n",
       "56_318204_72041   34    Male  WhiteOnly  Non-Hispanic   \n",
       "56_318205_72041   48    Male  WhiteOnly  Non-Hispanic   \n",
       "56_318206_72041   32    Male  WhiteOnly  Non-Hispanic   \n",
       "\n",
       "                          employment_status  hours_worked_per_week  \\\n",
       "h_id                                                                 \n",
       "1_1_1                               Working                   40.0   \n",
       "1_4_4                               Working                   40.0   \n",
       "1_5_5                               Working                   52.0   \n",
       "1_8_8                               Working                   45.0   \n",
       "1_14_14                             Working                   40.0   \n",
       "...                                     ...                    ...   \n",
       "56_318196_72038                     Working                   50.0   \n",
       "56_318201_72040                     Working                   60.0   \n",
       "56_318204_72041  With a job but not at work                   40.0   \n",
       "56_318205_72041                     Working                   50.0   \n",
       "56_318206_72041                     Working                   40.0   \n",
       "\n",
       "                 earnings_per_week  \n",
       "h_id                                \n",
       "1_1_1                      1250.00  \n",
       "1_4_4                      1100.00  \n",
       "1_5_5                      1289.23  \n",
       "1_8_8                       866.25  \n",
       "1_14_14                     350.00  \n",
       "...                            ...  \n",
       "56_318196_72038             800.00  \n",
       "56_318201_72040            1153.84  \n",
       "56_318204_72041             415.38  \n",
       "56_318205_72041            1024.50  \n",
       "56_318206_72041            1080.00  \n",
       "\n",
       "[134302 rows x 7 columns]"
      ]
     },
     "execution_count": 36,
     "metadata": {},
     "output_type": "execute_result"
    }
   ],
   "source": [
    "# your code here\n",
    "morg_df[(morg_df['hours_worked_per_week']> 35) | (morg_df['earnings_per_week'] > 1000)]"
   ]
  },
  {
   "cell_type": "markdown",
   "id": "135cdf1f",
   "metadata": {},
   "source": [
    "**Task-3.11 (0.3pts)**: Use **matplotlib** to plot the histogram for \"earnings_per_week\"."
   ]
  },
  {
   "cell_type": "code",
   "execution_count": 37,
   "id": "06cfabd8",
   "metadata": {},
   "outputs": [],
   "source": [
    "%matplotlib inline\n",
    "import matplotlib.pyplot as plt"
   ]
  },
  {
   "cell_type": "code",
   "execution_count": 38,
   "id": "1bf69afb",
   "metadata": {},
   "outputs": [
    {
     "data": {
      "text/plain": [
       "array([1250.  ,    0.  ,    0.  , ..., 1024.5 , 1080.  ,  346.15])"
      ]
     },
     "execution_count": 38,
     "metadata": {},
     "output_type": "execute_result"
    }
   ],
   "source": [
    "# this is how you can get the values of a specific column\n",
    "morg_df['earnings_per_week'].values"
   ]
  },
  {
   "cell_type": "code",
   "execution_count": 39,
   "id": "01763b26",
   "metadata": {},
   "outputs": [
    {
     "data": {
      "text/plain": [
       "Text(0, 0.5, 'number of rows')"
      ]
     },
     "execution_count": 39,
     "metadata": {},
     "output_type": "execute_result"
    },
    {
     "data": {
      "image/png": "[encoded data removed]",
      "text/plain": [
       "<Figure size 640x480 with 1 Axes>"
      ]
     },
     "metadata": {},
     "output_type": "display_data"
    }
   ],
   "source": [
    "# your code here (fill-in the function to produce the following plot):\n",
    "plt.hist(morg_df['earnings_per_week'].values);\n",
    "plt.title('Histogram for earnings_per_week')\n",
    "plt.xlabel('earnings_per_week')\n",
    "plt.ylabel('number of rows')"
   ]
  },
  {
   "cell_type": "markdown",
   "id": "cfbfdbd3",
   "metadata": {},
   "source": [
    "### Summary\n",
    "Congratulations for completing this assignment!\n",
    "If you feel comfortable taking this assignment (in terms of the topics, depth, and length), then you're likely ready to dive into this course. However, if you find this assignment challenging, it might indicate that you need more programming preparation before enrolling in this course."
   ]
  }
 ],
 "metadata": {
  "kernelspec": {
   "display_name": "Python 3",
   "language": "python",
   "name": "python3"
  },
  "language_info": {
   "codemirror_mode": {
    "name": "ipython",
    "version": 3
   },
   "file_extension": ".py",
   "mimetype": "text/x-python",
   "name": "python",
   "nbconvert_exporter": "python",
   "pygments_lexer": "ipython3",
   "version": "3.12.2"
  },
  "toc": {
   "base_numbering": 1,
   "nav_menu": {},
   "number_sections": true,
   "sideBar": true,
   "skip_h1_title": false,
   "title_cell": "Table of Contents",
   "title_sidebar": "Contents",
   "toc_cell": false,
   "toc_position": {},
   "toc_section_display": true,
   "toc_window_display": false
  }
 },
 "nbformat": 4,
 "nbformat_minor": 5
}
